{
 "cells": [
  {
   "cell_type": "code",
   "execution_count": 1,
   "metadata": {},
   "outputs": [
    {
     "data": {
      "text/html": [
       "\n",
       "    <div class=\"bk-root\">\n",
       "        <a href=\"https://bokeh.pydata.org\" target=\"_blank\" class=\"bk-logo bk-logo-small bk-logo-notebook\"></a>\n",
       "        <span id=\"4ddf56ae-39bd-449b-bac1-9367341b3035\">Loading BokehJS ...</span>\n",
       "    </div>"
      ]
     },
     "metadata": {},
     "output_type": "display_data"
    },
    {
     "data": {
      "application/javascript": [
       "\n",
       "(function(root) {\n",
       "  function now() {\n",
       "    return new Date();\n",
       "  }\n",
       "\n",
       "  var force = true;\n",
       "\n",
       "  if (typeof (root._bokeh_onload_callbacks) === \"undefined\" || force === true) {\n",
       "    root._bokeh_onload_callbacks = [];\n",
       "    root._bokeh_is_loading = undefined;\n",
       "  }\n",
       "\n",
       "  var JS_MIME_TYPE = 'application/javascript';\n",
       "  var HTML_MIME_TYPE = 'text/html';\n",
       "  var EXEC_MIME_TYPE = 'application/vnd.bokehjs_exec.v0+json';\n",
       "  var CLASS_NAME = 'output_bokeh rendered_html';\n",
       "\n",
       "  /**\n",
       "   * Render data to the DOM node\n",
       "   */\n",
       "  function render(props, node) {\n",
       "    var script = document.createElement(\"script\");\n",
       "    node.appendChild(script);\n",
       "  }\n",
       "\n",
       "  /**\n",
       "   * Handle when an output is cleared or removed\n",
       "   */\n",
       "  function handleClearOutput(event, handle) {\n",
       "    var cell = handle.cell;\n",
       "\n",
       "    var id = cell.output_area._bokeh_element_id;\n",
       "    var server_id = cell.output_area._bokeh_server_id;\n",
       "    // Clean up Bokeh references\n",
       "    if (id != null && id in Bokeh.index) {\n",
       "      Bokeh.index[id].model.document.clear();\n",
       "      delete Bokeh.index[id];\n",
       "    }\n",
       "\n",
       "    if (server_id !== undefined) {\n",
       "      // Clean up Bokeh references\n",
       "      var cmd = \"from bokeh.io.state import curstate; print(curstate().uuid_to_server['\" + server_id + \"'].get_sessions()[0].document.roots[0]._id)\";\n",
       "      cell.notebook.kernel.execute(cmd, {\n",
       "        iopub: {\n",
       "          output: function(msg) {\n",
       "            var id = msg.content.text.trim();\n",
       "            if (id in Bokeh.index) {\n",
       "              Bokeh.index[id].model.document.clear();\n",
       "              delete Bokeh.index[id];\n",
       "            }\n",
       "          }\n",
       "        }\n",
       "      });\n",
       "      // Destroy server and session\n",
       "      var cmd = \"import bokeh.io.notebook as ion; ion.destroy_server('\" + server_id + \"')\";\n",
       "      cell.notebook.kernel.execute(cmd);\n",
       "    }\n",
       "  }\n",
       "\n",
       "  /**\n",
       "   * Handle when a new output is added\n",
       "   */\n",
       "  function handleAddOutput(event, handle) {\n",
       "    var output_area = handle.output_area;\n",
       "    var output = handle.output;\n",
       "\n",
       "    // limit handleAddOutput to display_data with EXEC_MIME_TYPE content only\n",
       "    if ((output.output_type != \"display_data\") || (!output.data.hasOwnProperty(EXEC_MIME_TYPE))) {\n",
       "      return\n",
       "    }\n",
       "\n",
       "    var toinsert = output_area.element.find(\".\" + CLASS_NAME.split(' ')[0]);\n",
       "\n",
       "    if (output.metadata[EXEC_MIME_TYPE][\"id\"] !== undefined) {\n",
       "      toinsert[toinsert.length - 1].firstChild.textContent = output.data[JS_MIME_TYPE];\n",
       "      // store reference to embed id on output_area\n",
       "      output_area._bokeh_element_id = output.metadata[EXEC_MIME_TYPE][\"id\"];\n",
       "    }\n",
       "    if (output.metadata[EXEC_MIME_TYPE][\"server_id\"] !== undefined) {\n",
       "      var bk_div = document.createElement(\"div\");\n",
       "      bk_div.innerHTML = output.data[HTML_MIME_TYPE];\n",
       "      var script_attrs = bk_div.children[0].attributes;\n",
       "      for (var i = 0; i < script_attrs.length; i++) {\n",
       "        toinsert[toinsert.length - 1].firstChild.setAttribute(script_attrs[i].name, script_attrs[i].value);\n",
       "      }\n",
       "      // store reference to server id on output_area\n",
       "      output_area._bokeh_server_id = output.metadata[EXEC_MIME_TYPE][\"server_id\"];\n",
       "    }\n",
       "  }\n",
       "\n",
       "  function register_renderer(events, OutputArea) {\n",
       "\n",
       "    function append_mime(data, metadata, element) {\n",
       "      // create a DOM node to render to\n",
       "      var toinsert = this.create_output_subarea(\n",
       "        metadata,\n",
       "        CLASS_NAME,\n",
       "        EXEC_MIME_TYPE\n",
       "      );\n",
       "      this.keyboard_manager.register_events(toinsert);\n",
       "      // Render to node\n",
       "      var props = {data: data, metadata: metadata[EXEC_MIME_TYPE]};\n",
       "      render(props, toinsert[toinsert.length - 1]);\n",
       "      element.append(toinsert);\n",
       "      return toinsert\n",
       "    }\n",
       "\n",
       "    /* Handle when an output is cleared or removed */\n",
       "    events.on('clear_output.CodeCell', handleClearOutput);\n",
       "    events.on('delete.Cell', handleClearOutput);\n",
       "\n",
       "    /* Handle when a new output is added */\n",
       "    events.on('output_added.OutputArea', handleAddOutput);\n",
       "\n",
       "    /**\n",
       "     * Register the mime type and append_mime function with output_area\n",
       "     */\n",
       "    OutputArea.prototype.register_mime_type(EXEC_MIME_TYPE, append_mime, {\n",
       "      /* Is output safe? */\n",
       "      safe: true,\n",
       "      /* Index of renderer in `output_area.display_order` */\n",
       "      index: 0\n",
       "    });\n",
       "  }\n",
       "\n",
       "  // register the mime type if in Jupyter Notebook environment and previously unregistered\n",
       "  if (root.Jupyter !== undefined) {\n",
       "    var events = require('base/js/events');\n",
       "    var OutputArea = require('notebook/js/outputarea').OutputArea;\n",
       "\n",
       "    if (OutputArea.prototype.mime_types().indexOf(EXEC_MIME_TYPE) == -1) {\n",
       "      register_renderer(events, OutputArea);\n",
       "    }\n",
       "  }\n",
       "\n",
       "  \n",
       "  if (typeof (root._bokeh_timeout) === \"undefined\" || force === true) {\n",
       "    root._bokeh_timeout = Date.now() + 5000;\n",
       "    root._bokeh_failed_load = false;\n",
       "  }\n",
       "\n",
       "  var NB_LOAD_WARNING = {'data': {'text/html':\n",
       "     \"<div style='background-color: #fdd'>\\n\"+\n",
       "     \"<p>\\n\"+\n",
       "     \"BokehJS does not appear to have successfully loaded. If loading BokehJS from CDN, this \\n\"+\n",
       "     \"may be due to a slow or bad network connection. Possible fixes:\\n\"+\n",
       "     \"</p>\\n\"+\n",
       "     \"<ul>\\n\"+\n",
       "     \"<li>re-rerun `output_notebook()` to attempt to load from CDN again, or</li>\\n\"+\n",
       "     \"<li>use INLINE resources instead, as so:</li>\\n\"+\n",
       "     \"</ul>\\n\"+\n",
       "     \"<code>\\n\"+\n",
       "     \"from bokeh.resources import INLINE\\n\"+\n",
       "     \"output_notebook(resources=INLINE)\\n\"+\n",
       "     \"</code>\\n\"+\n",
       "     \"</div>\"}};\n",
       "\n",
       "  function display_loaded() {\n",
       "    var el = document.getElementById(\"4ddf56ae-39bd-449b-bac1-9367341b3035\");\n",
       "    if (el != null) {\n",
       "      el.textContent = \"BokehJS is loading...\";\n",
       "    }\n",
       "    if (root.Bokeh !== undefined) {\n",
       "      if (el != null) {\n",
       "        el.textContent = \"BokehJS \" + root.Bokeh.version + \" successfully loaded.\";\n",
       "      }\n",
       "    } else if (Date.now() < root._bokeh_timeout) {\n",
       "      setTimeout(display_loaded, 100)\n",
       "    }\n",
       "  }\n",
       "\n",
       "\n",
       "  function run_callbacks() {\n",
       "    try {\n",
       "      root._bokeh_onload_callbacks.forEach(function(callback) { callback() });\n",
       "    }\n",
       "    finally {\n",
       "      delete root._bokeh_onload_callbacks\n",
       "    }\n",
       "    console.info(\"Bokeh: all callbacks have finished\");\n",
       "  }\n",
       "\n",
       "  function load_libs(js_urls, callback) {\n",
       "    root._bokeh_onload_callbacks.push(callback);\n",
       "    if (root._bokeh_is_loading > 0) {\n",
       "      console.log(\"Bokeh: BokehJS is being loaded, scheduling callback at\", now());\n",
       "      return null;\n",
       "    }\n",
       "    if (js_urls == null || js_urls.length === 0) {\n",
       "      run_callbacks();\n",
       "      return null;\n",
       "    }\n",
       "    console.log(\"Bokeh: BokehJS not loaded, scheduling load and callback at\", now());\n",
       "    root._bokeh_is_loading = js_urls.length;\n",
       "    for (var i = 0; i < js_urls.length; i++) {\n",
       "      var url = js_urls[i];\n",
       "      var s = document.createElement('script');\n",
       "      s.src = url;\n",
       "      s.async = false;\n",
       "      s.onreadystatechange = s.onload = function() {\n",
       "        root._bokeh_is_loading--;\n",
       "        if (root._bokeh_is_loading === 0) {\n",
       "          console.log(\"Bokeh: all BokehJS libraries loaded\");\n",
       "          run_callbacks()\n",
       "        }\n",
       "      };\n",
       "      s.onerror = function() {\n",
       "        console.warn(\"failed to load library \" + url);\n",
       "      };\n",
       "      console.log(\"Bokeh: injecting script tag for BokehJS library: \", url);\n",
       "      document.getElementsByTagName(\"head\")[0].appendChild(s);\n",
       "    }\n",
       "  };var element = document.getElementById(\"4ddf56ae-39bd-449b-bac1-9367341b3035\");\n",
       "  if (element == null) {\n",
       "    console.log(\"Bokeh: ERROR: autoload.js configured with elementid '4ddf56ae-39bd-449b-bac1-9367341b3035' but no matching script tag was found. \")\n",
       "    return false;\n",
       "  }\n",
       "\n",
       "  var js_urls = [\"https://cdn.pydata.org/bokeh/release/bokeh-0.13.0.min.js\", \"https://cdn.pydata.org/bokeh/release/bokeh-widgets-0.13.0.min.js\", \"https://cdn.pydata.org/bokeh/release/bokeh-tables-0.13.0.min.js\", \"https://cdn.pydata.org/bokeh/release/bokeh-gl-0.13.0.min.js\"];\n",
       "\n",
       "  var inline_js = [\n",
       "    function(Bokeh) {\n",
       "      Bokeh.set_log_level(\"info\");\n",
       "    },\n",
       "    \n",
       "    function(Bokeh) {\n",
       "      \n",
       "    },\n",
       "    function(Bokeh) {\n",
       "      console.log(\"Bokeh: injecting CSS: https://cdn.pydata.org/bokeh/release/bokeh-0.13.0.min.css\");\n",
       "      Bokeh.embed.inject_css(\"https://cdn.pydata.org/bokeh/release/bokeh-0.13.0.min.css\");\n",
       "      console.log(\"Bokeh: injecting CSS: https://cdn.pydata.org/bokeh/release/bokeh-widgets-0.13.0.min.css\");\n",
       "      Bokeh.embed.inject_css(\"https://cdn.pydata.org/bokeh/release/bokeh-widgets-0.13.0.min.css\");\n",
       "      console.log(\"Bokeh: injecting CSS: https://cdn.pydata.org/bokeh/release/bokeh-tables-0.13.0.min.css\");\n",
       "      Bokeh.embed.inject_css(\"https://cdn.pydata.org/bokeh/release/bokeh-tables-0.13.0.min.css\");\n",
       "    }\n",
       "  ];\n",
       "\n",
       "  function run_inline_js() {\n",
       "    \n",
       "    if ((root.Bokeh !== undefined) || (force === true)) {\n",
       "      for (var i = 0; i < inline_js.length; i++) {\n",
       "        inline_js[i].call(root, root.Bokeh);\n",
       "      }if (force === true) {\n",
       "        display_loaded();\n",
       "      }} else if (Date.now() < root._bokeh_timeout) {\n",
       "      setTimeout(run_inline_js, 100);\n",
       "    } else if (!root._bokeh_failed_load) {\n",
       "      console.log(\"Bokeh: BokehJS failed to load within specified timeout.\");\n",
       "      root._bokeh_failed_load = true;\n",
       "    } else if (force !== true) {\n",
       "      var cell = $(document.getElementById(\"4ddf56ae-39bd-449b-bac1-9367341b3035\")).parents('.cell').data().cell;\n",
       "      cell.output_area.append_execute_result(NB_LOAD_WARNING)\n",
       "    }\n",
       "\n",
       "  }\n",
       "\n",
       "  if (root._bokeh_is_loading === 0) {\n",
       "    console.log(\"Bokeh: BokehJS loaded, going straight to plotting\");\n",
       "    run_inline_js();\n",
       "  } else {\n",
       "    load_libs(js_urls, function() {\n",
       "      console.log(\"Bokeh: BokehJS plotting callback run at\", now());\n",
       "      run_inline_js();\n",
       "    });\n",
       "  }\n",
       "}(window));"
      ],
      "application/vnd.bokehjs_load.v0+json": "\n(function(root) {\n  function now() {\n    return new Date();\n  }\n\n  var force = true;\n\n  if (typeof (root._bokeh_onload_callbacks) === \"undefined\" || force === true) {\n    root._bokeh_onload_callbacks = [];\n    root._bokeh_is_loading = undefined;\n  }\n\n  \n\n  \n  if (typeof (root._bokeh_timeout) === \"undefined\" || force === true) {\n    root._bokeh_timeout = Date.now() + 5000;\n    root._bokeh_failed_load = false;\n  }\n\n  var NB_LOAD_WARNING = {'data': {'text/html':\n     \"<div style='background-color: #fdd'>\\n\"+\n     \"<p>\\n\"+\n     \"BokehJS does not appear to have successfully loaded. If loading BokehJS from CDN, this \\n\"+\n     \"may be due to a slow or bad network connection. Possible fixes:\\n\"+\n     \"</p>\\n\"+\n     \"<ul>\\n\"+\n     \"<li>re-rerun `output_notebook()` to attempt to load from CDN again, or</li>\\n\"+\n     \"<li>use INLINE resources instead, as so:</li>\\n\"+\n     \"</ul>\\n\"+\n     \"<code>\\n\"+\n     \"from bokeh.resources import INLINE\\n\"+\n     \"output_notebook(resources=INLINE)\\n\"+\n     \"</code>\\n\"+\n     \"</div>\"}};\n\n  function display_loaded() {\n    var el = document.getElementById(\"4ddf56ae-39bd-449b-bac1-9367341b3035\");\n    if (el != null) {\n      el.textContent = \"BokehJS is loading...\";\n    }\n    if (root.Bokeh !== undefined) {\n      if (el != null) {\n        el.textContent = \"BokehJS \" + root.Bokeh.version + \" successfully loaded.\";\n      }\n    } else if (Date.now() < root._bokeh_timeout) {\n      setTimeout(display_loaded, 100)\n    }\n  }\n\n\n  function run_callbacks() {\n    try {\n      root._bokeh_onload_callbacks.forEach(function(callback) { callback() });\n    }\n    finally {\n      delete root._bokeh_onload_callbacks\n    }\n    console.info(\"Bokeh: all callbacks have finished\");\n  }\n\n  function load_libs(js_urls, callback) {\n    root._bokeh_onload_callbacks.push(callback);\n    if (root._bokeh_is_loading > 0) {\n      console.log(\"Bokeh: BokehJS is being loaded, scheduling callback at\", now());\n      return null;\n    }\n    if (js_urls == null || js_urls.length === 0) {\n      run_callbacks();\n      return null;\n    }\n    console.log(\"Bokeh: BokehJS not loaded, scheduling load and callback at\", now());\n    root._bokeh_is_loading = js_urls.length;\n    for (var i = 0; i < js_urls.length; i++) {\n      var url = js_urls[i];\n      var s = document.createElement('script');\n      s.src = url;\n      s.async = false;\n      s.onreadystatechange = s.onload = function() {\n        root._bokeh_is_loading--;\n        if (root._bokeh_is_loading === 0) {\n          console.log(\"Bokeh: all BokehJS libraries loaded\");\n          run_callbacks()\n        }\n      };\n      s.onerror = function() {\n        console.warn(\"failed to load library \" + url);\n      };\n      console.log(\"Bokeh: injecting script tag for BokehJS library: \", url);\n      document.getElementsByTagName(\"head\")[0].appendChild(s);\n    }\n  };var element = document.getElementById(\"4ddf56ae-39bd-449b-bac1-9367341b3035\");\n  if (element == null) {\n    console.log(\"Bokeh: ERROR: autoload.js configured with elementid '4ddf56ae-39bd-449b-bac1-9367341b3035' but no matching script tag was found. \")\n    return false;\n  }\n\n  var js_urls = [\"https://cdn.pydata.org/bokeh/release/bokeh-0.13.0.min.js\", \"https://cdn.pydata.org/bokeh/release/bokeh-widgets-0.13.0.min.js\", \"https://cdn.pydata.org/bokeh/release/bokeh-tables-0.13.0.min.js\", \"https://cdn.pydata.org/bokeh/release/bokeh-gl-0.13.0.min.js\"];\n\n  var inline_js = [\n    function(Bokeh) {\n      Bokeh.set_log_level(\"info\");\n    },\n    \n    function(Bokeh) {\n      \n    },\n    function(Bokeh) {\n      console.log(\"Bokeh: injecting CSS: https://cdn.pydata.org/bokeh/release/bokeh-0.13.0.min.css\");\n      Bokeh.embed.inject_css(\"https://cdn.pydata.org/bokeh/release/bokeh-0.13.0.min.css\");\n      console.log(\"Bokeh: injecting CSS: https://cdn.pydata.org/bokeh/release/bokeh-widgets-0.13.0.min.css\");\n      Bokeh.embed.inject_css(\"https://cdn.pydata.org/bokeh/release/bokeh-widgets-0.13.0.min.css\");\n      console.log(\"Bokeh: injecting CSS: https://cdn.pydata.org/bokeh/release/bokeh-tables-0.13.0.min.css\");\n      Bokeh.embed.inject_css(\"https://cdn.pydata.org/bokeh/release/bokeh-tables-0.13.0.min.css\");\n    }\n  ];\n\n  function run_inline_js() {\n    \n    if ((root.Bokeh !== undefined) || (force === true)) {\n      for (var i = 0; i < inline_js.length; i++) {\n        inline_js[i].call(root, root.Bokeh);\n      }if (force === true) {\n        display_loaded();\n      }} else if (Date.now() < root._bokeh_timeout) {\n      setTimeout(run_inline_js, 100);\n    } else if (!root._bokeh_failed_load) {\n      console.log(\"Bokeh: BokehJS failed to load within specified timeout.\");\n      root._bokeh_failed_load = true;\n    } else if (force !== true) {\n      var cell = $(document.getElementById(\"4ddf56ae-39bd-449b-bac1-9367341b3035\")).parents('.cell').data().cell;\n      cell.output_area.append_execute_result(NB_LOAD_WARNING)\n    }\n\n  }\n\n  if (root._bokeh_is_loading === 0) {\n    console.log(\"Bokeh: BokehJS loaded, going straight to plotting\");\n    run_inline_js();\n  } else {\n    load_libs(js_urls, function() {\n      console.log(\"Bokeh: BokehJS plotting callback run at\", now());\n      run_inline_js();\n    });\n  }\n}(window));"
     },
     "metadata": {},
     "output_type": "display_data"
    }
   ],
   "source": [
    "import numpy as np\n",
    "import pandas as pd\n",
    "import matplotlib.pyplot as plt\n",
    "import seaborn as sns\n",
    "import missingno as msno\n",
    "\n",
    "from IPython import display\n",
    "\n",
    "from bokeh.io import output_notebook\n",
    "from bokeh.models import HoverTool\n",
    "from pandas_summary import DataFrameSummary\n",
    "from bokeh.io import output_file, show\n",
    "from bokeh.palettes import Category20c\n",
    "from bokeh.plotting import figure\n",
    "from bokeh.transform import cumsum\n",
    "from bokeh.models.annotations import Title\n",
    "\n",
    "from math import pi\n",
    "import warnings\n",
    "\n",
    "%matplotlib inline\n",
    "output_notebook()\n",
    "warnings.filterwarnings('ignore')\n"
   ]
  },
  {
   "cell_type": "code",
   "execution_count": 2,
   "metadata": {
    "collapsed": true
   },
   "outputs": [],
   "source": [
    "def to_categorical(dataset):\n",
    "    '''\n",
    "    input:  original dataset\n",
    "    output: convert the type of three features to categorical types and return the modified dataset\n",
    "    '''\n",
    "   \n",
    "    dataset['category_name'] = dataset['category_name'].astype('category')\n",
    "    dataset['brand_name'] = dataset['brand_name'].astype('category')\n",
    "    dataset['item_condition_id'] = dataset['item_condition_id'].astype('category')\n",
    "    \n",
    "    return dataset"
   ]
  },
  {
   "cell_type": "code",
   "execution_count": 3,
   "metadata": {
    "collapsed": true
   },
   "outputs": [],
   "source": [
    "def visualize_categories_L1(mean_L1):\n",
    "    '''\n",
    "    input:  mean_L1: dataframe containing the mean price for Level1 categories \n",
    "    output: bokeh chart visualizing the mean prices of Level1 categories\n",
    "    '''\n",
    "    output_file('categories_mean.html', mode=\"inline\")\n",
    "\n",
    "    \n",
    "    mean_L1['angle'] = mean_L1['mean_price_L1']/mean_L1['mean_price_L1'].sum() * 2*pi\n",
    "    mean_L1['color'] = Category20c[len(mean_L1.category_L1.unique())]\n",
    "    \n",
    "    TOOLTIPS = [\n",
    "        ('', \"@category_L1: @mean_price_L1\"),\n",
    "    ]\n",
    "    \n",
    "    p = figure(plot_height=350,tooltips=TOOLTIPS)\n",
    "    p.axis.visible = False\n",
    "    t = Title()\n",
    "    t.text = \"Mean prices for L1 Categories\"\n",
    "    p.title = t\n",
    "\n",
    "    p.annular_wedge(x=0, y=1, inner_radius=0.1, outer_radius=0.4,\n",
    "            start_angle=cumsum('angle', include_zero=True), end_angle=cumsum('angle'),\n",
    "            line_color=\"white\", fill_color='color', legend='category_L1', source=mean_L1)\n",
    "\n",
    "\n",
    "\n",
    "    show(p)"
   ]
  },
  {
   "cell_type": "code",
   "execution_count": 4,
   "metadata": {
    "collapsed": true
   },
   "outputs": [],
   "source": [
    "def visualize_subcategories_mean(df,category_L1):\n",
    "    '''\n",
    "    input:  df: dataframe containing the mean price for Level2 categories in df\n",
    "            category_L1: category_L1 for which category_L2 mean prices are visualized \n",
    "    output: bokeh chart visualizing the mean prices of Level2 categories for a given category_L1\n",
    "    '''\n",
    "    output_file(category_L1+'_subcategories_mean.html', mode=\"inline\")\n",
    "    \n",
    "    subset = df.loc[df['category_L1']==category_L1]\n",
    "    subset['angle'] = subset['price']/subset['price'].sum() * 2*pi\n",
    "    subset['color'] = Category20c[len(subset.category_L2.unique())]\n",
    "\n",
    "    TOOLTIPS = [\n",
    "        (\"\", \"@category_L2: @price\"),\n",
    "    ]\n",
    "\n",
    "\n",
    "    p = figure(plot_height=450,tooltips=TOOLTIPS)\n",
    "    p.axis.visible = False\n",
    "    t = Title()\n",
    "    t.text = \"Mean prices for L2 Categories of category \"+category_L1\n",
    "    p.title = t\n",
    "\n",
    "    p.annular_wedge(x=0, y=1, inner_radius=0.2, outer_radius=0.4,\n",
    "            start_angle=cumsum('angle', include_zero=True), end_angle=cumsum('angle'),\n",
    "            line_color=\"white\", fill_color='color', legend='category_L2', source=subset)\n",
    "\n",
    "\n",
    "\n",
    "    show(p)"
   ]
  },
  {
   "cell_type": "code",
   "execution_count": 5,
   "metadata": {
    "collapsed": true
   },
   "outputs": [],
   "source": [
    "# reading the dataset\n",
    "train = pd.read_csv('data/train.tsv', sep='\\t')"
   ]
  },
  {
   "cell_type": "markdown",
   "metadata": {},
   "source": [
    "# Data Understanding"
   ]
  },
  {
   "cell_type": "code",
   "execution_count": 6,
   "metadata": {},
   "outputs": [
    {
     "name": "stdout",
     "output_type": "stream",
     "text": [
      "In training set, number of rows are:  1482535 and number of columns are:  8\n"
     ]
    }
   ],
   "source": [
    "print(\"In training set, number of rows are: \", train.shape[0],\"and number of columns are: \", train.shape[1])"
   ]
  },
  {
   "cell_type": "code",
   "execution_count": 7,
   "metadata": {},
   "outputs": [
    {
     "data": {
      "text/html": [
       "<div>\n",
       "<style>\n",
       "    .dataframe thead tr:only-child th {\n",
       "        text-align: right;\n",
       "    }\n",
       "\n",
       "    .dataframe thead th {\n",
       "        text-align: left;\n",
       "    }\n",
       "\n",
       "    .dataframe tbody tr th {\n",
       "        vertical-align: top;\n",
       "    }\n",
       "</style>\n",
       "<table border=\"1\" class=\"dataframe\">\n",
       "  <thead>\n",
       "    <tr style=\"text-align: right;\">\n",
       "      <th></th>\n",
       "      <th>train_id</th>\n",
       "      <th>name</th>\n",
       "      <th>item_condition_id</th>\n",
       "      <th>category_name</th>\n",
       "      <th>brand_name</th>\n",
       "      <th>price</th>\n",
       "      <th>shipping</th>\n",
       "      <th>item_description</th>\n",
       "    </tr>\n",
       "  </thead>\n",
       "  <tbody>\n",
       "    <tr>\n",
       "      <th>0</th>\n",
       "      <td>0</td>\n",
       "      <td>MLB Cincinnati Reds T Shirt Size XL</td>\n",
       "      <td>3</td>\n",
       "      <td>Men/Tops/T-shirts</td>\n",
       "      <td>NaN</td>\n",
       "      <td>10.0</td>\n",
       "      <td>1</td>\n",
       "      <td>No description yet</td>\n",
       "    </tr>\n",
       "    <tr>\n",
       "      <th>1</th>\n",
       "      <td>1</td>\n",
       "      <td>Razer BlackWidow Chroma Keyboard</td>\n",
       "      <td>3</td>\n",
       "      <td>Electronics/Computers &amp; Tablets/Components &amp; P...</td>\n",
       "      <td>Razer</td>\n",
       "      <td>52.0</td>\n",
       "      <td>0</td>\n",
       "      <td>This keyboard is in great condition and works ...</td>\n",
       "    </tr>\n",
       "    <tr>\n",
       "      <th>2</th>\n",
       "      <td>2</td>\n",
       "      <td>AVA-VIV Blouse</td>\n",
       "      <td>1</td>\n",
       "      <td>Women/Tops &amp; Blouses/Blouse</td>\n",
       "      <td>Target</td>\n",
       "      <td>10.0</td>\n",
       "      <td>1</td>\n",
       "      <td>Adorable top with a hint of lace and a key hol...</td>\n",
       "    </tr>\n",
       "    <tr>\n",
       "      <th>3</th>\n",
       "      <td>3</td>\n",
       "      <td>Leather Horse Statues</td>\n",
       "      <td>1</td>\n",
       "      <td>Home/Home Décor/Home Décor Accents</td>\n",
       "      <td>NaN</td>\n",
       "      <td>35.0</td>\n",
       "      <td>1</td>\n",
       "      <td>New with tags. Leather horses. Retail for [rm]...</td>\n",
       "    </tr>\n",
       "    <tr>\n",
       "      <th>4</th>\n",
       "      <td>4</td>\n",
       "      <td>24K GOLD plated rose</td>\n",
       "      <td>1</td>\n",
       "      <td>Women/Jewelry/Necklaces</td>\n",
       "      <td>NaN</td>\n",
       "      <td>44.0</td>\n",
       "      <td>0</td>\n",
       "      <td>Complete with certificate of authenticity</td>\n",
       "    </tr>\n",
       "  </tbody>\n",
       "</table>\n",
       "</div>"
      ],
      "text/plain": [
       "   train_id                                 name  item_condition_id  \\\n",
       "0         0  MLB Cincinnati Reds T Shirt Size XL                  3   \n",
       "1         1     Razer BlackWidow Chroma Keyboard                  3   \n",
       "2         2                       AVA-VIV Blouse                  1   \n",
       "3         3                Leather Horse Statues                  1   \n",
       "4         4                 24K GOLD plated rose                  1   \n",
       "\n",
       "                                       category_name brand_name  price  \\\n",
       "0                                  Men/Tops/T-shirts        NaN   10.0   \n",
       "1  Electronics/Computers & Tablets/Components & P...      Razer   52.0   \n",
       "2                        Women/Tops & Blouses/Blouse     Target   10.0   \n",
       "3                 Home/Home Décor/Home Décor Accents        NaN   35.0   \n",
       "4                            Women/Jewelry/Necklaces        NaN   44.0   \n",
       "\n",
       "   shipping                                   item_description  \n",
       "0         1                                 No description yet  \n",
       "1         0  This keyboard is in great condition and works ...  \n",
       "2         1  Adorable top with a hint of lace and a key hol...  \n",
       "3         1  New with tags. Leather horses. Retail for [rm]...  \n",
       "4         0          Complete with certificate of authenticity  "
      ]
     },
     "execution_count": 7,
     "metadata": {},
     "output_type": "execute_result"
    }
   ],
   "source": [
    "# checking a few examples of products\n",
    "train.head(5)"
   ]
  },
  {
   "cell_type": "code",
   "execution_count": 8,
   "metadata": {},
   "outputs": [
    {
     "data": {
      "text/plain": [
       "train_id              0.000000\n",
       "name                  0.000000\n",
       "item_condition_id     0.000000\n",
       "category_name         0.426769\n",
       "brand_name           42.675687\n",
       "price                 0.000000\n",
       "shipping              0.000000\n",
       "item_description      0.000270\n",
       "dtype: float64"
      ]
     },
     "execution_count": 8,
     "metadata": {},
     "output_type": "execute_result"
    }
   ],
   "source": [
    "# checking nans percentage in different columns\n",
    "train.isnull().mean()*100"
   ]
  },
  {
   "cell_type": "code",
   "execution_count": 9,
   "metadata": {},
   "outputs": [
    {
     "data": {
      "text/plain": [
       "train_id               int64\n",
       "name                  object\n",
       "item_condition_id      int64\n",
       "category_name         object\n",
       "brand_name            object\n",
       "price                float64\n",
       "shipping               int64\n",
       "item_description      object\n",
       "dtype: object"
      ]
     },
     "execution_count": 9,
     "metadata": {},
     "output_type": "execute_result"
    }
   ],
   "source": [
    "# data types of the features\n",
    "train.dtypes"
   ]
  },
  {
   "cell_type": "markdown",
   "metadata": {},
   "source": [
    "## Data Preperation: Type conversions\n",
    "Three of the features represent categorical data but pandas read it either as integers or object data types. These features are:\n",
    "- item_description_id\n",
    "- category name\n",
    "- brand_name\n",
    "\n",
    "It is important to convert the feature data types for further data analysis"
   ]
  },
  {
   "cell_type": "code",
   "execution_count": 10,
   "metadata": {
    "collapsed": true
   },
   "outputs": [],
   "source": [
    "train = to_categorical(train)"
   ]
  },
  {
   "cell_type": "markdown",
   "metadata": {},
   "source": [
    "# Data Analysis"
   ]
  },
  {
   "cell_type": "markdown",
   "metadata": {
    "collapsed": true
   },
   "source": [
    "Here, we will try to get the idea about the business. Following questions are raised after looking at the data above:\n",
    "- What is the overall condition of the products?\n",
    "- What is the shipment process and how it impacts the product price?\n",
    "- How important is the brand name, which brands are popular and which ones are most expensive?\n",
    "- What kind of products are popular and what kind of products are more expensive?\n",
    "- Is there any free product?\n",
    "\n",
    "But we will start first with analyzing the price feature. "
   ]
  },
  {
   "cell_type": "code",
   "execution_count": 11,
   "metadata": {
    "collapsed": true
   },
   "outputs": [],
   "source": [
    "# what is the variation in prices"
   ]
  },
  {
   "cell_type": "code",
   "execution_count": 12,
   "metadata": {},
   "outputs": [
    {
     "data": {
      "text/plain": [
       "count    1.482535e+06\n",
       "mean     2.673752e+01\n",
       "std      3.858607e+01\n",
       "min      0.000000e+00\n",
       "25%      1.000000e+01\n",
       "50%      1.700000e+01\n",
       "75%      2.900000e+01\n",
       "max      2.009000e+03\n",
       "Name: price, dtype: float64"
      ]
     },
     "execution_count": 12,
     "metadata": {},
     "output_type": "execute_result"
    }
   ],
   "source": [
    "# its a continuos col\n",
    "train.price.describe()"
   ]
  },
  {
   "cell_type": "code",
   "execution_count": 13,
   "metadata": {},
   "outputs": [
    {
     "data": {
      "text/plain": [
       "29.0"
      ]
     },
     "execution_count": 13,
     "metadata": {},
     "output_type": "execute_result"
    }
   ],
   "source": [
    "train.price.quantile(0.75) "
   ]
  },
  {
   "cell_type": "code",
   "execution_count": 14,
   "metadata": {},
   "outputs": [
    {
     "data": {
      "text/plain": [
       "170.0"
      ]
     },
     "execution_count": 14,
     "metadata": {},
     "output_type": "execute_result"
    }
   ],
   "source": [
    "train.price.quantile(0.99) "
   ]
  },
  {
   "cell_type": "code",
   "execution_count": 15,
   "metadata": {},
   "outputs": [
    {
     "data": {
      "text/plain": [
       "[<matplotlib.text.Text at 0x7fe717f3e518>]"
      ]
     },
     "execution_count": 15,
     "metadata": {},
     "output_type": "execute_result"
    },
    {
     "data": {
      "image/png": "[encoded data removed]",
      "text/plain": [
       "<matplotlib.figure.Figure at 0x7fe7685b35f8>"
      ]
     },
     "metadata": {},
     "output_type": "display_data"
    }
   ],
   "source": [
    "ax = sns.kdeplot(train.price, shade = True)\n",
    "ax.set(xlabel='Price')\n",
    "ax.set(title=\"Price Distribution\")\n",
    "# rightly skewed distribution not uniformly distributed"
   ]
  },
  {
   "cell_type": "code",
   "execution_count": 16,
   "metadata": {},
   "outputs": [
    {
     "data": {
      "text/plain": [
       "[<matplotlib.text.Text at 0x7fe717e902e8>]"
      ]
     },
     "execution_count": 16,
     "metadata": {},
     "output_type": "execute_result"
    },
    {
     "data": {
      "image/png": "[encoded data removed]",
      "text/plain": [
       "<matplotlib.figure.Figure at 0x7fe717ee08d0>"
      ]
     },
     "metadata": {},
     "output_type": "display_data"
    }
   ],
   "source": [
    "ax = sns.kdeplot(np.log1p(train.price), shade = True)\n",
    "ax.set(xlabel='log1p(Price)')\n",
    "ax.set(title=\"log1p(Price) Distribution\")\n",
    "# need a log distribution to have it uniformly distrubted, it is except right side"
   ]
  },
  {
   "cell_type": "markdown",
   "metadata": {
    "collapsed": true
   },
   "source": [
    "# Q1: What is the overall condition of the products available? "
   ]
  },
  {
   "cell_type": "code",
   "execution_count": 17,
   "metadata": {},
   "outputs": [
    {
     "data": {
      "text/html": [
       "<div>\n",
       "<style>\n",
       "    .dataframe thead tr:only-child th {\n",
       "        text-align: right;\n",
       "    }\n",
       "\n",
       "    .dataframe thead th {\n",
       "        text-align: left;\n",
       "    }\n",
       "\n",
       "    .dataframe tbody tr th {\n",
       "        vertical-align: top;\n",
       "    }\n",
       "</style>\n",
       "<table border=\"1\" class=\"dataframe\">\n",
       "  <thead>\n",
       "    <tr style=\"text-align: right;\">\n",
       "      <th></th>\n",
       "      <th>item_condition_id</th>\n",
       "    </tr>\n",
       "  </thead>\n",
       "  <tbody>\n",
       "    <tr>\n",
       "      <th>1</th>\n",
       "      <td>43.206332</td>\n",
       "    </tr>\n",
       "    <tr>\n",
       "      <th>3</th>\n",
       "      <td>29.150138</td>\n",
       "    </tr>\n",
       "    <tr>\n",
       "      <th>2</th>\n",
       "      <td>25.326822</td>\n",
       "    </tr>\n",
       "    <tr>\n",
       "      <th>4</th>\n",
       "      <td>2.155902</td>\n",
       "    </tr>\n",
       "    <tr>\n",
       "      <th>5</th>\n",
       "      <td>0.160806</td>\n",
       "    </tr>\n",
       "  </tbody>\n",
       "</table>\n",
       "</div>"
      ],
      "text/plain": [
       "   item_condition_id\n",
       "1          43.206332\n",
       "3          29.150138\n",
       "2          25.326822\n",
       "4           2.155902\n",
       "5           0.160806"
      ]
     },
     "execution_count": 17,
     "metadata": {},
     "output_type": "execute_result"
    }
   ],
   "source": [
    "item_condition_df = pd.DataFrame(train.item_condition_id.value_counts(normalize=True)*100)\n",
    "item_condition_df"
   ]
  },
  {
   "cell_type": "code",
   "execution_count": 18,
   "metadata": {},
   "outputs": [
    {
     "data": {
      "text/plain": [
       "[<matplotlib.text.Text at 0x7fe717e134a8>]"
      ]
     },
     "execution_count": 18,
     "metadata": {},
     "output_type": "execute_result"
    },
    {
     "data": {
      "image/png": "[encoded data removed]",
      "text/plain": [
       "<matplotlib.figure.Figure at 0x7fe717efcc50>"
      ]
     },
     "metadata": {},
     "output_type": "display_data"
    }
   ],
   "source": [
    "sns.set(style=\"whitegrid\")\n",
    "plt.subplots(figsize=(5,5))\n",
    "plt.xlabel = \"Item Condition\"\n",
    "plt.ylabel = \"\"\n",
    "ax = sns.barplot(x=item_condition_df.index, y=item_condition_df.item_condition_id)\n",
    "ax.set(xlabel='Item Coniditon ID', ylabel='Number of products %')\n",
    "ax.set(title=\"Products Condition\")"
   ]
  },
  {
   "cell_type": "markdown",
   "metadata": {},
   "source": [
    "- Check if the item_condition_id=1 represent good condition products or worse condition products\n",
    "- We can check the description of the products to come up with the conclusion"
   ]
  },
  {
   "cell_type": "code",
   "execution_count": 19,
   "metadata": {},
   "outputs": [
    {
     "data": {
      "text/plain": [
       "2     Adorable top with a hint of lace and a key hol...\n",
       "3     New with tags. Leather horses. Retail for [rm]...\n",
       "4             Complete with certificate of authenticity\n",
       "11    (5) new vs pink body mists (2.5 oz each) Fresh...\n",
       "13                                   No description yet\n",
       "15    Brand new. Deluxe travel size products. Contai...\n",
       "16    2 glitter eyeshadows; one in Brass and one in ...\n",
       "17    Brand new in box Size: Medium Color: Coral Ret...\n",
       "18    This AUTHENTIC pallete by Too Faced is brand n...\n",
       "21    NWT Victoria's Secret ULTIMATE SPORT BRA -MAXI...\n",
       "Name: item_description, dtype: object"
      ]
     },
     "execution_count": 19,
     "metadata": {},
     "output_type": "execute_result"
    }
   ],
   "source": [
    "\n",
    "train.item_description[train.item_condition_id==1][:10]"
   ]
  },
  {
   "cell_type": "code",
   "execution_count": 20,
   "metadata": {},
   "outputs": [
    {
     "data": {
      "text/plain": [
       "258     Powers on, no screen display, no external dama...\n",
       "653                                    No description yet\n",
       "1027                 10k gold 18\" chain. Broken at clasp.\n",
       "2436    For parts . Turns on and hold battery charge ....\n",
       "2803    2 pounds of junk jewelry, There are some items...\n",
       "3177                                   No description yet\n",
       "3394                                  For parts or repair\n",
       "4948         moving out so just dont wanna keep For Free！\n",
       "5055                      Powers on but won't play games.\n",
       "5938    Alex and ani rafaelian gold set of four bracel...\n",
       "Name: item_description, dtype: object"
      ]
     },
     "execution_count": 20,
     "metadata": {},
     "output_type": "execute_result"
    }
   ],
   "source": [
    "train.item_description[train.item_condition_id==5][:10]"
   ]
  },
  {
   "cell_type": "markdown",
   "metadata": {},
   "source": [
    "- Words like brand new, new and shows that item_condition_id=1 represent good condition products\n",
    "- Description shows that item_condition_id=5 represent worse condition products. e.g. Powers on, no screen display, Broken at clasp etc\n"
   ]
  },
  {
   "cell_type": "markdown",
   "metadata": {
    "collapsed": true
   },
   "source": [
    "# Q2: Who is responsible for the shipment of prodcuts and how it impacts the product price?"
   ]
  },
  {
   "cell_type": "code",
   "execution_count": 21,
   "metadata": {},
   "outputs": [
    {
     "data": {
      "text/html": [
       "<div>\n",
       "<style>\n",
       "    .dataframe thead tr:only-child th {\n",
       "        text-align: right;\n",
       "    }\n",
       "\n",
       "    .dataframe thead th {\n",
       "        text-align: left;\n",
       "    }\n",
       "\n",
       "    .dataframe tbody tr th {\n",
       "        vertical-align: top;\n",
       "    }\n",
       "</style>\n",
       "<table border=\"1\" class=\"dataframe\">\n",
       "  <thead>\n",
       "    <tr style=\"text-align: right;\">\n",
       "      <th></th>\n",
       "      <th>shipping</th>\n",
       "    </tr>\n",
       "  </thead>\n",
       "  <tbody>\n",
       "    <tr>\n",
       "      <th>0</th>\n",
       "      <td>55.272557</td>\n",
       "    </tr>\n",
       "    <tr>\n",
       "      <th>1</th>\n",
       "      <td>44.727443</td>\n",
       "    </tr>\n",
       "  </tbody>\n",
       "</table>\n",
       "</div>"
      ],
      "text/plain": [
       "    shipping\n",
       "0  55.272557\n",
       "1  44.727443"
      ]
     },
     "execution_count": 21,
     "metadata": {},
     "output_type": "execute_result"
    }
   ],
   "source": [
    "#shipping condition\n",
    "shipping_df = pd.DataFrame(train.shipping.value_counts(normalize=True)*100)\n",
    "shipping_df"
   ]
  },
  {
   "cell_type": "code",
   "execution_count": 22,
   "metadata": {},
   "outputs": [
    {
     "data": {
      "text/plain": [
       "[<matplotlib.text.Text at 0x7fe717d8c828>]"
      ]
     },
     "execution_count": 22,
     "metadata": {},
     "output_type": "execute_result"
    },
    {
     "data": {
      "image/png": "[encoded data removed]",
      "text/plain": [
       "<matplotlib.figure.Figure at 0x7fe717e01828>"
      ]
     },
     "metadata": {},
     "output_type": "display_data"
    }
   ],
   "source": [
    "sns.set(style=\"whitegrid\")\n",
    "plt.subplots(figsize=(5,5))\n",
    "ax = sns.barplot(x=shipping_df.index, y=shipping_df.shipping)\n",
    "ax.set(xlabel='Shipping Coniditon', ylabel='Number of products %')\n",
    "ax.set(title=\"Products Shipping\")"
   ]
  },
  {
   "cell_type": "code",
   "execution_count": 23,
   "metadata": {},
   "outputs": [
    {
     "data": {
      "text/plain": [
       "shipping\n",
       "0    30.111778\n",
       "1    22.567726\n",
       "Name: price, dtype: float64"
      ]
     },
     "execution_count": 23,
     "metadata": {},
     "output_type": "execute_result"
    }
   ],
   "source": [
    "# price analysis for different shipping conditions\n",
    "train.groupby('shipping').price.mean()\n"
   ]
  },
  {
   "cell_type": "code",
   "execution_count": 24,
   "metadata": {
    "collapsed": true
   },
   "outputs": [],
   "source": [
    "seller_shipping= train.loc[train.shipping==1].price\n",
    "not_seller_shipping = train.loc[train.shipping==0].price"
   ]
  },
  {
   "cell_type": "code",
   "execution_count": 25,
   "metadata": {},
   "outputs": [
    {
     "data": {
      "text/plain": [
       "[<matplotlib.text.Text at 0x7fe717d66fd0>]"
      ]
     },
     "execution_count": 25,
     "metadata": {},
     "output_type": "execute_result"
    },
    {
     "data": {
      "image/png": "[encoded data removed]",
      "text/plain": [
       "<matplotlib.figure.Figure at 0x7fe717de7668>"
      ]
     },
     "metadata": {},
     "output_type": "display_data"
    }
   ],
   "source": [
    "ax = sns.kdeplot(np.log1p(seller_shipping),label=\"shipping: 1\",\n",
    "                   shade=True, shade_lowest=False)\n",
    "ax = sns.kdeplot(np.log1p(not_seller_shipping),label=\"shipping: 0\",\n",
    "                   shade=True, shade_lowest=False)\n",
    "ax.set(xlabel='log1p(Price)')\n",
    "ax.set(title=\"log1p(Price) Distribution for different shipping conditions\")"
   ]
  },
  {
   "cell_type": "markdown",
   "metadata": {
    "collapsed": true
   },
   "source": [
    "# Q3: How important is the brand name, which brands are popular and which ones are most expensive?\n"
   ]
  },
  {
   "cell_type": "code",
   "execution_count": 26,
   "metadata": {},
   "outputs": [
    {
     "data": {
      "text/plain": [
       "4809"
      ]
     },
     "execution_count": 26,
     "metadata": {},
     "output_type": "execute_result"
    }
   ],
   "source": [
    "train.brand_name.nunique()"
   ]
  },
  {
   "cell_type": "code",
   "execution_count": 27,
   "metadata": {},
   "outputs": [
    {
     "data": {
      "text/plain": [
       "[nan,\n",
       " 'Razer',\n",
       " 'Target',\n",
       " 'Acacia Swimwear',\n",
       " 'Soffe',\n",
       " 'Nike',\n",
       " 'Smashbox',\n",
       " \"Victoria's Secret\",\n",
       " 'rue',\n",
       " 'Scholastic',\n",
       " 'UGG Australia',\n",
       " 'Tarte',\n",
       " 'Wet n Wild',\n",
       " 'Too Faced',\n",
       " 'Anthropologie',\n",
       " 'Torrid',\n",
       " 'Samsung',\n",
       " 'FOREVER 21',\n",
       " 'Air Jordan',\n",
       " 'Apple']"
      ]
     },
     "execution_count": 27,
     "metadata": {},
     "output_type": "execute_result"
    }
   ],
   "source": [
    "brand_names_list = list(train.brand_name.unique())\n",
    "brand_names_list[:20]"
   ]
  },
  {
   "cell_type": "code",
   "execution_count": 28,
   "metadata": {
    "collapsed": true
   },
   "outputs": [],
   "source": [
    "branded_products = train[train.brand_name.isnull()==False]\n",
    "non_branded_products = train[train.brand_name.isnull()==True]\n"
   ]
  },
  {
   "cell_type": "code",
   "execution_count": 29,
   "metadata": {},
   "outputs": [
    {
     "data": {
      "text/plain": [
       "57.32431274809701"
      ]
     },
     "execution_count": 29,
     "metadata": {},
     "output_type": "execute_result"
    }
   ],
   "source": [
    "branded_products.shape[0]/train.shape[0]*100"
   ]
  },
  {
   "cell_type": "code",
   "execution_count": 30,
   "metadata": {},
   "outputs": [
    {
     "data": {
      "text/plain": [
       "42.675687251902986"
      ]
     },
     "execution_count": 30,
     "metadata": {},
     "output_type": "execute_result"
    }
   ],
   "source": [
    "non_branded_products.shape[0]/train.shape[0]*100"
   ]
  },
  {
   "cell_type": "code",
   "execution_count": 31,
   "metadata": {},
   "outputs": [
    {
     "data": {
      "text/plain": [
       "30.909519646338836"
      ]
     },
     "execution_count": 31,
     "metadata": {},
     "output_type": "execute_result"
    }
   ],
   "source": [
    "branded_products.price.mean()"
   ]
  },
  {
   "cell_type": "code",
   "execution_count": 32,
   "metadata": {},
   "outputs": [
    {
     "data": {
      "text/plain": [
       "21.13345329881362"
      ]
     },
     "execution_count": 32,
     "metadata": {},
     "output_type": "execute_result"
    }
   ],
   "source": [
    "non_branded_products.price.mean()"
   ]
  },
  {
   "cell_type": "code",
   "execution_count": null,
   "metadata": {
    "collapsed": true
   },
   "outputs": [],
   "source": []
  },
  {
   "cell_type": "code",
   "execution_count": 33,
   "metadata": {},
   "outputs": [
    {
     "data": {
      "text/plain": [
       "PINK                 6.364395\n",
       "Nike                 6.359100\n",
       "Victoria's Secret    5.652272\n",
       "LuLaRoe              3.650514\n",
       "Apple                2.038235\n",
       "FOREVER 21           1.786897\n",
       "Nintendo             1.765835\n",
       "Lululemon            1.713002\n",
       "Michael Kors         1.638872\n",
       "American Eagle       1.559564\n",
       "Name: brand_name, dtype: float64"
      ]
     },
     "execution_count": 33,
     "metadata": {},
     "output_type": "execute_result"
    }
   ],
   "source": [
    "#43% values contain NaNs, top most frequent brands from remaining 57% data are\n",
    "train.brand_name.value_counts(normalize=True,dropna=True).nlargest(10)*100"
   ]
  },
  {
   "cell_type": "code",
   "execution_count": 34,
   "metadata": {},
   "outputs": [
    {
     "data": {
      "text/plain": [
       "[<matplotlib.text.Text at 0x7fe717cf6978>]"
      ]
     },
     "execution_count": 34,
     "metadata": {},
     "output_type": "execute_result"
    },
    {
     "data": {
      "image/png": "[encoded data removed]",
      "text/plain": [
       "<matplotlib.figure.Figure at 0x7fe717d3ccf8>"
      ]
     },
     "metadata": {},
     "output_type": "display_data"
    }
   ],
   "source": [
    "## most expensive brands\n",
    "fig, ax = plt.subplots(figsize=(15,7))\n",
    "train.groupby(['brand_name']).mean()['price'].nlargest(10).plot(ax=ax)\n",
    "ax.set(xlabel='Brand Name', ylabel='Mean Price')\n",
    "ax.set(title=\"Most Expensive Brands\")"
   ]
  },
  {
   "cell_type": "markdown",
   "metadata": {
    "collapsed": true
   },
   "source": [
    "# Q4: What kind of products are popular and what kind of products are more expensive?\n"
   ]
  },
  {
   "cell_type": "code",
   "execution_count": 35,
   "metadata": {},
   "outputs": [
    {
     "name": "stdout",
     "output_type": "stream",
     "text": [
      "There are 1287 unique values in the category column.\n"
     ]
    }
   ],
   "source": [
    "print(\"There are %d unique values in the category column.\" % train['category_name'].nunique())"
   ]
  },
  {
   "cell_type": "code",
   "execution_count": 36,
   "metadata": {},
   "outputs": [
    {
     "data": {
      "text/plain": [
       "Women/Athletic Apparel/Pants, Tights, Leggings                 4.076458\n",
       "Women/Tops & Blouses/T-Shirts                                  3.141834\n",
       "Beauty/Makeup/Face                                             2.325892\n",
       "Beauty/Makeup/Lips                                             2.026137\n",
       "Electronics/Video Games & Consoles/Games                       1.799001\n",
       "Beauty/Makeup/Eyes                                             1.708093\n",
       "Electronics/Cell Phones & Accessories/Cases, Covers & Skins    1.671580\n",
       "Women/Underwear/Bras                                           1.441125\n",
       "Women/Tops & Blouses/Tank, Cami                                1.374061\n",
       "Women/Tops & Blouses/Blouse                                    1.374061\n",
       "Name: category_name, dtype: float64"
      ]
     },
     "execution_count": 36,
     "metadata": {},
     "output_type": "execute_result"
    }
   ],
   "source": [
    "train['category_name'].value_counts(normalize=True)[:10]*100"
   ]
  },
  {
   "cell_type": "code",
   "execution_count": 37,
   "metadata": {},
   "outputs": [
    {
     "data": {
      "text/html": [
       "<div>\n",
       "<style>\n",
       "    .dataframe thead tr:only-child th {\n",
       "        text-align: right;\n",
       "    }\n",
       "\n",
       "    .dataframe thead th {\n",
       "        text-align: left;\n",
       "    }\n",
       "\n",
       "    .dataframe tbody tr th {\n",
       "        vertical-align: top;\n",
       "    }\n",
       "</style>\n",
       "<table border=\"1\" class=\"dataframe\">\n",
       "  <thead>\n",
       "    <tr style=\"text-align: right;\">\n",
       "      <th></th>\n",
       "      <th>train_id</th>\n",
       "      <th>name</th>\n",
       "      <th>item_condition_id</th>\n",
       "      <th>category_name</th>\n",
       "      <th>brand_name</th>\n",
       "      <th>price</th>\n",
       "      <th>shipping</th>\n",
       "      <th>item_description</th>\n",
       "    </tr>\n",
       "    <tr>\n",
       "      <th>category_name</th>\n",
       "      <th></th>\n",
       "      <th></th>\n",
       "      <th></th>\n",
       "      <th></th>\n",
       "      <th></th>\n",
       "      <th></th>\n",
       "      <th></th>\n",
       "      <th></th>\n",
       "    </tr>\n",
       "  </thead>\n",
       "  <tbody>\n",
       "    <tr>\n",
       "      <th>2.0</th>\n",
       "      <td>1471819</td>\n",
       "      <td>1471819</td>\n",
       "      <td>1471819</td>\n",
       "      <td>1471819</td>\n",
       "      <td>844461</td>\n",
       "      <td>1471819</td>\n",
       "      <td>1471819</td>\n",
       "      <td>1471815</td>\n",
       "    </tr>\n",
       "    <tr>\n",
       "      <th>3.0</th>\n",
       "      <td>1330</td>\n",
       "      <td>1330</td>\n",
       "      <td>1330</td>\n",
       "      <td>1330</td>\n",
       "      <td>372</td>\n",
       "      <td>1330</td>\n",
       "      <td>1330</td>\n",
       "      <td>1330</td>\n",
       "    </tr>\n",
       "    <tr>\n",
       "      <th>4.0</th>\n",
       "      <td>3059</td>\n",
       "      <td>3059</td>\n",
       "      <td>3059</td>\n",
       "      <td>3059</td>\n",
       "      <td>2150</td>\n",
       "      <td>3059</td>\n",
       "      <td>3059</td>\n",
       "      <td>3059</td>\n",
       "    </tr>\n",
       "  </tbody>\n",
       "</table>\n",
       "</div>"
      ],
      "text/plain": [
       "               train_id     name  item_condition_id  category_name  \\\n",
       "category_name                                                        \n",
       "2.0             1471819  1471819            1471819        1471819   \n",
       "3.0                1330     1330               1330           1330   \n",
       "4.0                3059     3059               3059           3059   \n",
       "\n",
       "               brand_name    price  shipping  item_description  \n",
       "category_name                                                   \n",
       "2.0                844461  1471819   1471819           1471815  \n",
       "3.0                   372     1330      1330              1330  \n",
       "4.0                  2150     3059      3059              3059  "
      ]
     },
     "execution_count": 37,
     "metadata": {},
     "output_type": "execute_result"
    }
   ],
   "source": [
    "train.groupby(train.category_name.str.count(\"/\")).count()\n"
   ]
  },
  {
   "cell_type": "code",
   "execution_count": 38,
   "metadata": {
    "collapsed": true
   },
   "outputs": [],
   "source": [
    "# extract categories\n",
    "train[\"category_L1\"] = train.category_name.str.extract(\"([^/]+)/[^/]+/[^/]+\", expand=False)\n",
    "train[\"category_L2\"] = train.category_name.str.extract(\"[^/]+/([^/]+)/[^/]+\", expand=False)\n",
    "train[\"category_L3\"] = train.category_name.str.extract(\"[^/]+/[^/]+/([^/]+)\", expand=False)"
   ]
  },
  {
   "cell_type": "markdown",
   "metadata": {},
   "source": [
    "## Popular Categories"
   ]
  },
  {
   "cell_type": "code",
   "execution_count": 39,
   "metadata": {},
   "outputs": [
    {
     "data": {
      "text/plain": [
       "10"
      ]
     },
     "execution_count": 39,
     "metadata": {},
     "output_type": "execute_result"
    }
   ],
   "source": [
    "train.category_L1.nunique()"
   ]
  },
  {
   "cell_type": "code",
   "execution_count": 40,
   "metadata": {},
   "outputs": [
    {
     "data": {
      "text/html": [
       "<div>\n",
       "<style>\n",
       "    .dataframe thead tr:only-child th {\n",
       "        text-align: right;\n",
       "    }\n",
       "\n",
       "    .dataframe thead th {\n",
       "        text-align: left;\n",
       "    }\n",
       "\n",
       "    .dataframe tbody tr th {\n",
       "        vertical-align: top;\n",
       "    }\n",
       "</style>\n",
       "<table border=\"1\" class=\"dataframe\">\n",
       "  <thead>\n",
       "    <tr style=\"text-align: right;\">\n",
       "      <th></th>\n",
       "      <th>category_L1</th>\n",
       "    </tr>\n",
       "  </thead>\n",
       "  <tbody>\n",
       "    <tr>\n",
       "      <th>Women</th>\n",
       "      <td>44.814119</td>\n",
       "    </tr>\n",
       "    <tr>\n",
       "      <th>Beauty</th>\n",
       "      <td>14.018421</td>\n",
       "    </tr>\n",
       "    <tr>\n",
       "      <th>Kids</th>\n",
       "      <td>11.580772</td>\n",
       "    </tr>\n",
       "    <tr>\n",
       "      <th>Electronics</th>\n",
       "      <td>8.275690</td>\n",
       "    </tr>\n",
       "    <tr>\n",
       "      <th>Men</th>\n",
       "      <td>6.318906</td>\n",
       "    </tr>\n",
       "    <tr>\n",
       "      <th>Home</th>\n",
       "      <td>4.578037</td>\n",
       "    </tr>\n",
       "    <tr>\n",
       "      <th>Vintage &amp; Collectibles</th>\n",
       "      <td>3.138543</td>\n",
       "    </tr>\n",
       "    <tr>\n",
       "      <th>Other</th>\n",
       "      <td>3.059017</td>\n",
       "    </tr>\n",
       "    <tr>\n",
       "      <th>Handmade</th>\n",
       "      <td>2.080356</td>\n",
       "    </tr>\n",
       "    <tr>\n",
       "      <th>Sports &amp; Outdoors</th>\n",
       "      <td>1.709369</td>\n",
       "    </tr>\n",
       "    <tr>\n",
       "      <th>NaN</th>\n",
       "      <td>0.426769</td>\n",
       "    </tr>\n",
       "  </tbody>\n",
       "</table>\n",
       "</div>"
      ],
      "text/plain": [
       "                        category_L1\n",
       "Women                     44.814119\n",
       "Beauty                    14.018421\n",
       "Kids                      11.580772\n",
       "Electronics                8.275690\n",
       "Men                        6.318906\n",
       "Home                       4.578037\n",
       "Vintage & Collectibles     3.138543\n",
       "Other                      3.059017\n",
       "Handmade                   2.080356\n",
       "Sports & Outdoors          1.709369\n",
       "NaN                        0.426769"
      ]
     },
     "execution_count": 40,
     "metadata": {},
     "output_type": "execute_result"
    }
   ],
   "source": [
    "category_L1_df = pd.DataFrame(train.category_L1.value_counts(normalize=True,dropna=False)*100)\n",
    "category_L1_df\n"
   ]
  },
  {
   "cell_type": "code",
   "execution_count": 41,
   "metadata": {},
   "outputs": [
    {
     "data": {
      "text/plain": [
       "array(['Men', 'Electronics', 'Women', 'Home', 'Sports & Outdoors',\n",
       "       'Vintage & Collectibles', 'Beauty', 'Other', 'Kids', nan, 'Handmade'], dtype=object)"
      ]
     },
     "execution_count": 41,
     "metadata": {},
     "output_type": "execute_result"
    }
   ],
   "source": [
    "train.category_L1.unique()"
   ]
  },
  {
   "cell_type": "code",
   "execution_count": 42,
   "metadata": {},
   "outputs": [
    {
     "data": {
      "text/plain": [
       "[<matplotlib.text.Text at 0x7fe717bbdd30>]"
      ]
     },
     "execution_count": 42,
     "metadata": {},
     "output_type": "execute_result"
    },
    {
     "data": {
      "image/png": "[encoded data removed]",
      "text/plain": [
       "<matplotlib.figure.Figure at 0x7fe717c1eba8>"
      ]
     },
     "metadata": {},
     "output_type": "display_data"
    }
   ],
   "source": [
    "sns.set(style=\"whitegrid\")\n",
    "plt.subplots(figsize=(18,5))\n",
    "ax = sns.barplot(y=category_L1_df.index, x=category_L1_df.category_L1)\n",
    "ax.set(xlabel='Number of products %', ylabel='Categories')\n",
    "ax.set(title=\"Main Categories\")"
   ]
  },
  {
   "cell_type": "code",
   "execution_count": 43,
   "metadata": {},
   "outputs": [
    {
     "data": {
      "text/plain": [
       "870"
      ]
     },
     "execution_count": 43,
     "metadata": {},
     "output_type": "execute_result"
    }
   ],
   "source": [
    "train.category_L3.nunique()"
   ]
  },
  {
   "cell_type": "code",
   "execution_count": 44,
   "metadata": {},
   "outputs": [
    {
     "data": {
      "text/plain": [
       "113"
      ]
     },
     "execution_count": 44,
     "metadata": {},
     "output_type": "execute_result"
    }
   ],
   "source": [
    "train.category_L2.nunique()"
   ]
  },
  {
   "cell_type": "markdown",
   "metadata": {},
   "source": [
    "## Popular subcategories for the most popular category \"Women\" "
   ]
  },
  {
   "cell_type": "code",
   "execution_count": 45,
   "metadata": {
    "scrolled": true
   },
   "outputs": [
    {
     "data": {
      "text/html": [
       "<div>\n",
       "<style>\n",
       "    .dataframe thead tr:only-child th {\n",
       "        text-align: right;\n",
       "    }\n",
       "\n",
       "    .dataframe thead th {\n",
       "        text-align: left;\n",
       "    }\n",
       "\n",
       "    .dataframe tbody tr th {\n",
       "        vertical-align: top;\n",
       "    }\n",
       "</style>\n",
       "<table border=\"1\" class=\"dataframe\">\n",
       "  <thead>\n",
       "    <tr style=\"text-align: right;\">\n",
       "      <th></th>\n",
       "      <th>category_L2</th>\n",
       "    </tr>\n",
       "  </thead>\n",
       "  <tbody>\n",
       "    <tr>\n",
       "      <th>Athletic Apparel</th>\n",
       "      <td>18.582147</td>\n",
       "    </tr>\n",
       "    <tr>\n",
       "      <th>Tops &amp; Blouses</th>\n",
       "      <td>16.099099</td>\n",
       "    </tr>\n",
       "    <tr>\n",
       "      <th>Shoes</th>\n",
       "      <td>11.688103</td>\n",
       "    </tr>\n",
       "    <tr>\n",
       "      <th>Jewelry</th>\n",
       "      <td>8.554829</td>\n",
       "    </tr>\n",
       "    <tr>\n",
       "      <th>Women's Handbags</th>\n",
       "      <td>6.902925</td>\n",
       "    </tr>\n",
       "    <tr>\n",
       "      <th>Dresses</th>\n",
       "      <td>6.887272</td>\n",
       "    </tr>\n",
       "    <tr>\n",
       "      <th>Women's Accessories</th>\n",
       "      <td>6.374316</td>\n",
       "    </tr>\n",
       "    <tr>\n",
       "      <th>Sweaters</th>\n",
       "      <td>5.164475</td>\n",
       "    </tr>\n",
       "    <tr>\n",
       "      <th>Underwear</th>\n",
       "      <td>5.085003</td>\n",
       "    </tr>\n",
       "    <tr>\n",
       "      <th>Jeans</th>\n",
       "      <td>4.867359</td>\n",
       "    </tr>\n",
       "    <tr>\n",
       "      <th>Swimwear</th>\n",
       "      <td>2.772489</td>\n",
       "    </tr>\n",
       "    <tr>\n",
       "      <th>Coats &amp; Jackets</th>\n",
       "      <td>2.270822</td>\n",
       "    </tr>\n",
       "    <tr>\n",
       "      <th>Skirts</th>\n",
       "      <td>1.599223</td>\n",
       "    </tr>\n",
       "    <tr>\n",
       "      <th>Pants</th>\n",
       "      <td>1.265531</td>\n",
       "    </tr>\n",
       "    <tr>\n",
       "      <th>Other</th>\n",
       "      <td>1.093342</td>\n",
       "    </tr>\n",
       "    <tr>\n",
       "      <th>Maternity</th>\n",
       "      <td>0.505430</td>\n",
       "    </tr>\n",
       "    <tr>\n",
       "      <th>Suits &amp; Blazers</th>\n",
       "      <td>0.287634</td>\n",
       "    </tr>\n",
       "  </tbody>\n",
       "</table>\n",
       "</div>"
      ],
      "text/plain": [
       "                     category_L2\n",
       "Athletic Apparel       18.582147\n",
       "Tops & Blouses         16.099099\n",
       "Shoes                  11.688103\n",
       "Jewelry                 8.554829\n",
       "Women's Handbags        6.902925\n",
       "Dresses                 6.887272\n",
       "Women's Accessories     6.374316\n",
       "Sweaters                5.164475\n",
       "Underwear               5.085003\n",
       "Jeans                   4.867359\n",
       "Swimwear                2.772489\n",
       "Coats & Jackets         2.270822\n",
       "Skirts                  1.599223\n",
       "Pants                   1.265531\n",
       "Other                   1.093342\n",
       "Maternity               0.505430\n",
       "Suits & Blazers         0.287634"
      ]
     },
     "execution_count": 45,
     "metadata": {},
     "output_type": "execute_result"
    }
   ],
   "source": [
    "category_L2_Women_df = pd.DataFrame(train[train.category_L1==\"Women\"].category_L2.value_counts(normalize=True,dropna=False)*100)\n",
    "category_L2_Women_df"
   ]
  },
  {
   "cell_type": "code",
   "execution_count": 46,
   "metadata": {},
   "outputs": [
    {
     "data": {
      "text/plain": [
       "[<matplotlib.text.Text at 0x7fe717b67eb8>]"
      ]
     },
     "execution_count": 46,
     "metadata": {},
     "output_type": "execute_result"
    },
    {
     "data": {
      "image/png": "[encoded data removed]",
      "text/plain": [
       "<matplotlib.figure.Figure at 0x7fe717c2d1d0>"
      ]
     },
     "metadata": {},
     "output_type": "display_data"
    }
   ],
   "source": [
    "sns.set(style=\"whitegrid\")\n",
    "plt.subplots(figsize=(18,5))\n",
    "ax = sns.barplot(y=category_L2_Women_df.index, x=category_L2_Women_df.category_L2)\n",
    "ax.set(xlabel='Number of products %', ylabel='Category_L2')\n",
    "ax.set(title=\"Subcategories of category 'Women'\")"
   ]
  },
  {
   "cell_type": "code",
   "execution_count": 47,
   "metadata": {},
   "outputs": [
    {
     "data": {
      "text/plain": [
       "870"
      ]
     },
     "execution_count": 47,
     "metadata": {},
     "output_type": "execute_result"
    }
   ],
   "source": [
    "train.category_L3.nunique()"
   ]
  },
  {
   "cell_type": "markdown",
   "metadata": {
    "collapsed": true
   },
   "source": [
    "## Expensive Categories and Subcategories"
   ]
  },
  {
   "cell_type": "code",
   "execution_count": 48,
   "metadata": {},
   "outputs": [
    {
     "data": {
      "text/plain": [
       "<matplotlib.axes._subplots.AxesSubplot at 0x7fe717a8cef0>"
      ]
     },
     "execution_count": 48,
     "metadata": {},
     "output_type": "execute_result"
    },
    {
     "data": {
      "image/png": "[encoded data removed]",
      "text/plain": [
       "<matplotlib.figure.Figure at 0x7fe717a96da0>"
      ]
     },
     "metadata": {},
     "output_type": "display_data"
    }
   ],
   "source": [
    "fig, ax = plt.subplots(figsize=(15,7))\n",
    "train.groupby(['category_L1'])['price'].mean().plot(ax=ax)"
   ]
  },
  {
   "cell_type": "code",
   "execution_count": 49,
   "metadata": {
    "collapsed": true
   },
   "outputs": [],
   "source": [
    "# What kind of products are more expensive?"
   ]
  },
  {
   "cell_type": "code",
   "execution_count": 50,
   "metadata": {
    "collapsed": true
   },
   "outputs": [],
   "source": [
    "mean_L1 = pd.DataFrame(train.groupby(['category_L1']).price.mean())\n",
    "mean_L1.reset_index(inplace=True)  \n",
    "mean_L1=mean_L1.rename(columns = {'price':'mean_price_L1'})\n",
    "mean_L1\n",
    "mean_L2 = pd.DataFrame(train.groupby(['category_L1', 'category_L2']).price.mean())\n",
    "mean_L2.reset_index(inplace=True)  \n",
    "\n",
    "result = pd.merge(mean_L2, mean_L1, on='category_L1')\n",
    "#result"
   ]
  },
  {
   "cell_type": "code",
   "execution_count": 51,
   "metadata": {
    "scrolled": true
   },
   "outputs": [
    {
     "data": {
      "text/html": [
       "\n",
       "\n",
       "\n",
       "\n",
       "\n",
       "\n",
       "  <div class=\"bk-root\" id=\"c3dd5dc7-5f50-4045-b80c-9e251e51c034\"></div>\n"
      ]
     },
     "metadata": {},
     "output_type": "display_data"
    },
    {
     "data": {
      "application/javascript": [
       "(function(root) {\n",
       "  function embed_document(root) {\n",
       "    \n",
       "  var docs_json = {\"042b6f24-9e26-4b48-862b-56abda0178e0\":{\"roots\":{\"references\":[{\"attributes\":{\"field\":\"angle\",\"include_zero\":true},\"id\":\"4e0abda7-97ff-4ed0-82a9-1f189e6843e3\",\"type\":\"CumSum\"},{\"attributes\":{\"bottom_units\":\"screen\",\"fill_alpha\":{\"value\":0.5},\"fill_color\":{\"value\":\"lightgrey\"},\"left_units\":\"screen\",\"level\":\"overlay\",\"line_alpha\":{\"value\":1.0},\"line_color\":{\"value\":\"black\"},\"line_dash\":[4,4],\"line_width\":{\"value\":2},\"plot\":null,\"render_mode\":\"css\",\"right_units\":\"screen\",\"top_units\":\"screen\"},\"id\":\"1d39c290-9470-44ca-8cce-90203f099743\",\"type\":\"BoxAnnotation\"},{\"attributes\":{\"label\":{\"field\":\"category_L1\"},\"renderers\":[{\"id\":\"94f242e8-c93d-433a-80a0-996965be5715\",\"type\":\"GlyphRenderer\"}]},\"id\":\"f410669c-5fbb-49e4-bd70-8a46285ab2f2\",\"type\":\"LegendItem\"},{\"attributes\":{\"plot\":null,\"text\":\"Mean prices for L1 Categories\"},\"id\":\"b6d10aaa-c617-492e-8f23-b39899981a04\",\"type\":\"Title\"},{\"attributes\":{},\"id\":\"738e9b93-048b-4920-bd68-6f74a098a147\",\"type\":\"PanTool\"},{\"attributes\":{\"source\":{\"id\":\"b87fc7d9-3e80-4b6d-81d5-d72dfea4c903\",\"type\":\"ColumnDataSource\"}},\"id\":\"e58589db-eec6-4396-87cf-209ea497f182\",\"type\":\"CDSView\"},{\"attributes\":{\"field\":\"angle\"},\"id\":\"59df41eb-31e6-4219-9eae-f76914ae537c\",\"type\":\"CumSum\"},{\"attributes\":{\"items\":[{\"id\":\"f410669c-5fbb-49e4-bd70-8a46285ab2f2\",\"type\":\"LegendItem\"}],\"plot\":{\"id\":\"b3e5a04f-b5ff-46ec-b1c2-02f988b4ccee\",\"subtype\":\"Figure\",\"type\":\"Plot\"}},\"id\":\"dc176a69-5748-4363-b741-d0e1de2ea7c3\",\"type\":\"Legend\"},{\"attributes\":{},\"id\":\"93b7d457-55e9-4aaa-9c43-a3280ccb8896\",\"type\":\"Selection\"},{\"attributes\":{},\"id\":\"31fc1a5f-0f92-42b8-a131-304845a5953c\",\"type\":\"BasicTicker\"},{\"attributes\":{},\"id\":\"52463140-36f0-4732-9fae-c7113dfef120\",\"type\":\"BasicTickFormatter\"},{\"attributes\":{\"callback\":null},\"id\":\"ffc1f7d2-c216-43b1-ae7c-647e09bce84e\",\"type\":\"DataRange1d\"},{\"attributes\":{\"overlay\":{\"id\":\"1d39c290-9470-44ca-8cce-90203f099743\",\"type\":\"BoxAnnotation\"}},\"id\":\"2223bcea-6922-48ef-bd1e-e96423657f79\",\"type\":\"BoxZoomTool\"},{\"attributes\":{},\"id\":\"5c4eb72e-f152-489d-96ef-1c4875962ffb\",\"type\":\"LinearScale\"},{\"attributes\":{\"callback\":null,\"data\":{\"angle\":{\"__ndarray__\":\"CFroLTn33j+QXUm/Lq/rPxVDhGK5lNw/PzwWJd9P4z9nTwW2Nj/gPyOSuIttUes/2Lffp/Zg4D8l+m+ZehjkP6SdmsqchOU/O0/jJyG85j8=\",\"dtype\":\"float64\",\"shape\":[10]},\"category_L1\":[\"Beauty\",\"Electronics\",\"Handmade\",\"Home\",\"Kids\",\"Men\",\"Other\",\"Sports & Outdoors\",\"Vintage & Collectibles\",\"Women\"],\"color\":[\"#3182bd\",\"#6baed6\",\"#9ecae1\",\"#c6dbef\",\"#e6550d\",\"#fd8d3c\",\"#fdae6b\",\"#fdd0a2\",\"#31a354\",\"#74c476\"],\"index\":[0,1,2,3,4,5,6,7,8,9],\"mean_price_L1\":{\"__ndarray__\":\"xrXUyemrM0AA6SYUQ5ZBQF9fux0VKDJA8x6til6JOEDqIU/JbqQ0QAmxseCzWkFATw6/JlDPNEBgeimFP4g5QHYpSKLkVjtAKTUY16/iPEA=\",\"dtype\":\"float64\",\"shape\":[10]}},\"selected\":{\"id\":\"93b7d457-55e9-4aaa-9c43-a3280ccb8896\",\"type\":\"Selection\"},\"selection_policy\":{\"id\":\"263a06ee-866b-40da-82c3-eca94341f38b\",\"type\":\"UnionRenderers\"}},\"id\":\"b87fc7d9-3e80-4b6d-81d5-d72dfea4c903\",\"type\":\"ColumnDataSource\"},{\"attributes\":{},\"id\":\"263a06ee-866b-40da-82c3-eca94341f38b\",\"type\":\"UnionRenderers\"},{\"attributes\":{},\"id\":\"5be3b25b-143b-4a12-bdb2-2cf70bacccd4\",\"type\":\"ResetTool\"},{\"attributes\":{\"end_angle\":{\"expr\":{\"id\":\"59df41eb-31e6-4219-9eae-f76914ae537c\",\"type\":\"CumSum\"},\"units\":\"rad\"},\"fill_color\":{\"field\":\"color\"},\"inner_radius\":{\"units\":\"data\",\"value\":0.1},\"line_color\":{\"value\":\"white\"},\"outer_radius\":{\"units\":\"data\",\"value\":0.4},\"start_angle\":{\"expr\":{\"id\":\"4e0abda7-97ff-4ed0-82a9-1f189e6843e3\",\"type\":\"CumSum\"},\"units\":\"rad\"},\"x\":{\"value\":0},\"y\":{\"value\":1}},\"id\":\"15de333b-cc40-474c-b3f2-3802d301be86\",\"type\":\"AnnularWedge\"},{\"attributes\":{},\"id\":\"67abbd93-12ab-44ad-8653-bc3fbc91e1a4\",\"type\":\"SaveTool\"},{\"attributes\":{},\"id\":\"8e6a6b50-4aa8-4c86-bea9-9e514e9ee761\",\"type\":\"LinearScale\"},{\"attributes\":{},\"id\":\"214183a3-6a6b-4cf7-bb07-458a65d9c5af\",\"type\":\"HelpTool\"},{\"attributes\":{\"formatter\":{\"id\":\"52463140-36f0-4732-9fae-c7113dfef120\",\"type\":\"BasicTickFormatter\"},\"plot\":{\"id\":\"b3e5a04f-b5ff-46ec-b1c2-02f988b4ccee\",\"subtype\":\"Figure\",\"type\":\"Plot\"},\"ticker\":{\"id\":\"31fc1a5f-0f92-42b8-a131-304845a5953c\",\"type\":\"BasicTicker\"},\"visible\":false},\"id\":\"4d36787d-9ed0-4a4c-be78-b6cfd4685833\",\"type\":\"LinearAxis\"},{\"attributes\":{\"dimension\":1,\"plot\":{\"id\":\"b3e5a04f-b5ff-46ec-b1c2-02f988b4ccee\",\"subtype\":\"Figure\",\"type\":\"Plot\"},\"ticker\":{\"id\":\"31fc1a5f-0f92-42b8-a131-304845a5953c\",\"type\":\"BasicTicker\"}},\"id\":\"e8a2347a-695e-425e-a202-b114a6d71852\",\"type\":\"Grid\"},{\"attributes\":{},\"id\":\"5f0474cb-fdab-4fb9-a867-bf8687b615cf\",\"type\":\"BasicTicker\"},{\"attributes\":{\"callback\":null,\"renderers\":\"auto\",\"tooltips\":[[\"\",\"@category_L1: @mean_price_L1\"]]},\"id\":\"3293dff5-6dbb-4a6c-b4f2-71ea9acc8591\",\"type\":\"HoverTool\"},{\"attributes\":{\"active_drag\":\"auto\",\"active_inspect\":\"auto\",\"active_multi\":null,\"active_scroll\":\"auto\",\"active_tap\":\"auto\",\"tools\":[{\"id\":\"738e9b93-048b-4920-bd68-6f74a098a147\",\"type\":\"PanTool\"},{\"id\":\"526adccb-98e8-450e-b954-81088518b860\",\"type\":\"WheelZoomTool\"},{\"id\":\"2223bcea-6922-48ef-bd1e-e96423657f79\",\"type\":\"BoxZoomTool\"},{\"id\":\"67abbd93-12ab-44ad-8653-bc3fbc91e1a4\",\"type\":\"SaveTool\"},{\"id\":\"5be3b25b-143b-4a12-bdb2-2cf70bacccd4\",\"type\":\"ResetTool\"},{\"id\":\"214183a3-6a6b-4cf7-bb07-458a65d9c5af\",\"type\":\"HelpTool\"},{\"id\":\"3293dff5-6dbb-4a6c-b4f2-71ea9acc8591\",\"type\":\"HoverTool\"}]},\"id\":\"956e9cf0-1e7f-481e-9e8a-7bfaee54174c\",\"type\":\"Toolbar\"},{\"attributes\":{\"formatter\":{\"id\":\"dcc422a2-de56-4729-b0d2-d64b074d29fc\",\"type\":\"BasicTickFormatter\"},\"plot\":{\"id\":\"b3e5a04f-b5ff-46ec-b1c2-02f988b4ccee\",\"subtype\":\"Figure\",\"type\":\"Plot\"},\"ticker\":{\"id\":\"5f0474cb-fdab-4fb9-a867-bf8687b615cf\",\"type\":\"BasicTicker\"},\"visible\":false},\"id\":\"7cea872b-73f7-4fc0-b39b-119e81af3756\",\"type\":\"LinearAxis\"},{\"attributes\":{\"end_angle\":{\"expr\":{\"id\":\"59df41eb-31e6-4219-9eae-f76914ae537c\",\"type\":\"CumSum\"},\"units\":\"rad\"},\"fill_alpha\":{\"value\":0.1},\"fill_color\":{\"value\":\"#1f77b4\"},\"inner_radius\":{\"units\":\"data\",\"value\":0.1},\"line_alpha\":{\"value\":0.1},\"line_color\":{\"value\":\"#1f77b4\"},\"outer_radius\":{\"units\":\"data\",\"value\":0.4},\"start_angle\":{\"expr\":{\"id\":\"4e0abda7-97ff-4ed0-82a9-1f189e6843e3\",\"type\":\"CumSum\"},\"units\":\"rad\"},\"x\":{\"value\":0},\"y\":{\"value\":1}},\"id\":\"501c9bce-de0a-4bf1-a507-2d77831355d6\",\"type\":\"AnnularWedge\"},{\"attributes\":{},\"id\":\"526adccb-98e8-450e-b954-81088518b860\",\"type\":\"WheelZoomTool\"},{\"attributes\":{\"callback\":null},\"id\":\"6f2a680a-3488-451d-ad90-06881041c289\",\"type\":\"DataRange1d\"},{\"attributes\":{\"below\":[{\"id\":\"7cea872b-73f7-4fc0-b39b-119e81af3756\",\"type\":\"LinearAxis\"}],\"left\":[{\"id\":\"4d36787d-9ed0-4a4c-be78-b6cfd4685833\",\"type\":\"LinearAxis\"}],\"plot_height\":350,\"renderers\":[{\"id\":\"7cea872b-73f7-4fc0-b39b-119e81af3756\",\"type\":\"LinearAxis\"},{\"id\":\"2bdfcc4e-4006-4e13-ad78-37589a81f2ff\",\"type\":\"Grid\"},{\"id\":\"4d36787d-9ed0-4a4c-be78-b6cfd4685833\",\"type\":\"LinearAxis\"},{\"id\":\"e8a2347a-695e-425e-a202-b114a6d71852\",\"type\":\"Grid\"},{\"id\":\"1d39c290-9470-44ca-8cce-90203f099743\",\"type\":\"BoxAnnotation\"},{\"id\":\"dc176a69-5748-4363-b741-d0e1de2ea7c3\",\"type\":\"Legend\"},{\"id\":\"94f242e8-c93d-433a-80a0-996965be5715\",\"type\":\"GlyphRenderer\"}],\"title\":{\"id\":\"b6d10aaa-c617-492e-8f23-b39899981a04\",\"type\":\"Title\"},\"toolbar\":{\"id\":\"956e9cf0-1e7f-481e-9e8a-7bfaee54174c\",\"type\":\"Toolbar\"},\"x_range\":{\"id\":\"6f2a680a-3488-451d-ad90-06881041c289\",\"type\":\"DataRange1d\"},\"x_scale\":{\"id\":\"8e6a6b50-4aa8-4c86-bea9-9e514e9ee761\",\"type\":\"LinearScale\"},\"y_range\":{\"id\":\"ffc1f7d2-c216-43b1-ae7c-647e09bce84e\",\"type\":\"DataRange1d\"},\"y_scale\":{\"id\":\"5c4eb72e-f152-489d-96ef-1c4875962ffb\",\"type\":\"LinearScale\"}},\"id\":\"b3e5a04f-b5ff-46ec-b1c2-02f988b4ccee\",\"subtype\":\"Figure\",\"type\":\"Plot\"},{\"attributes\":{\"plot\":{\"id\":\"b3e5a04f-b5ff-46ec-b1c2-02f988b4ccee\",\"subtype\":\"Figure\",\"type\":\"Plot\"},\"ticker\":{\"id\":\"5f0474cb-fdab-4fb9-a867-bf8687b615cf\",\"type\":\"BasicTicker\"}},\"id\":\"2bdfcc4e-4006-4e13-ad78-37589a81f2ff\",\"type\":\"Grid\"},{\"attributes\":{},\"id\":\"dcc422a2-de56-4729-b0d2-d64b074d29fc\",\"type\":\"BasicTickFormatter\"},{\"attributes\":{\"data_source\":{\"id\":\"b87fc7d9-3e80-4b6d-81d5-d72dfea4c903\",\"type\":\"ColumnDataSource\"},\"glyph\":{\"id\":\"15de333b-cc40-474c-b3f2-3802d301be86\",\"type\":\"AnnularWedge\"},\"hover_glyph\":null,\"muted_glyph\":null,\"nonselection_glyph\":{\"id\":\"501c9bce-de0a-4bf1-a507-2d77831355d6\",\"type\":\"AnnularWedge\"},\"selection_glyph\":null,\"view\":{\"id\":\"e58589db-eec6-4396-87cf-209ea497f182\",\"type\":\"CDSView\"}},\"id\":\"94f242e8-c93d-433a-80a0-996965be5715\",\"type\":\"GlyphRenderer\"}],\"root_ids\":[\"b3e5a04f-b5ff-46ec-b1c2-02f988b4ccee\"]},\"title\":\"Bokeh Application\",\"version\":\"0.13.0\"}};\n",
       "  var render_items = [{\"docid\":\"042b6f24-9e26-4b48-862b-56abda0178e0\",\"roots\":{\"b3e5a04f-b5ff-46ec-b1c2-02f988b4ccee\":\"c3dd5dc7-5f50-4045-b80c-9e251e51c034\"}}];\n",
       "  root.Bokeh.embed.embed_items_notebook(docs_json, render_items);\n",
       "\n",
       "  }\n",
       "  if (root.Bokeh !== undefined) {\n",
       "    embed_document(root);\n",
       "  } else {\n",
       "    var attempts = 0;\n",
       "    var timer = setInterval(function(root) {\n",
       "      if (root.Bokeh !== undefined) {\n",
       "        embed_document(root);\n",
       "        clearInterval(timer);\n",
       "      }\n",
       "      attempts++;\n",
       "      if (attempts > 100) {\n",
       "        console.log(\"Bokeh: ERROR: Unable to run BokehJS code because BokehJS library is missing\")\n",
       "        clearInterval(timer);\n",
       "      }\n",
       "    }, 10, root)\n",
       "  }\n",
       "})(window);"
      ],
      "application/vnd.bokehjs_exec.v0+json": ""
     },
     "metadata": {
      "application/vnd.bokehjs_exec.v0+json": {
       "id": "b3e5a04f-b5ff-46ec-b1c2-02f988b4ccee"
      }
     },
     "output_type": "display_data"
    }
   ],
   "source": [
    "visualize_categories_L1(mean_L1)"
   ]
  },
  {
   "cell_type": "code",
   "execution_count": 52,
   "metadata": {
    "scrolled": true
   },
   "outputs": [
    {
     "data": {
      "text/html": [
       "\n",
       "\n",
       "\n",
       "\n",
       "\n",
       "\n",
       "  <div class=\"bk-root\" id=\"8fa8c27c-8e53-40b8-8dee-3cc8e8ecbf94\"></div>\n"
      ]
     },
     "metadata": {},
     "output_type": "display_data"
    },
    {
     "data": {
      "application/javascript": [
       "(function(root) {\n",
       "  function embed_document(root) {\n",
       "    \n",
       "  var docs_json = {\"8ecc03f9-e339-4489-b99f-0585f1c8f1fd\":{\"roots\":{\"references\":[{\"attributes\":{\"end_angle\":{\"expr\":{\"id\":\"01bbc18c-e725-4321-9363-4ad79e9f699f\",\"type\":\"CumSum\"},\"units\":\"rad\"},\"fill_color\":{\"field\":\"color\"},\"inner_radius\":{\"units\":\"data\",\"value\":0.2},\"line_color\":{\"value\":\"white\"},\"outer_radius\":{\"units\":\"data\",\"value\":0.4},\"start_angle\":{\"expr\":{\"id\":\"ec85b354-e5e5-42ff-8d3b-c772c9b9b9b7\",\"type\":\"CumSum\"},\"units\":\"rad\"},\"x\":{\"value\":0},\"y\":{\"value\":1}},\"id\":\"13640b05-7e81-4c71-aa2a-0e2fe108b5d6\",\"type\":\"AnnularWedge\"},{\"attributes\":{},\"id\":\"160eb28b-830f-489f-9720-28f4f7faf5f7\",\"type\":\"BasicTickFormatter\"},{\"attributes\":{},\"id\":\"3e1775a5-c44a-4aec-afb8-7b3763c5c569\",\"type\":\"PanTool\"},{\"attributes\":{},\"id\":\"c23cd45e-e751-4239-861b-8581280a7d12\",\"type\":\"LinearScale\"},{\"attributes\":{\"below\":[{\"id\":\"4618e08b-db51-457b-bb11-e2f4ab893e77\",\"type\":\"LinearAxis\"}],\"left\":[{\"id\":\"ada2583f-cb3a-4be1-8689-bcb38705f100\",\"type\":\"LinearAxis\"}],\"plot_height\":450,\"renderers\":[{\"id\":\"4618e08b-db51-457b-bb11-e2f4ab893e77\",\"type\":\"LinearAxis\"},{\"id\":\"ddd35358-caf1-41f7-80b5-c40e6d1bb12c\",\"type\":\"Grid\"},{\"id\":\"ada2583f-cb3a-4be1-8689-bcb38705f100\",\"type\":\"LinearAxis\"},{\"id\":\"c40e11f0-374d-4c38-ba2f-04277355f4d0\",\"type\":\"Grid\"},{\"id\":\"9a83cf31-9f7b-4d6c-9e90-2cbde54d0015\",\"type\":\"BoxAnnotation\"},{\"id\":\"2c08a54d-d3e7-41ca-ae14-13d316ba61d9\",\"type\":\"Legend\"},{\"id\":\"1b9fbd65-2df6-41a3-aef2-c0e1f137dd45\",\"type\":\"GlyphRenderer\"}],\"title\":{\"id\":\"1ec7495e-1d84-438d-8c66-1c095ac58ffb\",\"type\":\"Title\"},\"toolbar\":{\"id\":\"19a5df2d-138c-45c7-b2f6-1f9e60528480\",\"type\":\"Toolbar\"},\"x_range\":{\"id\":\"3e7aadee-c385-45bd-843e-2e6f18af47fc\",\"type\":\"DataRange1d\"},\"x_scale\":{\"id\":\"c23cd45e-e751-4239-861b-8581280a7d12\",\"type\":\"LinearScale\"},\"y_range\":{\"id\":\"69e767e0-7bd1-44ec-9894-c1de3e9fbb8c\",\"type\":\"DataRange1d\"},\"y_scale\":{\"id\":\"7014b9f0-4060-4c1c-80bb-7dac8d02fa8f\",\"type\":\"LinearScale\"}},\"id\":\"f03de429-0d87-4e3c-97c8-b96b04ec424a\",\"subtype\":\"Figure\",\"type\":\"Plot\"},{\"attributes\":{\"dimension\":1,\"plot\":{\"id\":\"f03de429-0d87-4e3c-97c8-b96b04ec424a\",\"subtype\":\"Figure\",\"type\":\"Plot\"},\"ticker\":{\"id\":\"53a81bfb-d44b-438c-9e97-c168f291aa82\",\"type\":\"BasicTicker\"}},\"id\":\"c40e11f0-374d-4c38-ba2f-04277355f4d0\",\"type\":\"Grid\"},{\"attributes\":{},\"id\":\"d6d0148a-e6f6-41a1-bd4f-58da54d7e24a\",\"type\":\"HelpTool\"},{\"attributes\":{\"source\":{\"id\":\"519c9001-411b-4daf-935b-1afb61646608\",\"type\":\"ColumnDataSource\"}},\"id\":\"c12991d9-8b23-44aa-958e-35bdcfec893b\",\"type\":\"CDSView\"},{\"attributes\":{},\"id\":\"a1654d1c-f385-429e-acf3-00e3fd79e9a8\",\"type\":\"BasicTicker\"},{\"attributes\":{\"field\":\"angle\"},\"id\":\"01bbc18c-e725-4321-9363-4ad79e9f699f\",\"type\":\"CumSum\"},{\"attributes\":{\"formatter\":{\"id\":\"160eb28b-830f-489f-9720-28f4f7faf5f7\",\"type\":\"BasicTickFormatter\"},\"plot\":{\"id\":\"f03de429-0d87-4e3c-97c8-b96b04ec424a\",\"subtype\":\"Figure\",\"type\":\"Plot\"},\"ticker\":{\"id\":\"a1654d1c-f385-429e-acf3-00e3fd79e9a8\",\"type\":\"BasicTicker\"},\"visible\":false},\"id\":\"4618e08b-db51-457b-bb11-e2f4ab893e77\",\"type\":\"LinearAxis\"},{\"attributes\":{\"label\":{\"field\":\"category_L2\"},\"renderers\":[{\"id\":\"1b9fbd65-2df6-41a3-aef2-c0e1f137dd45\",\"type\":\"GlyphRenderer\"}]},\"id\":\"aa978438-858c-4286-9de8-93d589e99d61\",\"type\":\"LegendItem\"},{\"attributes\":{\"callback\":null},\"id\":\"3e7aadee-c385-45bd-843e-2e6f18af47fc\",\"type\":\"DataRange1d\"},{\"attributes\":{},\"id\":\"7014b9f0-4060-4c1c-80bb-7dac8d02fa8f\",\"type\":\"LinearScale\"},{\"attributes\":{\"active_drag\":\"auto\",\"active_inspect\":\"auto\",\"active_multi\":null,\"active_scroll\":\"auto\",\"active_tap\":\"auto\",\"tools\":[{\"id\":\"3e1775a5-c44a-4aec-afb8-7b3763c5c569\",\"type\":\"PanTool\"},{\"id\":\"d788f72e-1db4-4883-94ef-b5aa7b39006f\",\"type\":\"WheelZoomTool\"},{\"id\":\"361b8295-79bd-4135-9cb3-91854fdd9208\",\"type\":\"BoxZoomTool\"},{\"id\":\"28320db3-bd13-4c07-92d2-36ca646da705\",\"type\":\"SaveTool\"},{\"id\":\"ba6be4af-5b08-44a0-9d82-b4d55a54beeb\",\"type\":\"ResetTool\"},{\"id\":\"d6d0148a-e6f6-41a1-bd4f-58da54d7e24a\",\"type\":\"HelpTool\"},{\"id\":\"0fa10563-9272-4100-a3de-ae0c732d5f6e\",\"type\":\"HoverTool\"}]},\"id\":\"19a5df2d-138c-45c7-b2f6-1f9e60528480\",\"type\":\"Toolbar\"},{\"attributes\":{\"field\":\"angle\",\"include_zero\":true},\"id\":\"ec85b354-e5e5-42ff-8d3b-c772c9b9b9b7\",\"type\":\"CumSum\"},{\"attributes\":{\"formatter\":{\"id\":\"2e07140e-2b15-4e36-9973-33a92b7052da\",\"type\":\"BasicTickFormatter\"},\"plot\":{\"id\":\"f03de429-0d87-4e3c-97c8-b96b04ec424a\",\"subtype\":\"Figure\",\"type\":\"Plot\"},\"ticker\":{\"id\":\"53a81bfb-d44b-438c-9e97-c168f291aa82\",\"type\":\"BasicTicker\"},\"visible\":false},\"id\":\"ada2583f-cb3a-4be1-8689-bcb38705f100\",\"type\":\"LinearAxis\"},{\"attributes\":{\"items\":[{\"id\":\"aa978438-858c-4286-9de8-93d589e99d61\",\"type\":\"LegendItem\"}],\"plot\":{\"id\":\"f03de429-0d87-4e3c-97c8-b96b04ec424a\",\"subtype\":\"Figure\",\"type\":\"Plot\"}},\"id\":\"2c08a54d-d3e7-41ca-ae14-13d316ba61d9\",\"type\":\"Legend\"},{\"attributes\":{\"bottom_units\":\"screen\",\"fill_alpha\":{\"value\":0.5},\"fill_color\":{\"value\":\"lightgrey\"},\"left_units\":\"screen\",\"level\":\"overlay\",\"line_alpha\":{\"value\":1.0},\"line_color\":{\"value\":\"black\"},\"line_dash\":[4,4],\"line_width\":{\"value\":2},\"plot\":null,\"render_mode\":\"css\",\"right_units\":\"screen\",\"top_units\":\"screen\"},\"id\":\"9a83cf31-9f7b-4d6c-9e90-2cbde54d0015\",\"type\":\"BoxAnnotation\"},{\"attributes\":{},\"id\":\"28320db3-bd13-4c07-92d2-36ca646da705\",\"type\":\"SaveTool\"},{\"attributes\":{},\"id\":\"53a81bfb-d44b-438c-9e97-c168f291aa82\",\"type\":\"BasicTicker\"},{\"attributes\":{\"overlay\":{\"id\":\"9a83cf31-9f7b-4d6c-9e90-2cbde54d0015\",\"type\":\"BoxAnnotation\"}},\"id\":\"361b8295-79bd-4135-9cb3-91854fdd9208\",\"type\":\"BoxZoomTool\"},{\"attributes\":{\"plot\":{\"id\":\"f03de429-0d87-4e3c-97c8-b96b04ec424a\",\"subtype\":\"Figure\",\"type\":\"Plot\"},\"ticker\":{\"id\":\"a1654d1c-f385-429e-acf3-00e3fd79e9a8\",\"type\":\"BasicTicker\"}},\"id\":\"ddd35358-caf1-41f7-80b5-c40e6d1bb12c\",\"type\":\"Grid\"},{\"attributes\":{},\"id\":\"2e07140e-2b15-4e36-9973-33a92b7052da\",\"type\":\"BasicTickFormatter\"},{\"attributes\":{},\"id\":\"aa5a074e-f50b-4d5f-bb42-2de5634d228a\",\"type\":\"UnionRenderers\"},{\"attributes\":{\"callback\":null,\"data\":{\"angle\":{\"__ndarray__\":\"jm1VeLIv9D+ZxCuYtm7lP7XTL1eiDuE/8blrQwne+D/dWgOJ7IXQP4S0uO/SGuU/PYhAbUf96D9Kl8iZ+RviPw==\",\"dtype\":\"float64\",\"shape\":[8]},\"category_L1\":[\"Electronics\",\"Electronics\",\"Electronics\",\"Electronics\",\"Electronics\",\"Electronics\",\"Electronics\",\"Electronics\"],\"category_L2\":[\"Cameras & Photography\",\"Car Audio, Video & GPS\",\"Cell Phones & Accessories\",\"Computers & Tablets\",\"Media\",\"Other\",\"TV, Audio & Surveillance\",\"Video Games & Consoles\"],\"color\":[\"#3182bd\",\"#6baed6\",\"#9ecae1\",\"#c6dbef\",\"#e6550d\",\"#fd8d3c\",\"#fdae6b\",\"#fdd0a2\"],\"index\":[7,8,9,10,11,12,13,14],\"mean_price_L1\":{\"__ndarray__\":\"AOkmFEOWQUAA6SYUQ5ZBQADpJhRDlkFAAOkmFEOWQUAA6SYUQ5ZBQADpJhRDlkFAAOkmFEOWQUAA6SYUQ5ZBQA==\",\"dtype\":\"float64\",\"shape\":[8]},\"price\":{\"__ndarray__\":\"nPK5BwHWUUAE/oA/4O9CQCSMblZsJD5Ana0F9dD4VUCezsaP1jItQNUZihPBpUJAdgHE3WsURkCpcA4xMQBAQA==\",\"dtype\":\"float64\",\"shape\":[8]}},\"selected\":{\"id\":\"1fa70d6a-5b59-4144-bcdd-5a33636ceea6\",\"type\":\"Selection\"},\"selection_policy\":{\"id\":\"aa5a074e-f50b-4d5f-bb42-2de5634d228a\",\"type\":\"UnionRenderers\"}},\"id\":\"519c9001-411b-4daf-935b-1afb61646608\",\"type\":\"ColumnDataSource\"},{\"attributes\":{},\"id\":\"d788f72e-1db4-4883-94ef-b5aa7b39006f\",\"type\":\"WheelZoomTool\"},{\"attributes\":{},\"id\":\"1fa70d6a-5b59-4144-bcdd-5a33636ceea6\",\"type\":\"Selection\"},{\"attributes\":{},\"id\":\"ba6be4af-5b08-44a0-9d82-b4d55a54beeb\",\"type\":\"ResetTool\"},{\"attributes\":{\"callback\":null,\"renderers\":\"auto\",\"tooltips\":[[\"\",\"@category_L2: @price\"]]},\"id\":\"0fa10563-9272-4100-a3de-ae0c732d5f6e\",\"type\":\"HoverTool\"},{\"attributes\":{\"callback\":null},\"id\":\"69e767e0-7bd1-44ec-9894-c1de3e9fbb8c\",\"type\":\"DataRange1d\"},{\"attributes\":{\"plot\":null,\"text\":\"Mean prices for L2 Categories of category Electronics\"},\"id\":\"1ec7495e-1d84-438d-8c66-1c095ac58ffb\",\"type\":\"Title\"},{\"attributes\":{\"end_angle\":{\"expr\":{\"id\":\"01bbc18c-e725-4321-9363-4ad79e9f699f\",\"type\":\"CumSum\"},\"units\":\"rad\"},\"fill_alpha\":{\"value\":0.1},\"fill_color\":{\"value\":\"#1f77b4\"},\"inner_radius\":{\"units\":\"data\",\"value\":0.2},\"line_alpha\":{\"value\":0.1},\"line_color\":{\"value\":\"#1f77b4\"},\"outer_radius\":{\"units\":\"data\",\"value\":0.4},\"start_angle\":{\"expr\":{\"id\":\"ec85b354-e5e5-42ff-8d3b-c772c9b9b9b7\",\"type\":\"CumSum\"},\"units\":\"rad\"},\"x\":{\"value\":0},\"y\":{\"value\":1}},\"id\":\"5e646e09-f8bf-4e62-94b7-f2cd191ff01a\",\"type\":\"AnnularWedge\"},{\"attributes\":{\"data_source\":{\"id\":\"519c9001-411b-4daf-935b-1afb61646608\",\"type\":\"ColumnDataSource\"},\"glyph\":{\"id\":\"13640b05-7e81-4c71-aa2a-0e2fe108b5d6\",\"type\":\"AnnularWedge\"},\"hover_glyph\":null,\"muted_glyph\":null,\"nonselection_glyph\":{\"id\":\"5e646e09-f8bf-4e62-94b7-f2cd191ff01a\",\"type\":\"AnnularWedge\"},\"selection_glyph\":null,\"view\":{\"id\":\"c12991d9-8b23-44aa-958e-35bdcfec893b\",\"type\":\"CDSView\"}},\"id\":\"1b9fbd65-2df6-41a3-aef2-c0e1f137dd45\",\"type\":\"GlyphRenderer\"}],\"root_ids\":[\"f03de429-0d87-4e3c-97c8-b96b04ec424a\"]},\"title\":\"Bokeh Application\",\"version\":\"0.13.0\"}};\n",
       "  var render_items = [{\"docid\":\"8ecc03f9-e339-4489-b99f-0585f1c8f1fd\",\"roots\":{\"f03de429-0d87-4e3c-97c8-b96b04ec424a\":\"8fa8c27c-8e53-40b8-8dee-3cc8e8ecbf94\"}}];\n",
       "  root.Bokeh.embed.embed_items_notebook(docs_json, render_items);\n",
       "\n",
       "  }\n",
       "  if (root.Bokeh !== undefined) {\n",
       "    embed_document(root);\n",
       "  } else {\n",
       "    var attempts = 0;\n",
       "    var timer = setInterval(function(root) {\n",
       "      if (root.Bokeh !== undefined) {\n",
       "        embed_document(root);\n",
       "        clearInterval(timer);\n",
       "      }\n",
       "      attempts++;\n",
       "      if (attempts > 100) {\n",
       "        console.log(\"Bokeh: ERROR: Unable to run BokehJS code because BokehJS library is missing\")\n",
       "        clearInterval(timer);\n",
       "      }\n",
       "    }, 10, root)\n",
       "  }\n",
       "})(window);"
      ],
      "application/vnd.bokehjs_exec.v0+json": ""
     },
     "metadata": {
      "application/vnd.bokehjs_exec.v0+json": {
       "id": "f03de429-0d87-4e3c-97c8-b96b04ec424a"
      }
     },
     "output_type": "display_data"
    }
   ],
   "source": [
    "visualize_subcategories_mean(result,\"Electronics\")"
   ]
  },
  {
   "cell_type": "markdown",
   "metadata": {
    "collapsed": true
   },
   "source": [
    "# Q. Is there any free product?"
   ]
  },
  {
   "cell_type": "code",
   "execution_count": 53,
   "metadata": {},
   "outputs": [
    {
     "data": {
      "text/plain": [
       "874"
      ]
     },
     "execution_count": 53,
     "metadata": {},
     "output_type": "execute_result"
    }
   ],
   "source": [
    "\n",
    "free_products = train[train.price==0]\n",
    "free_products.shape[0]"
   ]
  },
  {
   "cell_type": "code",
   "execution_count": 54,
   "metadata": {},
   "outputs": [
    {
     "data": {
      "text/plain": [
       "303"
      ]
     },
     "execution_count": 54,
     "metadata": {},
     "output_type": "execute_result"
    }
   ],
   "source": [
    "best_free_products = free_products[free_products.item_condition_id==1]\n",
    "best_free_products.shape[0]"
   ]
  },
  {
   "cell_type": "code",
   "execution_count": 55,
   "metadata": {},
   "outputs": [
    {
     "data": {
      "text/plain": [
       "125"
      ]
     },
     "execution_count": 55,
     "metadata": {},
     "output_type": "execute_result"
    }
   ],
   "source": [
    "best_free_products_shipping = best_free_products[best_free_products.shipping==1]\n",
    "best_free_products_shipping.shape[0]"
   ]
  },
  {
   "cell_type": "code",
   "execution_count": 56,
   "metadata": {},
   "outputs": [
    {
     "data": {
      "text/html": [
       "<div>\n",
       "<style>\n",
       "    .dataframe thead tr:only-child th {\n",
       "        text-align: right;\n",
       "    }\n",
       "\n",
       "    .dataframe thead th {\n",
       "        text-align: left;\n",
       "    }\n",
       "\n",
       "    .dataframe tbody tr th {\n",
       "        vertical-align: top;\n",
       "    }\n",
       "</style>\n",
       "<table border=\"1\" class=\"dataframe\">\n",
       "  <thead>\n",
       "    <tr style=\"text-align: right;\">\n",
       "      <th></th>\n",
       "      <th>train_id</th>\n",
       "      <th>name</th>\n",
       "      <th>item_condition_id</th>\n",
       "      <th>category_name</th>\n",
       "      <th>brand_name</th>\n",
       "      <th>price</th>\n",
       "      <th>shipping</th>\n",
       "      <th>item_description</th>\n",
       "      <th>category_L1</th>\n",
       "      <th>category_L2</th>\n",
       "      <th>category_L3</th>\n",
       "    </tr>\n",
       "  </thead>\n",
       "  <tbody>\n",
       "    <tr>\n",
       "      <th>7116</th>\n",
       "      <td>7116</td>\n",
       "      <td>Nike Dri-Fit High Power Speed Tights</td>\n",
       "      <td>1</td>\n",
       "      <td>Women/Athletic Apparel/Pants, Tights, Leggings</td>\n",
       "      <td>Nike</td>\n",
       "      <td>0.0</td>\n",
       "      <td>1</td>\n",
       "      <td>Bought at Nike store in New York, Brand New, N...</td>\n",
       "      <td>Women</td>\n",
       "      <td>Athletic Apparel</td>\n",
       "      <td>Pants, Tights, Leggings</td>\n",
       "    </tr>\n",
       "    <tr>\n",
       "      <th>28091</th>\n",
       "      <td>28091</td>\n",
       "      <td>Jordan Cris Shoes Size 2</td>\n",
       "      <td>1</td>\n",
       "      <td>Kids/Boys 0-24 Mos/Shoes</td>\n",
       "      <td>Nike</td>\n",
       "      <td>0.0</td>\n",
       "      <td>1</td>\n",
       "      <td>Bought from another seller and too small</td>\n",
       "      <td>Kids</td>\n",
       "      <td>Boys 0-24 Mos</td>\n",
       "      <td>Shoes</td>\n",
       "    </tr>\n",
       "    <tr>\n",
       "      <th>1172410</th>\n",
       "      <td>1172410</td>\n",
       "      <td>BRAND NEW - Men's Nike Tank</td>\n",
       "      <td>1</td>\n",
       "      <td>Men/Athletic Apparel/Shirts &amp; Tops</td>\n",
       "      <td>Nike</td>\n",
       "      <td>0.0</td>\n",
       "      <td>1</td>\n",
       "      <td>Tags still attached- Men's Red Nike cut off ta...</td>\n",
       "      <td>Men</td>\n",
       "      <td>Athletic Apparel</td>\n",
       "      <td>Shirts &amp; Tops</td>\n",
       "    </tr>\n",
       "  </tbody>\n",
       "</table>\n",
       "</div>"
      ],
      "text/plain": [
       "         train_id                                  name item_condition_id  \\\n",
       "7116         7116  Nike Dri-Fit High Power Speed Tights                 1   \n",
       "28091       28091              Jordan Cris Shoes Size 2                 1   \n",
       "1172410   1172410           BRAND NEW - Men's Nike Tank                 1   \n",
       "\n",
       "                                          category_name brand_name  price  \\\n",
       "7116     Women/Athletic Apparel/Pants, Tights, Leggings       Nike    0.0   \n",
       "28091                          Kids/Boys 0-24 Mos/Shoes       Nike    0.0   \n",
       "1172410              Men/Athletic Apparel/Shirts & Tops       Nike    0.0   \n",
       "\n",
       "         shipping                                   item_description  \\\n",
       "7116            1  Bought at Nike store in New York, Brand New, N...   \n",
       "28091           1           Bought from another seller and too small   \n",
       "1172410         1  Tags still attached- Men's Red Nike cut off ta...   \n",
       "\n",
       "        category_L1       category_L2              category_L3  \n",
       "7116          Women  Athletic Apparel  Pants, Tights, Leggings  \n",
       "28091          Kids     Boys 0-24 Mos                    Shoes  \n",
       "1172410         Men  Athletic Apparel            Shirts & Tops  "
      ]
     },
     "execution_count": 56,
     "metadata": {},
     "output_type": "execute_result"
    }
   ],
   "source": [
    "best_free_products_shipping[best_free_products_shipping.brand_name=='Nike']"
   ]
  },
  {
   "cell_type": "code",
   "execution_count": null,
   "metadata": {
    "collapsed": true
   },
   "outputs": [],
   "source": []
  }
 ],
 "metadata": {
  "kernelspec": {
   "display_name": "Python 3",
   "language": "python",
   "name": "python3"
  },
  "language_info": {
   "codemirror_mode": {
    "name": "ipython",
    "version": 3
   },
   "file_extension": ".py",
   "mimetype": "text/x-python",
   "name": "python",
   "nbconvert_exporter": "python",
   "pygments_lexer": "ipython3",
   "version": "3.5.2"
  },
  "widgets": {
   "state": {},
   "version": "1.1.2"
  }
 },
 "nbformat": 4,
 "nbformat_minor": 2
}
