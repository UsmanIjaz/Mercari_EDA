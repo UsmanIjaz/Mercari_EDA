{
 "cells": [
  {
   "cell_type": "code",
   "execution_count": 1,
   "metadata": {},
   "outputs": [
    {
     "data": {
      "text/html": [
       "\n",
       "    <div class=\"bk-root\">\n",
       "        <a href=\"https://bokeh.pydata.org\" target=\"_blank\" class=\"bk-logo bk-logo-small bk-logo-notebook\"></a>\n",
       "        <span id=\"1dea3aa9-4c26-4a9f-bf74-592303abadbd\">Loading BokehJS ...</span>\n",
       "    </div>"
      ]
     },
     "metadata": {},
     "output_type": "display_data"
    },
    {
     "data": {
      "application/javascript": [
       "\n",
       "(function(root) {\n",
       "  function now() {\n",
       "    return new Date();\n",
       "  }\n",
       "\n",
       "  var force = true;\n",
       "\n",
       "  if (typeof (root._bokeh_onload_callbacks) === \"undefined\" || force === true) {\n",
       "    root._bokeh_onload_callbacks = [];\n",
       "    root._bokeh_is_loading = undefined;\n",
       "  }\n",
       "\n",
       "  var JS_MIME_TYPE = 'application/javascript';\n",
       "  var HTML_MIME_TYPE = 'text/html';\n",
       "  var EXEC_MIME_TYPE = 'application/vnd.bokehjs_exec.v0+json';\n",
       "  var CLASS_NAME = 'output_bokeh rendered_html';\n",
       "\n",
       "  /**\n",
       "   * Render data to the DOM node\n",
       "   */\n",
       "  function render(props, node) {\n",
       "    var script = document.createElement(\"script\");\n",
       "    node.appendChild(script);\n",
       "  }\n",
       "\n",
       "  /**\n",
       "   * Handle when an output is cleared or removed\n",
       "   */\n",
       "  function handleClearOutput(event, handle) {\n",
       "    var cell = handle.cell;\n",
       "\n",
       "    var id = cell.output_area._bokeh_element_id;\n",
       "    var server_id = cell.output_area._bokeh_server_id;\n",
       "    // Clean up Bokeh references\n",
       "    if (id != null && id in Bokeh.index) {\n",
       "      Bokeh.index[id].model.document.clear();\n",
       "      delete Bokeh.index[id];\n",
       "    }\n",
       "\n",
       "    if (server_id !== undefined) {\n",
       "      // Clean up Bokeh references\n",
       "      var cmd = \"from bokeh.io.state import curstate; print(curstate().uuid_to_server['\" + server_id + \"'].get_sessions()[0].document.roots[0]._id)\";\n",
       "      cell.notebook.kernel.execute(cmd, {\n",
       "        iopub: {\n",
       "          output: function(msg) {\n",
       "            var id = msg.content.text.trim();\n",
       "            if (id in Bokeh.index) {\n",
       "              Bokeh.index[id].model.document.clear();\n",
       "              delete Bokeh.index[id];\n",
       "            }\n",
       "          }\n",
       "        }\n",
       "      });\n",
       "      // Destroy server and session\n",
       "      var cmd = \"import bokeh.io.notebook as ion; ion.destroy_server('\" + server_id + \"')\";\n",
       "      cell.notebook.kernel.execute(cmd);\n",
       "    }\n",
       "  }\n",
       "\n",
       "  /**\n",
       "   * Handle when a new output is added\n",
       "   */\n",
       "  function handleAddOutput(event, handle) {\n",
       "    var output_area = handle.output_area;\n",
       "    var output = handle.output;\n",
       "\n",
       "    // limit handleAddOutput to display_data with EXEC_MIME_TYPE content only\n",
       "    if ((output.output_type != \"display_data\") || (!output.data.hasOwnProperty(EXEC_MIME_TYPE))) {\n",
       "      return\n",
       "    }\n",
       "\n",
       "    var toinsert = output_area.element.find(\".\" + CLASS_NAME.split(' ')[0]);\n",
       "\n",
       "    if (output.metadata[EXEC_MIME_TYPE][\"id\"] !== undefined) {\n",
       "      toinsert[toinsert.length - 1].firstChild.textContent = output.data[JS_MIME_TYPE];\n",
       "      // store reference to embed id on output_area\n",
       "      output_area._bokeh_element_id = output.metadata[EXEC_MIME_TYPE][\"id\"];\n",
       "    }\n",
       "    if (output.metadata[EXEC_MIME_TYPE][\"server_id\"] !== undefined) {\n",
       "      var bk_div = document.createElement(\"div\");\n",
       "      bk_div.innerHTML = output.data[HTML_MIME_TYPE];\n",
       "      var script_attrs = bk_div.children[0].attributes;\n",
       "      for (var i = 0; i < script_attrs.length; i++) {\n",
       "        toinsert[toinsert.length - 1].firstChild.setAttribute(script_attrs[i].name, script_attrs[i].value);\n",
       "      }\n",
       "      // store reference to server id on output_area\n",
       "      output_area._bokeh_server_id = output.metadata[EXEC_MIME_TYPE][\"server_id\"];\n",
       "    }\n",
       "  }\n",
       "\n",
       "  function register_renderer(events, OutputArea) {\n",
       "\n",
       "    function append_mime(data, metadata, element) {\n",
       "      // create a DOM node to render to\n",
       "      var toinsert = this.create_output_subarea(\n",
       "        metadata,\n",
       "        CLASS_NAME,\n",
       "        EXEC_MIME_TYPE\n",
       "      );\n",
       "      this.keyboard_manager.register_events(toinsert);\n",
       "      // Render to node\n",
       "      var props = {data: data, metadata: metadata[EXEC_MIME_TYPE]};\n",
       "      render(props, toinsert[toinsert.length - 1]);\n",
       "      element.append(toinsert);\n",
       "      return toinsert\n",
       "    }\n",
       "\n",
       "    /* Handle when an output is cleared or removed */\n",
       "    events.on('clear_output.CodeCell', handleClearOutput);\n",
       "    events.on('delete.Cell', handleClearOutput);\n",
       "\n",
       "    /* Handle when a new output is added */\n",
       "    events.on('output_added.OutputArea', handleAddOutput);\n",
       "\n",
       "    /**\n",
       "     * Register the mime type and append_mime function with output_area\n",
       "     */\n",
       "    OutputArea.prototype.register_mime_type(EXEC_MIME_TYPE, append_mime, {\n",
       "      /* Is output safe? */\n",
       "      safe: true,\n",
       "      /* Index of renderer in `output_area.display_order` */\n",
       "      index: 0\n",
       "    });\n",
       "  }\n",
       "\n",
       "  // register the mime type if in Jupyter Notebook environment and previously unregistered\n",
       "  if (root.Jupyter !== undefined) {\n",
       "    var events = require('base/js/events');\n",
       "    var OutputArea = require('notebook/js/outputarea').OutputArea;\n",
       "\n",
       "    if (OutputArea.prototype.mime_types().indexOf(EXEC_MIME_TYPE) == -1) {\n",
       "      register_renderer(events, OutputArea);\n",
       "    }\n",
       "  }\n",
       "\n",
       "  \n",
       "  if (typeof (root._bokeh_timeout) === \"undefined\" || force === true) {\n",
       "    root._bokeh_timeout = Date.now() + 5000;\n",
       "    root._bokeh_failed_load = false;\n",
       "  }\n",
       "\n",
       "  var NB_LOAD_WARNING = {'data': {'text/html':\n",
       "     \"<div style='background-color: #fdd'>\\n\"+\n",
       "     \"<p>\\n\"+\n",
       "     \"BokehJS does not appear to have successfully loaded. If loading BokehJS from CDN, this \\n\"+\n",
       "     \"may be due to a slow or bad network connection. Possible fixes:\\n\"+\n",
       "     \"</p>\\n\"+\n",
       "     \"<ul>\\n\"+\n",
       "     \"<li>re-rerun `output_notebook()` to attempt to load from CDN again, or</li>\\n\"+\n",
       "     \"<li>use INLINE resources instead, as so:</li>\\n\"+\n",
       "     \"</ul>\\n\"+\n",
       "     \"<code>\\n\"+\n",
       "     \"from bokeh.resources import INLINE\\n\"+\n",
       "     \"output_notebook(resources=INLINE)\\n\"+\n",
       "     \"</code>\\n\"+\n",
       "     \"</div>\"}};\n",
       "\n",
       "  function display_loaded() {\n",
       "    var el = document.getElementById(\"1dea3aa9-4c26-4a9f-bf74-592303abadbd\");\n",
       "    if (el != null) {\n",
       "      el.textContent = \"BokehJS is loading...\";\n",
       "    }\n",
       "    if (root.Bokeh !== undefined) {\n",
       "      if (el != null) {\n",
       "        el.textContent = \"BokehJS \" + root.Bokeh.version + \" successfully loaded.\";\n",
       "      }\n",
       "    } else if (Date.now() < root._bokeh_timeout) {\n",
       "      setTimeout(display_loaded, 100)\n",
       "    }\n",
       "  }\n",
       "\n",
       "\n",
       "  function run_callbacks() {\n",
       "    try {\n",
       "      root._bokeh_onload_callbacks.forEach(function(callback) { callback() });\n",
       "    }\n",
       "    finally {\n",
       "      delete root._bokeh_onload_callbacks\n",
       "    }\n",
       "    console.info(\"Bokeh: all callbacks have finished\");\n",
       "  }\n",
       "\n",
       "  function load_libs(js_urls, callback) {\n",
       "    root._bokeh_onload_callbacks.push(callback);\n",
       "    if (root._bokeh_is_loading > 0) {\n",
       "      console.log(\"Bokeh: BokehJS is being loaded, scheduling callback at\", now());\n",
       "      return null;\n",
       "    }\n",
       "    if (js_urls == null || js_urls.length === 0) {\n",
       "      run_callbacks();\n",
       "      return null;\n",
       "    }\n",
       "    console.log(\"Bokeh: BokehJS not loaded, scheduling load and callback at\", now());\n",
       "    root._bokeh_is_loading = js_urls.length;\n",
       "    for (var i = 0; i < js_urls.length; i++) {\n",
       "      var url = js_urls[i];\n",
       "      var s = document.createElement('script');\n",
       "      s.src = url;\n",
       "      s.async = false;\n",
       "      s.onreadystatechange = s.onload = function() {\n",
       "        root._bokeh_is_loading--;\n",
       "        if (root._bokeh_is_loading === 0) {\n",
       "          console.log(\"Bokeh: all BokehJS libraries loaded\");\n",
       "          run_callbacks()\n",
       "        }\n",
       "      };\n",
       "      s.onerror = function() {\n",
       "        console.warn(\"failed to load library \" + url);\n",
       "      };\n",
       "      console.log(\"Bokeh: injecting script tag for BokehJS library: \", url);\n",
       "      document.getElementsByTagName(\"head\")[0].appendChild(s);\n",
       "    }\n",
       "  };var element = document.getElementById(\"1dea3aa9-4c26-4a9f-bf74-592303abadbd\");\n",
       "  if (element == null) {\n",
       "    console.log(\"Bokeh: ERROR: autoload.js configured with elementid '1dea3aa9-4c26-4a9f-bf74-592303abadbd' but no matching script tag was found. \")\n",
       "    return false;\n",
       "  }\n",
       "\n",
       "  var js_urls = [\"https://cdn.pydata.org/bokeh/release/bokeh-0.13.0.min.js\", \"https://cdn.pydata.org/bokeh/release/bokeh-widgets-0.13.0.min.js\", \"https://cdn.pydata.org/bokeh/release/bokeh-tables-0.13.0.min.js\", \"https://cdn.pydata.org/bokeh/release/bokeh-gl-0.13.0.min.js\"];\n",
       "\n",
       "  var inline_js = [\n",
       "    function(Bokeh) {\n",
       "      Bokeh.set_log_level(\"info\");\n",
       "    },\n",
       "    \n",
       "    function(Bokeh) {\n",
       "      \n",
       "    },\n",
       "    function(Bokeh) {\n",
       "      console.log(\"Bokeh: injecting CSS: https://cdn.pydata.org/bokeh/release/bokeh-0.13.0.min.css\");\n",
       "      Bokeh.embed.inject_css(\"https://cdn.pydata.org/bokeh/release/bokeh-0.13.0.min.css\");\n",
       "      console.log(\"Bokeh: injecting CSS: https://cdn.pydata.org/bokeh/release/bokeh-widgets-0.13.0.min.css\");\n",
       "      Bokeh.embed.inject_css(\"https://cdn.pydata.org/bokeh/release/bokeh-widgets-0.13.0.min.css\");\n",
       "      console.log(\"Bokeh: injecting CSS: https://cdn.pydata.org/bokeh/release/bokeh-tables-0.13.0.min.css\");\n",
       "      Bokeh.embed.inject_css(\"https://cdn.pydata.org/bokeh/release/bokeh-tables-0.13.0.min.css\");\n",
       "    }\n",
       "  ];\n",
       "\n",
       "  function run_inline_js() {\n",
       "    \n",
       "    if ((root.Bokeh !== undefined) || (force === true)) {\n",
       "      for (var i = 0; i < inline_js.length; i++) {\n",
       "        inline_js[i].call(root, root.Bokeh);\n",
       "      }if (force === true) {\n",
       "        display_loaded();\n",
       "      }} else if (Date.now() < root._bokeh_timeout) {\n",
       "      setTimeout(run_inline_js, 100);\n",
       "    } else if (!root._bokeh_failed_load) {\n",
       "      console.log(\"Bokeh: BokehJS failed to load within specified timeout.\");\n",
       "      root._bokeh_failed_load = true;\n",
       "    } else if (force !== true) {\n",
       "      var cell = $(document.getElementById(\"1dea3aa9-4c26-4a9f-bf74-592303abadbd\")).parents('.cell').data().cell;\n",
       "      cell.output_area.append_execute_result(NB_LOAD_WARNING)\n",
       "    }\n",
       "\n",
       "  }\n",
       "\n",
       "  if (root._bokeh_is_loading === 0) {\n",
       "    console.log(\"Bokeh: BokehJS loaded, going straight to plotting\");\n",
       "    run_inline_js();\n",
       "  } else {\n",
       "    load_libs(js_urls, function() {\n",
       "      console.log(\"Bokeh: BokehJS plotting callback run at\", now());\n",
       "      run_inline_js();\n",
       "    });\n",
       "  }\n",
       "}(window));"
      ],
      "application/vnd.bokehjs_load.v0+json": "\n(function(root) {\n  function now() {\n    return new Date();\n  }\n\n  var force = true;\n\n  if (typeof (root._bokeh_onload_callbacks) === \"undefined\" || force === true) {\n    root._bokeh_onload_callbacks = [];\n    root._bokeh_is_loading = undefined;\n  }\n\n  \n\n  \n  if (typeof (root._bokeh_timeout) === \"undefined\" || force === true) {\n    root._bokeh_timeout = Date.now() + 5000;\n    root._bokeh_failed_load = false;\n  }\n\n  var NB_LOAD_WARNING = {'data': {'text/html':\n     \"<div style='background-color: #fdd'>\\n\"+\n     \"<p>\\n\"+\n     \"BokehJS does not appear to have successfully loaded. If loading BokehJS from CDN, this \\n\"+\n     \"may be due to a slow or bad network connection. Possible fixes:\\n\"+\n     \"</p>\\n\"+\n     \"<ul>\\n\"+\n     \"<li>re-rerun `output_notebook()` to attempt to load from CDN again, or</li>\\n\"+\n     \"<li>use INLINE resources instead, as so:</li>\\n\"+\n     \"</ul>\\n\"+\n     \"<code>\\n\"+\n     \"from bokeh.resources import INLINE\\n\"+\n     \"output_notebook(resources=INLINE)\\n\"+\n     \"</code>\\n\"+\n     \"</div>\"}};\n\n  function display_loaded() {\n    var el = document.getElementById(\"1dea3aa9-4c26-4a9f-bf74-592303abadbd\");\n    if (el != null) {\n      el.textContent = \"BokehJS is loading...\";\n    }\n    if (root.Bokeh !== undefined) {\n      if (el != null) {\n        el.textContent = \"BokehJS \" + root.Bokeh.version + \" successfully loaded.\";\n      }\n    } else if (Date.now() < root._bokeh_timeout) {\n      setTimeout(display_loaded, 100)\n    }\n  }\n\n\n  function run_callbacks() {\n    try {\n      root._bokeh_onload_callbacks.forEach(function(callback) { callback() });\n    }\n    finally {\n      delete root._bokeh_onload_callbacks\n    }\n    console.info(\"Bokeh: all callbacks have finished\");\n  }\n\n  function load_libs(js_urls, callback) {\n    root._bokeh_onload_callbacks.push(callback);\n    if (root._bokeh_is_loading > 0) {\n      console.log(\"Bokeh: BokehJS is being loaded, scheduling callback at\", now());\n      return null;\n    }\n    if (js_urls == null || js_urls.length === 0) {\n      run_callbacks();\n      return null;\n    }\n    console.log(\"Bokeh: BokehJS not loaded, scheduling load and callback at\", now());\n    root._bokeh_is_loading = js_urls.length;\n    for (var i = 0; i < js_urls.length; i++) {\n      var url = js_urls[i];\n      var s = document.createElement('script');\n      s.src = url;\n      s.async = false;\n      s.onreadystatechange = s.onload = function() {\n        root._bokeh_is_loading--;\n        if (root._bokeh_is_loading === 0) {\n          console.log(\"Bokeh: all BokehJS libraries loaded\");\n          run_callbacks()\n        }\n      };\n      s.onerror = function() {\n        console.warn(\"failed to load library \" + url);\n      };\n      console.log(\"Bokeh: injecting script tag for BokehJS library: \", url);\n      document.getElementsByTagName(\"head\")[0].appendChild(s);\n    }\n  };var element = document.getElementById(\"1dea3aa9-4c26-4a9f-bf74-592303abadbd\");\n  if (element == null) {\n    console.log(\"Bokeh: ERROR: autoload.js configured with elementid '1dea3aa9-4c26-4a9f-bf74-592303abadbd' but no matching script tag was found. \")\n    return false;\n  }\n\n  var js_urls = [\"https://cdn.pydata.org/bokeh/release/bokeh-0.13.0.min.js\", \"https://cdn.pydata.org/bokeh/release/bokeh-widgets-0.13.0.min.js\", \"https://cdn.pydata.org/bokeh/release/bokeh-tables-0.13.0.min.js\", \"https://cdn.pydata.org/bokeh/release/bokeh-gl-0.13.0.min.js\"];\n\n  var inline_js = [\n    function(Bokeh) {\n      Bokeh.set_log_level(\"info\");\n    },\n    \n    function(Bokeh) {\n      \n    },\n    function(Bokeh) {\n      console.log(\"Bokeh: injecting CSS: https://cdn.pydata.org/bokeh/release/bokeh-0.13.0.min.css\");\n      Bokeh.embed.inject_css(\"https://cdn.pydata.org/bokeh/release/bokeh-0.13.0.min.css\");\n      console.log(\"Bokeh: injecting CSS: https://cdn.pydata.org/bokeh/release/bokeh-widgets-0.13.0.min.css\");\n      Bokeh.embed.inject_css(\"https://cdn.pydata.org/bokeh/release/bokeh-widgets-0.13.0.min.css\");\n      console.log(\"Bokeh: injecting CSS: https://cdn.pydata.org/bokeh/release/bokeh-tables-0.13.0.min.css\");\n      Bokeh.embed.inject_css(\"https://cdn.pydata.org/bokeh/release/bokeh-tables-0.13.0.min.css\");\n    }\n  ];\n\n  function run_inline_js() {\n    \n    if ((root.Bokeh !== undefined) || (force === true)) {\n      for (var i = 0; i < inline_js.length; i++) {\n        inline_js[i].call(root, root.Bokeh);\n      }if (force === true) {\n        display_loaded();\n      }} else if (Date.now() < root._bokeh_timeout) {\n      setTimeout(run_inline_js, 100);\n    } else if (!root._bokeh_failed_load) {\n      console.log(\"Bokeh: BokehJS failed to load within specified timeout.\");\n      root._bokeh_failed_load = true;\n    } else if (force !== true) {\n      var cell = $(document.getElementById(\"1dea3aa9-4c26-4a9f-bf74-592303abadbd\")).parents('.cell').data().cell;\n      cell.output_area.append_execute_result(NB_LOAD_WARNING)\n    }\n\n  }\n\n  if (root._bokeh_is_loading === 0) {\n    console.log(\"Bokeh: BokehJS loaded, going straight to plotting\");\n    run_inline_js();\n  } else {\n    load_libs(js_urls, function() {\n      console.log(\"Bokeh: BokehJS plotting callback run at\", now());\n      run_inline_js();\n    });\n  }\n}(window));"
     },
     "metadata": {},
     "output_type": "display_data"
    }
   ],
   "source": [
    "import numpy as np\n",
    "import pandas as pd\n",
    "import matplotlib.pyplot as plt\n",
    "import seaborn as sns\n",
    "import missingno as msno\n",
    "\n",
    "from IPython import display\n",
    "\n",
    "from bokeh.io import output_notebook\n",
    "from bokeh.models import HoverTool\n",
    "from pandas_summary import DataFrameSummary\n",
    "from bokeh.io import output_file, show\n",
    "from bokeh.palettes import Category20c\n",
    "from bokeh.plotting import figure\n",
    "from bokeh.transform import cumsum\n",
    "from bokeh.models.annotations import Title\n",
    "\n",
    "from math import pi\n",
    "import warnings\n",
    "\n",
    "%matplotlib inline\n",
    "output_notebook()\n",
    "warnings.filterwarnings('ignore')\n"
   ]
  },
  {
   "cell_type": "code",
   "execution_count": 2,
   "metadata": {
    "collapsed": true
   },
   "outputs": [],
   "source": [
    "def to_categorical(dataset):\n",
    "    \n",
    "    dataset['category_name'] = dataset['category_name'].astype('category')\n",
    "    dataset['brand_name'] = dataset['brand_name'].astype('category')\n",
    "    dataset['item_condition_id'] = dataset['item_condition_id'].astype('category')\n",
    "    \n",
    "    return dataset"
   ]
  },
  {
   "cell_type": "code",
   "execution_count": 3,
   "metadata": {
    "collapsed": true
   },
   "outputs": [],
   "source": [
    "def visualize_categories_L1(mean_L1):\n",
    "    \n",
    "    output_file('categories_mean.html', mode=\"inline\")\n",
    "\n",
    "    \n",
    "    mean_L1['angle'] = mean_L1['mean_price_L1']/mean_L1['mean_price_L1'].sum() * 2*pi\n",
    "    mean_L1['color'] = Category20c[len(mean_L1.category_L1.unique())]\n",
    "    \n",
    "    TOOLTIPS = [\n",
    "        ('', \"@category_L1: @mean_price_L1\"),\n",
    "    ]\n",
    "    \n",
    "    p = figure(plot_height=350,tooltips=TOOLTIPS)\n",
    "    p.axis.visible = False\n",
    "    t = Title()\n",
    "    t.text = \"Mean prices for L1 Categories\"\n",
    "    p.title = t\n",
    "\n",
    "    p.annular_wedge(x=0, y=1, inner_radius=0.1, outer_radius=0.4,\n",
    "            start_angle=cumsum('angle', include_zero=True), end_angle=cumsum('angle'),\n",
    "            line_color=\"white\", fill_color='color', legend='category_L1', source=mean_L1)\n",
    "\n",
    "\n",
    "\n",
    "    show(p)"
   ]
  },
  {
   "cell_type": "code",
   "execution_count": 4,
   "metadata": {
    "collapsed": true
   },
   "outputs": [],
   "source": [
    "def visualize_subcategories_mean(df,category_L1):\n",
    "    \n",
    "    output_file(category_L1+'_subcategories_mean.html', mode=\"inline\")\n",
    "    \n",
    "    subset = df.loc[df['category_L1']==category_L1]\n",
    "    subset['angle'] = subset['price']/subset['price'].sum() * 2*pi\n",
    "    subset['color'] = Category20c[len(subset.category_L2.unique())]\n",
    "\n",
    "    TOOLTIPS = [\n",
    "        (\"\", \"@category_L2: @price\"),\n",
    "    ]\n",
    "\n",
    "\n",
    "    p = figure(plot_height=450,tooltips=TOOLTIPS)\n",
    "    p.axis.visible = False\n",
    "    t = Title()\n",
    "    t.text = \"Mean prices for L2 Categories of category \"+category_L1\n",
    "    p.title = t\n",
    "\n",
    "    p.annular_wedge(x=0, y=1, inner_radius=0.2, outer_radius=0.4,\n",
    "            start_angle=cumsum('angle', include_zero=True), end_angle=cumsum('angle'),\n",
    "            line_color=\"white\", fill_color='color', legend='category_L2', source=subset)\n",
    "\n",
    "\n",
    "\n",
    "    show(p)"
   ]
  },
  {
   "cell_type": "code",
   "execution_count": 5,
   "metadata": {
    "collapsed": true
   },
   "outputs": [],
   "source": [
    "train = pd.read_csv('data/train.tsv', sep='\\t')\n",
    "test = pd.read_csv('data/test.tsv', sep='\\t')"
   ]
  },
  {
   "cell_type": "code",
   "execution_count": 6,
   "metadata": {},
   "outputs": [
    {
     "name": "stdout",
     "output_type": "stream",
     "text": [
      "In training set, number of rows are:  1482535 and number of columns are:  8\n"
     ]
    }
   ],
   "source": [
    "print(\"In training set, number of rows are: \", train.shape[0],\"and number of columns are: \", train.shape[1])"
   ]
  },
  {
   "cell_type": "code",
   "execution_count": 7,
   "metadata": {},
   "outputs": [
    {
     "name": "stdout",
     "output_type": "stream",
     "text": [
      "In testing set, number of rows are:  693359 and number of columns are:  7\n"
     ]
    }
   ],
   "source": [
    "print(\"In testing set, number of rows are: \", test.shape[0],\"and number of columns are: \", test.shape[1])\n"
   ]
  },
  {
   "cell_type": "code",
   "execution_count": 8,
   "metadata": {},
   "outputs": [
    {
     "data": {
      "text/html": [
       "<div>\n",
       "<style>\n",
       "    .dataframe thead tr:only-child th {\n",
       "        text-align: right;\n",
       "    }\n",
       "\n",
       "    .dataframe thead th {\n",
       "        text-align: left;\n",
       "    }\n",
       "\n",
       "    .dataframe tbody tr th {\n",
       "        vertical-align: top;\n",
       "    }\n",
       "</style>\n",
       "<table border=\"1\" class=\"dataframe\">\n",
       "  <thead>\n",
       "    <tr style=\"text-align: right;\">\n",
       "      <th></th>\n",
       "      <th>train_id</th>\n",
       "      <th>name</th>\n",
       "      <th>item_condition_id</th>\n",
       "      <th>category_name</th>\n",
       "      <th>brand_name</th>\n",
       "      <th>price</th>\n",
       "      <th>shipping</th>\n",
       "      <th>item_description</th>\n",
       "    </tr>\n",
       "  </thead>\n",
       "  <tbody>\n",
       "    <tr>\n",
       "      <th>0</th>\n",
       "      <td>0</td>\n",
       "      <td>MLB Cincinnati Reds T Shirt Size XL</td>\n",
       "      <td>3</td>\n",
       "      <td>Men/Tops/T-shirts</td>\n",
       "      <td>NaN</td>\n",
       "      <td>10.0</td>\n",
       "      <td>1</td>\n",
       "      <td>No description yet</td>\n",
       "    </tr>\n",
       "    <tr>\n",
       "      <th>1</th>\n",
       "      <td>1</td>\n",
       "      <td>Razer BlackWidow Chroma Keyboard</td>\n",
       "      <td>3</td>\n",
       "      <td>Electronics/Computers &amp; Tablets/Components &amp; P...</td>\n",
       "      <td>Razer</td>\n",
       "      <td>52.0</td>\n",
       "      <td>0</td>\n",
       "      <td>This keyboard is in great condition and works ...</td>\n",
       "    </tr>\n",
       "    <tr>\n",
       "      <th>2</th>\n",
       "      <td>2</td>\n",
       "      <td>AVA-VIV Blouse</td>\n",
       "      <td>1</td>\n",
       "      <td>Women/Tops &amp; Blouses/Blouse</td>\n",
       "      <td>Target</td>\n",
       "      <td>10.0</td>\n",
       "      <td>1</td>\n",
       "      <td>Adorable top with a hint of lace and a key hol...</td>\n",
       "    </tr>\n",
       "    <tr>\n",
       "      <th>3</th>\n",
       "      <td>3</td>\n",
       "      <td>Leather Horse Statues</td>\n",
       "      <td>1</td>\n",
       "      <td>Home/Home Décor/Home Décor Accents</td>\n",
       "      <td>NaN</td>\n",
       "      <td>35.0</td>\n",
       "      <td>1</td>\n",
       "      <td>New with tags. Leather horses. Retail for [rm]...</td>\n",
       "    </tr>\n",
       "    <tr>\n",
       "      <th>4</th>\n",
       "      <td>4</td>\n",
       "      <td>24K GOLD plated rose</td>\n",
       "      <td>1</td>\n",
       "      <td>Women/Jewelry/Necklaces</td>\n",
       "      <td>NaN</td>\n",
       "      <td>44.0</td>\n",
       "      <td>0</td>\n",
       "      <td>Complete with certificate of authenticity</td>\n",
       "    </tr>\n",
       "  </tbody>\n",
       "</table>\n",
       "</div>"
      ],
      "text/plain": [
       "   train_id                                 name  item_condition_id  \\\n",
       "0         0  MLB Cincinnati Reds T Shirt Size XL                  3   \n",
       "1         1     Razer BlackWidow Chroma Keyboard                  3   \n",
       "2         2                       AVA-VIV Blouse                  1   \n",
       "3         3                Leather Horse Statues                  1   \n",
       "4         4                 24K GOLD plated rose                  1   \n",
       "\n",
       "                                       category_name brand_name  price  \\\n",
       "0                                  Men/Tops/T-shirts        NaN   10.0   \n",
       "1  Electronics/Computers & Tablets/Components & P...      Razer   52.0   \n",
       "2                        Women/Tops & Blouses/Blouse     Target   10.0   \n",
       "3                 Home/Home Décor/Home Décor Accents        NaN   35.0   \n",
       "4                            Women/Jewelry/Necklaces        NaN   44.0   \n",
       "\n",
       "   shipping                                   item_description  \n",
       "0         1                                 No description yet  \n",
       "1         0  This keyboard is in great condition and works ...  \n",
       "2         1  Adorable top with a hint of lace and a key hol...  \n",
       "3         1  New with tags. Leather horses. Retail for [rm]...  \n",
       "4         0          Complete with certificate of authenticity  "
      ]
     },
     "execution_count": 8,
     "metadata": {},
     "output_type": "execute_result"
    }
   ],
   "source": [
    "train.head(5)"
   ]
  },
  {
   "cell_type": "code",
   "execution_count": 9,
   "metadata": {},
   "outputs": [
    {
     "data": {
      "text/plain": [
       "train_id               int64\n",
       "name                  object\n",
       "item_condition_id      int64\n",
       "category_name         object\n",
       "brand_name            object\n",
       "price                float64\n",
       "shipping               int64\n",
       "item_description      object\n",
       "dtype: object"
      ]
     },
     "execution_count": 9,
     "metadata": {},
     "output_type": "execute_result"
    }
   ],
   "source": [
    "train.dtypes"
   ]
  },
  {
   "cell_type": "code",
   "execution_count": 10,
   "metadata": {
    "collapsed": true
   },
   "outputs": [],
   "source": [
    "# converting item_description_id, category name, brand_name to categorical variables\n",
    "train = to_categorical(train)"
   ]
  },
  {
   "cell_type": "code",
   "execution_count": 11,
   "metadata": {},
   "outputs": [
    {
     "data": {
      "text/plain": [
       "train_id              0.000000\n",
       "name                  0.000000\n",
       "item_condition_id     0.000000\n",
       "category_name         0.426769\n",
       "brand_name           42.675687\n",
       "price                 0.000000\n",
       "shipping              0.000000\n",
       "item_description      0.000270\n",
       "dtype: float64"
      ]
     },
     "execution_count": 11,
     "metadata": {},
     "output_type": "execute_result"
    }
   ],
   "source": [
    "train.isnull().mean()*100"
   ]
  },
  {
   "cell_type": "code",
   "execution_count": 12,
   "metadata": {
    "collapsed": true
   },
   "outputs": [],
   "source": [
    "\n",
    "\n",
    "# what are the most expensice brands present\n",
    "# does expensive brand causes higher prices\n",
    "# how many categories are there\n",
    "# does the prices vary by product categories\n"
   ]
  },
  {
   "cell_type": "code",
   "execution_count": 13,
   "metadata": {
    "collapsed": true
   },
   "outputs": [],
   "source": [
    "# Q1: What is the overall condition of the products available? "
   ]
  },
  {
   "cell_type": "code",
   "execution_count": 14,
   "metadata": {},
   "outputs": [
    {
     "data": {
      "text/html": [
       "<div>\n",
       "<style>\n",
       "    .dataframe thead tr:only-child th {\n",
       "        text-align: right;\n",
       "    }\n",
       "\n",
       "    .dataframe thead th {\n",
       "        text-align: left;\n",
       "    }\n",
       "\n",
       "    .dataframe tbody tr th {\n",
       "        vertical-align: top;\n",
       "    }\n",
       "</style>\n",
       "<table border=\"1\" class=\"dataframe\">\n",
       "  <thead>\n",
       "    <tr style=\"text-align: right;\">\n",
       "      <th></th>\n",
       "      <th>item_condition_id</th>\n",
       "    </tr>\n",
       "  </thead>\n",
       "  <tbody>\n",
       "    <tr>\n",
       "      <th>1</th>\n",
       "      <td>43.206332</td>\n",
       "    </tr>\n",
       "    <tr>\n",
       "      <th>3</th>\n",
       "      <td>29.150138</td>\n",
       "    </tr>\n",
       "    <tr>\n",
       "      <th>2</th>\n",
       "      <td>25.326822</td>\n",
       "    </tr>\n",
       "    <tr>\n",
       "      <th>4</th>\n",
       "      <td>2.155902</td>\n",
       "    </tr>\n",
       "    <tr>\n",
       "      <th>5</th>\n",
       "      <td>0.160806</td>\n",
       "    </tr>\n",
       "  </tbody>\n",
       "</table>\n",
       "</div>"
      ],
      "text/plain": [
       "   item_condition_id\n",
       "1          43.206332\n",
       "3          29.150138\n",
       "2          25.326822\n",
       "4           2.155902\n",
       "5           0.160806"
      ]
     },
     "execution_count": 14,
     "metadata": {},
     "output_type": "execute_result"
    }
   ],
   "source": [
    "item_condition_df = pd.DataFrame(train.item_condition_id.value_counts(normalize=True)*100)\n",
    "item_condition_df"
   ]
  },
  {
   "cell_type": "code",
   "execution_count": 15,
   "metadata": {},
   "outputs": [
    {
     "data": {
      "text/plain": [
       "[<matplotlib.text.Text at 0x7f430fff6208>]"
      ]
     },
     "execution_count": 15,
     "metadata": {},
     "output_type": "execute_result"
    },
    {
     "data": {
      "image/png": "[encoded data removed]",
      "text/plain": [
       "<matplotlib.figure.Figure at 0x7f431142b6a0>"
      ]
     },
     "metadata": {},
     "output_type": "display_data"
    }
   ],
   "source": [
    "sns.set(style=\"whitegrid\")\n",
    "plt.subplots(figsize=(5,5))\n",
    "plt.xlabel = \"Item Condition\"\n",
    "plt.ylabel = \"\"\n",
    "ax = sns.barplot(x=item_condition_df.index, y=item_condition_df.item_condition_id)\n",
    "ax.set(xlabel='Item Coniditon ID', ylabel='Number of products %')\n",
    "ax.set(title=\"Products Condition\")"
   ]
  },
  {
   "cell_type": "code",
   "execution_count": 16,
   "metadata": {},
   "outputs": [
    {
     "data": {
      "text/plain": [
       "2     Adorable top with a hint of lace and a key hol...\n",
       "3     New with tags. Leather horses. Retail for [rm]...\n",
       "4             Complete with certificate of authenticity\n",
       "11    (5) new vs pink body mists (2.5 oz each) Fresh...\n",
       "13                                   No description yet\n",
       "15    Brand new. Deluxe travel size products. Contai...\n",
       "16    2 glitter eyeshadows; one in Brass and one in ...\n",
       "17    Brand new in box Size: Medium Color: Coral Ret...\n",
       "18    This AUTHENTIC pallete by Too Faced is brand n...\n",
       "21    NWT Victoria's Secret ULTIMATE SPORT BRA -MAXI...\n",
       "Name: item_description, dtype: object"
      ]
     },
     "execution_count": 16,
     "metadata": {},
     "output_type": "execute_result"
    }
   ],
   "source": [
    "train.item_description[train.item_condition_id==1][:10]"
   ]
  },
  {
   "cell_type": "code",
   "execution_count": 17,
   "metadata": {},
   "outputs": [
    {
     "data": {
      "text/plain": [
       "258     Powers on, no screen display, no external dama...\n",
       "653                                    No description yet\n",
       "1027                 10k gold 18\" chain. Broken at clasp.\n",
       "2436    For parts . Turns on and hold battery charge ....\n",
       "2803    2 pounds of junk jewelry, There are some items...\n",
       "3177                                   No description yet\n",
       "3394                                  For parts or repair\n",
       "4948         moving out so just dont wanna keep For Free！\n",
       "5055                      Powers on but won't play games.\n",
       "5938    Alex and ani rafaelian gold set of four bracel...\n",
       "Name: item_description, dtype: object"
      ]
     },
     "execution_count": 17,
     "metadata": {},
     "output_type": "execute_result"
    }
   ],
   "source": [
    "train.item_description[train.item_condition_id==5][:10]"
   ]
  },
  {
   "cell_type": "code",
   "execution_count": 18,
   "metadata": {
    "collapsed": true
   },
   "outputs": [],
   "source": [
    "# Q2: Who is responsible for the shipment of prodcuts and how it impacts the product price?"
   ]
  },
  {
   "cell_type": "code",
   "execution_count": 19,
   "metadata": {},
   "outputs": [
    {
     "data": {
      "text/html": [
       "<div>\n",
       "<style>\n",
       "    .dataframe thead tr:only-child th {\n",
       "        text-align: right;\n",
       "    }\n",
       "\n",
       "    .dataframe thead th {\n",
       "        text-align: left;\n",
       "    }\n",
       "\n",
       "    .dataframe tbody tr th {\n",
       "        vertical-align: top;\n",
       "    }\n",
       "</style>\n",
       "<table border=\"1\" class=\"dataframe\">\n",
       "  <thead>\n",
       "    <tr style=\"text-align: right;\">\n",
       "      <th></th>\n",
       "      <th>shipping</th>\n",
       "    </tr>\n",
       "  </thead>\n",
       "  <tbody>\n",
       "    <tr>\n",
       "      <th>0</th>\n",
       "      <td>55.272557</td>\n",
       "    </tr>\n",
       "    <tr>\n",
       "      <th>1</th>\n",
       "      <td>44.727443</td>\n",
       "    </tr>\n",
       "  </tbody>\n",
       "</table>\n",
       "</div>"
      ],
      "text/plain": [
       "    shipping\n",
       "0  55.272557\n",
       "1  44.727443"
      ]
     },
     "execution_count": 19,
     "metadata": {},
     "output_type": "execute_result"
    }
   ],
   "source": [
    "#shipping condition\n",
    "shipping_df = pd.DataFrame(train.shipping.value_counts(normalize=True)*100)\n",
    "shipping_df"
   ]
  },
  {
   "cell_type": "code",
   "execution_count": 20,
   "metadata": {},
   "outputs": [
    {
     "data": {
      "text/plain": [
       "[<matplotlib.text.Text at 0x7f430ff384e0>]"
      ]
     },
     "execution_count": 20,
     "metadata": {},
     "output_type": "execute_result"
    },
    {
     "data": {
      "image/png": "[encoded data removed]",
      "text/plain": [
       "<matplotlib.figure.Figure at 0x7f430ff97f28>"
      ]
     },
     "metadata": {},
     "output_type": "display_data"
    }
   ],
   "source": [
    "sns.set(style=\"whitegrid\")\n",
    "plt.subplots(figsize=(5,5))\n",
    "ax = sns.barplot(x=shipping_df.index, y=shipping_df.shipping)\n",
    "ax.set(xlabel='Shipping Coniditon', ylabel='Number of products %')\n",
    "ax.set(title=\"Products Shipping\")"
   ]
  },
  {
   "cell_type": "code",
   "execution_count": null,
   "metadata": {
    "collapsed": true
   },
   "outputs": [],
   "source": []
  },
  {
   "cell_type": "code",
   "execution_count": 21,
   "metadata": {
    "collapsed": true
   },
   "outputs": [],
   "source": [
    "# Q3: How important is the brand name and what are the most frequent brands?"
   ]
  },
  {
   "cell_type": "code",
   "execution_count": 22,
   "metadata": {},
   "outputs": [
    {
     "data": {
      "text/plain": [
       "4809"
      ]
     },
     "execution_count": 22,
     "metadata": {},
     "output_type": "execute_result"
    }
   ],
   "source": [
    "train.brand_name.nunique()"
   ]
  },
  {
   "cell_type": "code",
   "execution_count": 23,
   "metadata": {},
   "outputs": [
    {
     "data": {
      "text/plain": [
       "[nan,\n",
       " 'Razer',\n",
       " 'Target',\n",
       " 'Acacia Swimwear',\n",
       " 'Soffe',\n",
       " 'Nike',\n",
       " 'Smashbox',\n",
       " \"Victoria's Secret\",\n",
       " 'rue',\n",
       " 'Scholastic',\n",
       " 'UGG Australia',\n",
       " 'Tarte',\n",
       " 'Wet n Wild',\n",
       " 'Too Faced',\n",
       " 'Anthropologie',\n",
       " 'Torrid',\n",
       " 'Samsung',\n",
       " 'FOREVER 21',\n",
       " 'Air Jordan',\n",
       " 'Apple']"
      ]
     },
     "execution_count": 23,
     "metadata": {},
     "output_type": "execute_result"
    }
   ],
   "source": [
    "brand_names_list = list(train.brand_name.unique())\n",
    "brand_names_list[:20]"
   ]
  },
  {
   "cell_type": "code",
   "execution_count": 24,
   "metadata": {
    "collapsed": true
   },
   "outputs": [],
   "source": [
    "branded_products = train[train.brand_name.isnull()==False]\n",
    "non_branded_products = train[train.brand_name.isnull()==True]\n"
   ]
  },
  {
   "cell_type": "code",
   "execution_count": 25,
   "metadata": {},
   "outputs": [
    {
     "data": {
      "text/plain": [
       "57.32431274809701"
      ]
     },
     "execution_count": 25,
     "metadata": {},
     "output_type": "execute_result"
    }
   ],
   "source": [
    "branded_products.shape[0]/train.shape[0]*100"
   ]
  },
  {
   "cell_type": "code",
   "execution_count": 26,
   "metadata": {},
   "outputs": [
    {
     "data": {
      "text/plain": [
       "42.675687251902986"
      ]
     },
     "execution_count": 26,
     "metadata": {},
     "output_type": "execute_result"
    }
   ],
   "source": [
    "non_branded_products.shape[0]/train.shape[0]*100"
   ]
  },
  {
   "cell_type": "code",
   "execution_count": 27,
   "metadata": {},
   "outputs": [
    {
     "data": {
      "text/plain": [
       "30.909519646338836"
      ]
     },
     "execution_count": 27,
     "metadata": {},
     "output_type": "execute_result"
    }
   ],
   "source": [
    "branded_products.price.mean()"
   ]
  },
  {
   "cell_type": "code",
   "execution_count": 28,
   "metadata": {},
   "outputs": [
    {
     "data": {
      "text/plain": [
       "21.13345329881362"
      ]
     },
     "execution_count": 28,
     "metadata": {},
     "output_type": "execute_result"
    }
   ],
   "source": [
    "non_branded_products.price.mean()"
   ]
  },
  {
   "cell_type": "code",
   "execution_count": null,
   "metadata": {
    "collapsed": true
   },
   "outputs": [],
   "source": []
  },
  {
   "cell_type": "code",
   "execution_count": 29,
   "metadata": {},
   "outputs": [
    {
     "data": {
      "text/plain": [
       "PINK                 6.364395\n",
       "Nike                 6.359100\n",
       "Victoria's Secret    5.652272\n",
       "LuLaRoe              3.650514\n",
       "Apple                2.038235\n",
       "FOREVER 21           1.786897\n",
       "Nintendo             1.765835\n",
       "Lululemon            1.713002\n",
       "Michael Kors         1.638872\n",
       "American Eagle       1.559564\n",
       "Name: brand_name, dtype: float64"
      ]
     },
     "execution_count": 29,
     "metadata": {},
     "output_type": "execute_result"
    }
   ],
   "source": [
    "#43 percent values contain NaNs, top brands from remaining 57% data are\n",
    "train.brand_name.value_counts(normalize=True,dropna=True).nlargest(10)*100"
   ]
  },
  {
   "cell_type": "code",
   "execution_count": 30,
   "metadata": {
    "collapsed": true
   },
   "outputs": [],
   "source": [
    "# Q4: What kind of products are popular? "
   ]
  },
  {
   "cell_type": "code",
   "execution_count": 31,
   "metadata": {},
   "outputs": [
    {
     "name": "stdout",
     "output_type": "stream",
     "text": [
      "There are 1287 unique values in the category column.\n"
     ]
    }
   ],
   "source": [
    "print(\"There are %d unique values in the category column.\" % train['category_name'].nunique())"
   ]
  },
  {
   "cell_type": "code",
   "execution_count": 32,
   "metadata": {},
   "outputs": [
    {
     "data": {
      "text/plain": [
       "Women/Athletic Apparel/Pants, Tights, Leggings                 4.076458\n",
       "Women/Tops & Blouses/T-Shirts                                  3.141834\n",
       "Beauty/Makeup/Face                                             2.325892\n",
       "Beauty/Makeup/Lips                                             2.026137\n",
       "Electronics/Video Games & Consoles/Games                       1.799001\n",
       "Beauty/Makeup/Eyes                                             1.708093\n",
       "Electronics/Cell Phones & Accessories/Cases, Covers & Skins    1.671580\n",
       "Women/Underwear/Bras                                           1.441125\n",
       "Women/Tops & Blouses/Tank, Cami                                1.374061\n",
       "Women/Tops & Blouses/Blouse                                    1.374061\n",
       "Name: category_name, dtype: float64"
      ]
     },
     "execution_count": 32,
     "metadata": {},
     "output_type": "execute_result"
    }
   ],
   "source": [
    "train['category_name'].value_counts(normalize=True)[:10]*100"
   ]
  },
  {
   "cell_type": "code",
   "execution_count": 33,
   "metadata": {},
   "outputs": [
    {
     "data": {
      "text/html": [
       "<div>\n",
       "<style>\n",
       "    .dataframe thead tr:only-child th {\n",
       "        text-align: right;\n",
       "    }\n",
       "\n",
       "    .dataframe thead th {\n",
       "        text-align: left;\n",
       "    }\n",
       "\n",
       "    .dataframe tbody tr th {\n",
       "        vertical-align: top;\n",
       "    }\n",
       "</style>\n",
       "<table border=\"1\" class=\"dataframe\">\n",
       "  <thead>\n",
       "    <tr style=\"text-align: right;\">\n",
       "      <th></th>\n",
       "      <th>train_id</th>\n",
       "      <th>name</th>\n",
       "      <th>item_condition_id</th>\n",
       "      <th>category_name</th>\n",
       "      <th>brand_name</th>\n",
       "      <th>price</th>\n",
       "      <th>shipping</th>\n",
       "      <th>item_description</th>\n",
       "    </tr>\n",
       "    <tr>\n",
       "      <th>category_name</th>\n",
       "      <th></th>\n",
       "      <th></th>\n",
       "      <th></th>\n",
       "      <th></th>\n",
       "      <th></th>\n",
       "      <th></th>\n",
       "      <th></th>\n",
       "      <th></th>\n",
       "    </tr>\n",
       "  </thead>\n",
       "  <tbody>\n",
       "    <tr>\n",
       "      <th>2.0</th>\n",
       "      <td>1471819</td>\n",
       "      <td>1471819</td>\n",
       "      <td>1471819</td>\n",
       "      <td>1471819</td>\n",
       "      <td>844461</td>\n",
       "      <td>1471819</td>\n",
       "      <td>1471819</td>\n",
       "      <td>1471815</td>\n",
       "    </tr>\n",
       "    <tr>\n",
       "      <th>3.0</th>\n",
       "      <td>1330</td>\n",
       "      <td>1330</td>\n",
       "      <td>1330</td>\n",
       "      <td>1330</td>\n",
       "      <td>372</td>\n",
       "      <td>1330</td>\n",
       "      <td>1330</td>\n",
       "      <td>1330</td>\n",
       "    </tr>\n",
       "    <tr>\n",
       "      <th>4.0</th>\n",
       "      <td>3059</td>\n",
       "      <td>3059</td>\n",
       "      <td>3059</td>\n",
       "      <td>3059</td>\n",
       "      <td>2150</td>\n",
       "      <td>3059</td>\n",
       "      <td>3059</td>\n",
       "      <td>3059</td>\n",
       "    </tr>\n",
       "  </tbody>\n",
       "</table>\n",
       "</div>"
      ],
      "text/plain": [
       "               train_id     name  item_condition_id  category_name  \\\n",
       "category_name                                                        \n",
       "2.0             1471819  1471819            1471819        1471819   \n",
       "3.0                1330     1330               1330           1330   \n",
       "4.0                3059     3059               3059           3059   \n",
       "\n",
       "               brand_name    price  shipping  item_description  \n",
       "category_name                                                   \n",
       "2.0                844461  1471819   1471819           1471815  \n",
       "3.0                   372     1330      1330              1330  \n",
       "4.0                  2150     3059      3059              3059  "
      ]
     },
     "execution_count": 33,
     "metadata": {},
     "output_type": "execute_result"
    }
   ],
   "source": [
    "train.groupby(train.category_name.str.count(\"/\")).count()\n"
   ]
  },
  {
   "cell_type": "code",
   "execution_count": 34,
   "metadata": {
    "collapsed": true
   },
   "outputs": [],
   "source": [
    "# extract categories\n",
    "train[\"category_L1\"] = train.category_name.str.extract(\"([^/]+)/[^/]+/[^/]+\", expand=False)\n",
    "train[\"category_L2\"] = train.category_name.str.extract(\"[^/]+/([^/]+)/[^/]+\", expand=False)\n",
    "train[\"category_L3\"] = train.category_name.str.extract(\"[^/]+/[^/]+/([^/]+)\", expand=False)"
   ]
  },
  {
   "cell_type": "code",
   "execution_count": 35,
   "metadata": {},
   "outputs": [
    {
     "data": {
      "text/plain": [
       "10"
      ]
     },
     "execution_count": 35,
     "metadata": {},
     "output_type": "execute_result"
    }
   ],
   "source": [
    "train.category_L1.nunique()"
   ]
  },
  {
   "cell_type": "code",
   "execution_count": 36,
   "metadata": {},
   "outputs": [
    {
     "data": {
      "text/html": [
       "<div>\n",
       "<style>\n",
       "    .dataframe thead tr:only-child th {\n",
       "        text-align: right;\n",
       "    }\n",
       "\n",
       "    .dataframe thead th {\n",
       "        text-align: left;\n",
       "    }\n",
       "\n",
       "    .dataframe tbody tr th {\n",
       "        vertical-align: top;\n",
       "    }\n",
       "</style>\n",
       "<table border=\"1\" class=\"dataframe\">\n",
       "  <thead>\n",
       "    <tr style=\"text-align: right;\">\n",
       "      <th></th>\n",
       "      <th>category_L1</th>\n",
       "    </tr>\n",
       "  </thead>\n",
       "  <tbody>\n",
       "    <tr>\n",
       "      <th>Women</th>\n",
       "      <td>44.814119</td>\n",
       "    </tr>\n",
       "    <tr>\n",
       "      <th>Beauty</th>\n",
       "      <td>14.018421</td>\n",
       "    </tr>\n",
       "    <tr>\n",
       "      <th>Kids</th>\n",
       "      <td>11.580772</td>\n",
       "    </tr>\n",
       "    <tr>\n",
       "      <th>Electronics</th>\n",
       "      <td>8.275690</td>\n",
       "    </tr>\n",
       "    <tr>\n",
       "      <th>Men</th>\n",
       "      <td>6.318906</td>\n",
       "    </tr>\n",
       "    <tr>\n",
       "      <th>Home</th>\n",
       "      <td>4.578037</td>\n",
       "    </tr>\n",
       "    <tr>\n",
       "      <th>Vintage &amp; Collectibles</th>\n",
       "      <td>3.138543</td>\n",
       "    </tr>\n",
       "    <tr>\n",
       "      <th>Other</th>\n",
       "      <td>3.059017</td>\n",
       "    </tr>\n",
       "    <tr>\n",
       "      <th>Handmade</th>\n",
       "      <td>2.080356</td>\n",
       "    </tr>\n",
       "    <tr>\n",
       "      <th>Sports &amp; Outdoors</th>\n",
       "      <td>1.709369</td>\n",
       "    </tr>\n",
       "    <tr>\n",
       "      <th>NaN</th>\n",
       "      <td>0.426769</td>\n",
       "    </tr>\n",
       "  </tbody>\n",
       "</table>\n",
       "</div>"
      ],
      "text/plain": [
       "                        category_L1\n",
       "Women                     44.814119\n",
       "Beauty                    14.018421\n",
       "Kids                      11.580772\n",
       "Electronics                8.275690\n",
       "Men                        6.318906\n",
       "Home                       4.578037\n",
       "Vintage & Collectibles     3.138543\n",
       "Other                      3.059017\n",
       "Handmade                   2.080356\n",
       "Sports & Outdoors          1.709369\n",
       "NaN                        0.426769"
      ]
     },
     "execution_count": 36,
     "metadata": {},
     "output_type": "execute_result"
    }
   ],
   "source": [
    "category_L1_df = pd.DataFrame(train.category_L1.value_counts(normalize=True,dropna=False)*100)\n",
    "category_L1_df\n"
   ]
  },
  {
   "cell_type": "code",
   "execution_count": 37,
   "metadata": {},
   "outputs": [
    {
     "data": {
      "text/plain": [
       "array(['Men', 'Electronics', 'Women', 'Home', 'Sports & Outdoors',\n",
       "       'Vintage & Collectibles', 'Beauty', 'Other', 'Kids', nan, 'Handmade'], dtype=object)"
      ]
     },
     "execution_count": 37,
     "metadata": {},
     "output_type": "execute_result"
    }
   ],
   "source": [
    "train.category_L1.unique()"
   ]
  },
  {
   "cell_type": "code",
   "execution_count": 38,
   "metadata": {},
   "outputs": [
    {
     "data": {
      "text/plain": [
       "[<matplotlib.text.Text at 0x7f430fe6d518>]"
      ]
     },
     "execution_count": 38,
     "metadata": {},
     "output_type": "execute_result"
    },
    {
     "data": {
      "image/png": "[encoded data removed]",
      "text/plain": [
       "<matplotlib.figure.Figure at 0x7f430fe47fd0>"
      ]
     },
     "metadata": {},
     "output_type": "display_data"
    }
   ],
   "source": [
    "sns.set(style=\"whitegrid\")\n",
    "plt.subplots(figsize=(18,5))\n",
    "ax = sns.barplot(y=category_L1_df.index, x=category_L1_df.category_L1)\n",
    "ax.set(xlabel='Number of products %', ylabel='Categories')\n",
    "ax.set(title=\"Main Categories\")"
   ]
  },
  {
   "cell_type": "code",
   "execution_count": 39,
   "metadata": {},
   "outputs": [
    {
     "data": {
      "text/plain": [
       "113"
      ]
     },
     "execution_count": 39,
     "metadata": {},
     "output_type": "execute_result"
    }
   ],
   "source": [
    "train.category_L2.nunique()"
   ]
  },
  {
   "cell_type": "code",
   "execution_count": 40,
   "metadata": {
    "scrolled": true
   },
   "outputs": [
    {
     "data": {
      "text/html": [
       "<div>\n",
       "<style>\n",
       "    .dataframe thead tr:only-child th {\n",
       "        text-align: right;\n",
       "    }\n",
       "\n",
       "    .dataframe thead th {\n",
       "        text-align: left;\n",
       "    }\n",
       "\n",
       "    .dataframe tbody tr th {\n",
       "        vertical-align: top;\n",
       "    }\n",
       "</style>\n",
       "<table border=\"1\" class=\"dataframe\">\n",
       "  <thead>\n",
       "    <tr style=\"text-align: right;\">\n",
       "      <th></th>\n",
       "      <th>category_L2</th>\n",
       "    </tr>\n",
       "  </thead>\n",
       "  <tbody>\n",
       "    <tr>\n",
       "      <th>Athletic Apparel</th>\n",
       "      <td>18.582147</td>\n",
       "    </tr>\n",
       "    <tr>\n",
       "      <th>Tops &amp; Blouses</th>\n",
       "      <td>16.099099</td>\n",
       "    </tr>\n",
       "    <tr>\n",
       "      <th>Shoes</th>\n",
       "      <td>11.688103</td>\n",
       "    </tr>\n",
       "    <tr>\n",
       "      <th>Jewelry</th>\n",
       "      <td>8.554829</td>\n",
       "    </tr>\n",
       "    <tr>\n",
       "      <th>Women's Handbags</th>\n",
       "      <td>6.902925</td>\n",
       "    </tr>\n",
       "    <tr>\n",
       "      <th>Dresses</th>\n",
       "      <td>6.887272</td>\n",
       "    </tr>\n",
       "    <tr>\n",
       "      <th>Women's Accessories</th>\n",
       "      <td>6.374316</td>\n",
       "    </tr>\n",
       "    <tr>\n",
       "      <th>Sweaters</th>\n",
       "      <td>5.164475</td>\n",
       "    </tr>\n",
       "    <tr>\n",
       "      <th>Underwear</th>\n",
       "      <td>5.085003</td>\n",
       "    </tr>\n",
       "    <tr>\n",
       "      <th>Jeans</th>\n",
       "      <td>4.867359</td>\n",
       "    </tr>\n",
       "    <tr>\n",
       "      <th>Swimwear</th>\n",
       "      <td>2.772489</td>\n",
       "    </tr>\n",
       "    <tr>\n",
       "      <th>Coats &amp; Jackets</th>\n",
       "      <td>2.270822</td>\n",
       "    </tr>\n",
       "    <tr>\n",
       "      <th>Skirts</th>\n",
       "      <td>1.599223</td>\n",
       "    </tr>\n",
       "    <tr>\n",
       "      <th>Pants</th>\n",
       "      <td>1.265531</td>\n",
       "    </tr>\n",
       "    <tr>\n",
       "      <th>Other</th>\n",
       "      <td>1.093342</td>\n",
       "    </tr>\n",
       "    <tr>\n",
       "      <th>Maternity</th>\n",
       "      <td>0.505430</td>\n",
       "    </tr>\n",
       "    <tr>\n",
       "      <th>Suits &amp; Blazers</th>\n",
       "      <td>0.287634</td>\n",
       "    </tr>\n",
       "  </tbody>\n",
       "</table>\n",
       "</div>"
      ],
      "text/plain": [
       "                     category_L2\n",
       "Athletic Apparel       18.582147\n",
       "Tops & Blouses         16.099099\n",
       "Shoes                  11.688103\n",
       "Jewelry                 8.554829\n",
       "Women's Handbags        6.902925\n",
       "Dresses                 6.887272\n",
       "Women's Accessories     6.374316\n",
       "Sweaters                5.164475\n",
       "Underwear               5.085003\n",
       "Jeans                   4.867359\n",
       "Swimwear                2.772489\n",
       "Coats & Jackets         2.270822\n",
       "Skirts                  1.599223\n",
       "Pants                   1.265531\n",
       "Other                   1.093342\n",
       "Maternity               0.505430\n",
       "Suits & Blazers         0.287634"
      ]
     },
     "execution_count": 40,
     "metadata": {},
     "output_type": "execute_result"
    }
   ],
   "source": [
    "category_L2_Women_df = pd.DataFrame(train[train.category_L1==\"Women\"].category_L2.value_counts(normalize=True,dropna=False)*100)\n",
    "category_L2_Women_df"
   ]
  },
  {
   "cell_type": "code",
   "execution_count": 41,
   "metadata": {},
   "outputs": [
    {
     "data": {
      "text/plain": [
       "[<matplotlib.text.Text at 0x7f430fd80e10>]"
      ]
     },
     "execution_count": 41,
     "metadata": {},
     "output_type": "execute_result"
    },
    {
     "data": {
      "image/png": "[encoded data removed]",
      "text/plain": [
       "<matplotlib.figure.Figure at 0x7f430fdd5518>"
      ]
     },
     "metadata": {},
     "output_type": "display_data"
    }
   ],
   "source": [
    "sns.set(style=\"whitegrid\")\n",
    "plt.subplots(figsize=(18,5))\n",
    "ax = sns.barplot(y=category_L2_Women_df.index, x=category_L2_Women_df.category_L2)\n",
    "ax.set(xlabel='Number of products %', ylabel='Category_L2')\n",
    "ax.set(title=\"Subcategories of category 'Women'\")"
   ]
  },
  {
   "cell_type": "code",
   "execution_count": 42,
   "metadata": {},
   "outputs": [
    {
     "data": {
      "text/plain": [
       "870"
      ]
     },
     "execution_count": 42,
     "metadata": {},
     "output_type": "execute_result"
    }
   ],
   "source": [
    "train.category_L3.nunique()"
   ]
  },
  {
   "cell_type": "code",
   "execution_count": 43,
   "metadata": {},
   "outputs": [
    {
     "data": {
      "text/plain": [
       "Athletic Apparel             9.103256\n",
       "Makeup                       8.442171\n",
       "Tops & Blouses               7.245591\n",
       "Shoes                        6.804732\n",
       "Jewelry                      4.183895\n",
       "Toys                         3.939689\n",
       "Cell Phones & Accessories    3.609925\n",
       "Women's Handbags             3.106744\n",
       "Dresses                      3.099699\n",
       "Women's Accessories          2.868837\n",
       "Jeans                        2.447487\n",
       "Video Games & Consoles       2.436716\n",
       "Sweaters                     2.421881\n",
       "Underwear                    2.288566\n",
       "Skin Care                    2.021260\n",
       "Name: category_L2, dtype: float64"
      ]
     },
     "execution_count": 43,
     "metadata": {},
     "output_type": "execute_result"
    }
   ],
   "source": [
    "train.category_L2.value_counts(normalize=True).nlargest(15)*100"
   ]
  },
  {
   "cell_type": "code",
   "execution_count": 44,
   "metadata": {},
   "outputs": [
    {
     "data": {
      "text/plain": [
       "870"
      ]
     },
     "execution_count": 44,
     "metadata": {},
     "output_type": "execute_result"
    }
   ],
   "source": [
    "train.category_L3.nunique()"
   ]
  },
  {
   "cell_type": "code",
   "execution_count": null,
   "metadata": {
    "collapsed": true
   },
   "outputs": [],
   "source": []
  },
  {
   "cell_type": "code",
   "execution_count": 45,
   "metadata": {
    "collapsed": true
   },
   "outputs": [],
   "source": [
    "# what is the variation in prices\n",
    "#analyze relationship with price"
   ]
  },
  {
   "cell_type": "code",
   "execution_count": 46,
   "metadata": {},
   "outputs": [
    {
     "data": {
      "text/plain": [
       "count    1.482535e+06\n",
       "mean     2.673752e+01\n",
       "std      3.858607e+01\n",
       "min      0.000000e+00\n",
       "25%      1.000000e+01\n",
       "50%      1.700000e+01\n",
       "75%      2.900000e+01\n",
       "max      2.009000e+03\n",
       "Name: price, dtype: float64"
      ]
     },
     "execution_count": 46,
     "metadata": {},
     "output_type": "execute_result"
    }
   ],
   "source": [
    "# its a continuos col\n",
    "train.price.describe()"
   ]
  },
  {
   "cell_type": "code",
   "execution_count": 47,
   "metadata": {},
   "outputs": [
    {
     "data": {
      "text/plain": [
       "29.0"
      ]
     },
     "execution_count": 47,
     "metadata": {},
     "output_type": "execute_result"
    }
   ],
   "source": [
    "train.price.quantile(0.75) "
   ]
  },
  {
   "cell_type": "code",
   "execution_count": 48,
   "metadata": {},
   "outputs": [
    {
     "data": {
      "text/plain": [
       "170.0"
      ]
     },
     "execution_count": 48,
     "metadata": {},
     "output_type": "execute_result"
    }
   ],
   "source": [
    "train.price.quantile(0.99) "
   ]
  },
  {
   "cell_type": "code",
   "execution_count": 49,
   "metadata": {},
   "outputs": [
    {
     "data": {
      "text/plain": [
       "[<matplotlib.text.Text at 0x7f430fcedf60>]"
      ]
     },
     "execution_count": 49,
     "metadata": {},
     "output_type": "execute_result"
    },
    {
     "data": {
      "image/png": "[encoded data removed]",
      "text/plain": [
       "<matplotlib.figure.Figure at 0x7f430fd22f28>"
      ]
     },
     "metadata": {},
     "output_type": "display_data"
    }
   ],
   "source": [
    "ax = sns.kdeplot(train.price, shade = True)\n",
    "ax.set(xlabel='Price')\n",
    "ax.set(title=\"Price Distribution\")\n",
    "# rightly skewed distribution not uniformly distributed"
   ]
  },
  {
   "cell_type": "code",
   "execution_count": 50,
   "metadata": {},
   "outputs": [
    {
     "data": {
      "text/plain": [
       "[<matplotlib.text.Text at 0x7f430fc74cf8>]"
      ]
     },
     "execution_count": 50,
     "metadata": {},
     "output_type": "execute_result"
    },
    {
     "data": {
      "image/png": "[encoded data removed]",
      "text/plain": [
       "<matplotlib.figure.Figure at 0x7f431142be10>"
      ]
     },
     "metadata": {},
     "output_type": "display_data"
    }
   ],
   "source": [
    "ax = sns.kdeplot(np.log1p(train.price), shade = True)\n",
    "ax.set(xlabel='log1p(Price)')\n",
    "ax.set(title=\"log1p(Price) Distribution\")\n",
    "# need a log distribution to have it uniformly distrubted, it is except right side"
   ]
  },
  {
   "cell_type": "code",
   "execution_count": 51,
   "metadata": {},
   "outputs": [
    {
     "data": {
      "text/plain": [
       "874"
      ]
     },
     "execution_count": 51,
     "metadata": {},
     "output_type": "execute_result"
    }
   ],
   "source": [
    "# Number of free products\n",
    "train[train.price==0].shape[0]"
   ]
  },
  {
   "cell_type": "code",
   "execution_count": null,
   "metadata": {
    "collapsed": true
   },
   "outputs": [],
   "source": []
  },
  {
   "cell_type": "code",
   "execution_count": 52,
   "metadata": {},
   "outputs": [
    {
     "data": {
      "text/plain": [
       "train_id               0\n",
       "name                   0\n",
       "item_condition_id      0\n",
       "category_name         13\n",
       "brand_name           346\n",
       "price                  0\n",
       "shipping               0\n",
       "item_description       0\n",
       "category_L1           13\n",
       "category_L2           13\n",
       "category_L3           13\n",
       "dtype: int64"
      ]
     },
     "execution_count": 52,
     "metadata": {},
     "output_type": "execute_result"
    }
   ],
   "source": [
    "#346 items out of 874 with no brand name and 13 out of 874 with no category\n",
    "train[train.price==0].isnull().sum()"
   ]
  },
  {
   "cell_type": "code",
   "execution_count": 53,
   "metadata": {},
   "outputs": [
    {
     "data": {
      "text/plain": [
       "315"
      ]
     },
     "execution_count": 53,
     "metadata": {},
     "output_type": "execute_result"
    }
   ],
   "source": [
    "# need to check the shipping\n",
    "# can people share free stuff\n",
    "train[(train.price==0) & (train.shipping==1)].shape[0]\n"
   ]
  },
  {
   "cell_type": "code",
   "execution_count": 54,
   "metadata": {},
   "outputs": [
    {
     "data": {
      "text/plain": [
       "125"
      ]
     },
     "execution_count": 54,
     "metadata": {},
     "output_type": "execute_result"
    }
   ],
   "source": [
    "train[(train.price==0) & (train.shipping==1) & (train.item_condition_id==1)].shape[0]"
   ]
  },
  {
   "cell_type": "code",
   "execution_count": 55,
   "metadata": {},
   "outputs": [
    {
     "data": {
      "text/plain": [
       "10"
      ]
     },
     "execution_count": 55,
     "metadata": {},
     "output_type": "execute_result"
    }
   ],
   "source": [
    "# no trend among free products across different category levels was found\n",
    "train[train.price==0].category_L1.nunique()"
   ]
  },
  {
   "cell_type": "code",
   "execution_count": 56,
   "metadata": {},
   "outputs": [
    {
     "data": {
      "text/plain": [
       "77"
      ]
     },
     "execution_count": 56,
     "metadata": {},
     "output_type": "execute_result"
    }
   ],
   "source": [
    "train[train.price==0].category_L2.nunique()"
   ]
  },
  {
   "cell_type": "code",
   "execution_count": 57,
   "metadata": {},
   "outputs": [
    {
     "data": {
      "text/plain": [
       "<matplotlib.axes._subplots.AxesSubplot at 0x7f430fc29198>"
      ]
     },
     "execution_count": 57,
     "metadata": {},
     "output_type": "execute_result"
    },
    {
     "data": {
      "image/png": "[encoded data removed]",
      "text/plain": [
       "<matplotlib.figure.Figure at 0x7f430fc32ba8>"
      ]
     },
     "metadata": {},
     "output_type": "display_data"
    }
   ],
   "source": [
    "#check the price distributions for condtion 1 and condtion 5\n",
    "# expcted that condtion 1 mean price is higher as compared to condtion 5\n",
    "# check if price follows a trend for condtion column\n",
    "#\n",
    "sns.boxplot(x = train.item_condition_id, y = np.log1p(train.price), orient = \"v\")\n"
   ]
  },
  {
   "cell_type": "code",
   "execution_count": 58,
   "metadata": {
    "collapsed": true
   },
   "outputs": [],
   "source": [
    "pd.options.display.max_colwidth=100"
   ]
  },
  {
   "cell_type": "code",
   "execution_count": 59,
   "metadata": {},
   "outputs": [
    {
     "data": {
      "text/plain": [
       "shipping\n",
       "0    30.111778\n",
       "1    22.567726\n",
       "Name: price, dtype: float64"
      ]
     },
     "execution_count": 59,
     "metadata": {},
     "output_type": "execute_result"
    }
   ],
   "source": [
    "train.groupby('shipping').price.mean()\n"
   ]
  },
  {
   "cell_type": "code",
   "execution_count": 60,
   "metadata": {},
   "outputs": [
    {
     "data": {
      "text/plain": [
       "shipping  item_condition_id\n",
       "0         1                    33.011762\n",
       "          2                    29.573047\n",
       "          3                    28.026705\n",
       "          4                    25.472504\n",
       "          5                    33.188852\n",
       "1         1                    21.416412\n",
       "          2                    24.294695\n",
       "          3                    23.701327\n",
       "          4                    22.006661\n",
       "          5                    29.067520\n",
       "Name: price, dtype: float64"
      ]
     },
     "execution_count": 60,
     "metadata": {},
     "output_type": "execute_result"
    }
   ],
   "source": [
    "train.groupby(['shipping','item_condition_id']).price.mean()"
   ]
  },
  {
   "cell_type": "code",
   "execution_count": 61,
   "metadata": {
    "collapsed": true
   },
   "outputs": [],
   "source": [
    "seller_shipping= train.loc[train.shipping==1].price\n",
    "not_seller_shipping = train.loc[train.shipping==0].price"
   ]
  },
  {
   "cell_type": "code",
   "execution_count": 62,
   "metadata": {},
   "outputs": [
    {
     "data": {
      "text/plain": [
       "[<matplotlib.text.Text at 0x7f430fb0f6d8>]"
      ]
     },
     "execution_count": 62,
     "metadata": {},
     "output_type": "execute_result"
    },
    {
     "data": {
      "image/png": "[encoded data removed]",
      "text/plain": [
       "<matplotlib.figure.Figure at 0x7f430fcad438>"
      ]
     },
     "metadata": {},
     "output_type": "display_data"
    }
   ],
   "source": [
    "ax = sns.kdeplot(np.log1p(seller_shipping),label=\"shipping: 1\",\n",
    "                   shade=True, shade_lowest=False)\n",
    "ax = sns.kdeplot(np.log1p(not_seller_shipping),label=\"shipping: 0\",\n",
    "                   shade=True, shade_lowest=False)\n",
    "ax.set(xlabel='log1p(Price)')\n",
    "ax.set(title=\"log1p(Price) Distribution for different shipping conditions\")"
   ]
  },
  {
   "cell_type": "code",
   "execution_count": null,
   "metadata": {
    "collapsed": true
   },
   "outputs": [],
   "source": []
  },
  {
   "cell_type": "code",
   "execution_count": 63,
   "metadata": {},
   "outputs": [
    {
     "data": {
      "text/plain": [
       "[<matplotlib.text.Text at 0x7f430fa93e48>]"
      ]
     },
     "execution_count": 63,
     "metadata": {},
     "output_type": "execute_result"
    },
    {
     "data": {
      "image/png": "[encoded data removed]",
      "text/plain": [
       "<matplotlib.figure.Figure at 0x7f430fb5bcf8>"
      ]
     },
     "metadata": {},
     "output_type": "display_data"
    }
   ],
   "source": [
    "## most expensive brands\n",
    "fig, ax = plt.subplots(figsize=(15,7))\n",
    "train.groupby(['brand_name']).mean()['price'].nlargest(10).plot(ax=ax)\n",
    "ax.set(xlabel='Brand Name', ylabel='Mean Price')\n",
    "ax.set(title=\"Most Expensive Brands\")"
   ]
  },
  {
   "cell_type": "code",
   "execution_count": 64,
   "metadata": {},
   "outputs": [
    {
     "data": {
      "text/plain": [
       "<matplotlib.axes._subplots.AxesSubplot at 0x7f430fa4feb8>"
      ]
     },
     "execution_count": 64,
     "metadata": {},
     "output_type": "execute_result"
    },
    {
     "data": {
      "image/png": "[encoded data removed]",
      "text/plain": [
       "<matplotlib.figure.Figure at 0x7f430fa9e358>"
      ]
     },
     "metadata": {},
     "output_type": "display_data"
    }
   ],
   "source": [
    "fig, ax = plt.subplots(figsize=(15,7))\n",
    "train.groupby(['category_L1'])['price'].mean().plot(ax=ax)"
   ]
  },
  {
   "cell_type": "code",
   "execution_count": 65,
   "metadata": {},
   "outputs": [
    {
     "data": {
      "text/plain": [
       "<matplotlib.axes._subplots.AxesSubplot at 0x7f430f9c62b0>"
      ]
     },
     "execution_count": 65,
     "metadata": {},
     "output_type": "execute_result"
    },
    {
     "data": {
      "image/png": "[encoded data removed]",
      "text/plain": [
       "<matplotlib.figure.Figure at 0x7f430f9df6d8>"
      ]
     },
     "metadata": {},
     "output_type": "display_data"
    }
   ],
   "source": [
    "fig, ax = plt.subplots(figsize=(15,7))\n",
    "train.groupby(['category_L1'])['price'].median().plot(ax=ax)"
   ]
  },
  {
   "cell_type": "code",
   "execution_count": 66,
   "metadata": {},
   "outputs": [
    {
     "data": {
      "text/plain": [
       "<matplotlib.axes._subplots.AxesSubplot at 0x7f430f9ad358>"
      ]
     },
     "execution_count": 66,
     "metadata": {},
     "output_type": "execute_result"
    },
    {
     "data": {
      "image/png": "[encoded data removed]",
      "text/plain": [
       "<matplotlib.figure.Figure at 0x7f430fd805c0>"
      ]
     },
     "metadata": {},
     "output_type": "display_data"
    }
   ],
   "source": [
    "fig, ax = plt.subplots(figsize=(7,5))\n",
    "train.groupby(['item_condition_id']).mean()['price'].plot(ax=ax)"
   ]
  },
  {
   "cell_type": "code",
   "execution_count": 67,
   "metadata": {
    "collapsed": true
   },
   "outputs": [],
   "source": [
    "# What kind of products are more expensive?"
   ]
  },
  {
   "cell_type": "code",
   "execution_count": 68,
   "metadata": {
    "collapsed": true
   },
   "outputs": [],
   "source": [
    "mean_L1 = pd.DataFrame(train.groupby(['category_L1']).price.mean())\n",
    "mean_L1.reset_index(inplace=True)  \n",
    "mean_L1=mean_L1.rename(columns = {'price':'mean_price_L1'})\n",
    "mean_L1\n",
    "mean_L2 = pd.DataFrame(train.groupby(['category_L1', 'category_L2']).price.mean())\n",
    "mean_L2.reset_index(inplace=True)  \n",
    "\n",
    "result = pd.merge(mean_L2, mean_L1, on='category_L1')\n",
    "#result"
   ]
  },
  {
   "cell_type": "code",
   "execution_count": 75,
   "metadata": {
    "scrolled": false
   },
   "outputs": [
    {
     "data": {
      "text/html": [
       "\n",
       "\n",
       "\n",
       "\n",
       "\n",
       "\n",
       "  <div class=\"bk-root\" id=\"240d60c8-476c-453e-affc-72a83786e404\"></div>\n"
      ]
     },
     "metadata": {},
     "output_type": "display_data"
    },
    {
     "data": {
      "application/javascript": [
       "(function(root) {\n",
       "  function embed_document(root) {\n",
       "    \n",
       "  var docs_json = {\"42a3eaec-dc8f-4df0-ad2b-04a7683f2ecd\":{\"roots\":{\"references\":[{\"attributes\":{},\"id\":\"fccd1565-c813-4cf6-b7b5-ec98f2d76fac\",\"type\":\"BasicTickFormatter\"},{\"attributes\":{\"plot\":{\"id\":\"54460be1-a6b1-41f7-a6b2-46d97c74c50d\",\"subtype\":\"Figure\",\"type\":\"Plot\"},\"ticker\":{\"id\":\"a1be15c5-383e-4902-8d4c-6cb82219db48\",\"type\":\"BasicTicker\"}},\"id\":\"bd99dd95-8756-42e9-9f61-0f7a95917959\",\"type\":\"Grid\"},{\"attributes\":{},\"id\":\"a1be15c5-383e-4902-8d4c-6cb82219db48\",\"type\":\"BasicTicker\"},{\"attributes\":{\"active_drag\":\"auto\",\"active_inspect\":\"auto\",\"active_multi\":null,\"active_scroll\":\"auto\",\"active_tap\":\"auto\",\"tools\":[{\"id\":\"9434cdf5-b4ef-4cbe-919b-19de7301242a\",\"type\":\"PanTool\"},{\"id\":\"9a4522b2-6357-40c9-a979-ddffac34c9b3\",\"type\":\"WheelZoomTool\"},{\"id\":\"5bd88c9f-4d2a-4ec7-87f1-54fc7ad00deb\",\"type\":\"BoxZoomTool\"},{\"id\":\"66007451-b7da-431a-b5f3-3431e280ed56\",\"type\":\"SaveTool\"},{\"id\":\"ab1b06e5-c0f3-45f4-a3ea-01dad1b195a2\",\"type\":\"ResetTool\"},{\"id\":\"a0992bd2-dfe2-4b0c-bb39-5a30809129b5\",\"type\":\"HelpTool\"},{\"id\":\"80b82b1a-df65-404a-994e-f209d0afe334\",\"type\":\"HoverTool\"}]},\"id\":\"db8a18fa-de47-4f27-bb07-50b3a9f14023\",\"type\":\"Toolbar\"},{\"attributes\":{\"items\":[{\"id\":\"7d9d415e-512d-4e76-95f5-7b836a10b446\",\"type\":\"LegendItem\"}],\"plot\":{\"id\":\"54460be1-a6b1-41f7-a6b2-46d97c74c50d\",\"subtype\":\"Figure\",\"type\":\"Plot\"}},\"id\":\"60c618b9-593d-45fa-bd2e-517c15c50b3a\",\"type\":\"Legend\"},{\"attributes\":{},\"id\":\"9a4522b2-6357-40c9-a979-ddffac34c9b3\",\"type\":\"WheelZoomTool\"},{\"attributes\":{\"callback\":null,\"data\":{\"angle\":{\"__ndarray__\":\"CFroLTn33j+QXUm/Lq/rPxVDhGK5lNw/PzwWJd9P4z9nTwW2Nj/gPyOSuIttUes/2Lffp/Zg4D8l+m+ZehjkP6SdmsqchOU/O0/jJyG85j8=\",\"dtype\":\"float64\",\"shape\":[10]},\"category_L1\":[\"Beauty\",\"Electronics\",\"Handmade\",\"Home\",\"Kids\",\"Men\",\"Other\",\"Sports & Outdoors\",\"Vintage & Collectibles\",\"Women\"],\"color\":[\"#3182bd\",\"#6baed6\",\"#9ecae1\",\"#c6dbef\",\"#e6550d\",\"#fd8d3c\",\"#fdae6b\",\"#fdd0a2\",\"#31a354\",\"#74c476\"],\"index\":[0,1,2,3,4,5,6,7,8,9],\"mean_price_L1\":{\"__ndarray__\":\"xrXUyemrM0AA6SYUQ5ZBQF9fux0VKDJA8x6til6JOEDqIU/JbqQ0QAmxseCzWkFATw6/JlDPNEBgeimFP4g5QHYpSKLkVjtAKTUY16/iPEA=\",\"dtype\":\"float64\",\"shape\":[10]}},\"selected\":{\"id\":\"17a21ac0-71f3-4189-94be-c2bb0536c8ea\",\"type\":\"Selection\"},\"selection_policy\":{\"id\":\"9490667d-f54e-4a90-a02c-89303f7aa531\",\"type\":\"UnionRenderers\"}},\"id\":\"bda7806f-0756-45fb-abe0-48de61e198e8\",\"type\":\"ColumnDataSource\"},{\"attributes\":{\"end_angle\":{\"expr\":{\"id\":\"01a61f09-40ae-4c30-b881-b9a28fdc2775\",\"type\":\"CumSum\"},\"units\":\"rad\"},\"fill_alpha\":{\"value\":0.1},\"fill_color\":{\"value\":\"#1f77b4\"},\"inner_radius\":{\"units\":\"data\",\"value\":0.1},\"line_alpha\":{\"value\":0.1},\"line_color\":{\"value\":\"#1f77b4\"},\"outer_radius\":{\"units\":\"data\",\"value\":0.4},\"start_angle\":{\"expr\":{\"id\":\"27dce96d-dbc4-4ef2-841b-a5e17abc3955\",\"type\":\"CumSum\"},\"units\":\"rad\"},\"x\":{\"value\":0},\"y\":{\"value\":1}},\"id\":\"bfb213d6-48df-4e85-a1f8-442668786abf\",\"type\":\"AnnularWedge\"},{\"attributes\":{\"plot\":null,\"text\":\"Mean prices for L1 Categories\"},\"id\":\"f4294d1d-75a7-4dca-afbc-a2f91d9cb53c\",\"type\":\"Title\"},{\"attributes\":{},\"id\":\"f88d9a72-89cc-462e-9066-0fa8d6fdd3e2\",\"type\":\"BasicTickFormatter\"},{\"attributes\":{\"formatter\":{\"id\":\"f88d9a72-89cc-462e-9066-0fa8d6fdd3e2\",\"type\":\"BasicTickFormatter\"},\"plot\":{\"id\":\"54460be1-a6b1-41f7-a6b2-46d97c74c50d\",\"subtype\":\"Figure\",\"type\":\"Plot\"},\"ticker\":{\"id\":\"a1be15c5-383e-4902-8d4c-6cb82219db48\",\"type\":\"BasicTicker\"},\"visible\":false},\"id\":\"5ebf537d-7591-486a-9454-34cb82d1fef7\",\"type\":\"LinearAxis\"},{\"attributes\":{\"below\":[{\"id\":\"5ebf537d-7591-486a-9454-34cb82d1fef7\",\"type\":\"LinearAxis\"}],\"left\":[{\"id\":\"3358e391-2d51-4da4-a559-5fb9a622ca5f\",\"type\":\"LinearAxis\"}],\"plot_height\":350,\"renderers\":[{\"id\":\"5ebf537d-7591-486a-9454-34cb82d1fef7\",\"type\":\"LinearAxis\"},{\"id\":\"bd99dd95-8756-42e9-9f61-0f7a95917959\",\"type\":\"Grid\"},{\"id\":\"3358e391-2d51-4da4-a559-5fb9a622ca5f\",\"type\":\"LinearAxis\"},{\"id\":\"55c2ca93-d45c-4f1e-8218-9e107551762a\",\"type\":\"Grid\"},{\"id\":\"6cb24d22-a8a0-4301-825d-6aa20b359098\",\"type\":\"BoxAnnotation\"},{\"id\":\"60c618b9-593d-45fa-bd2e-517c15c50b3a\",\"type\":\"Legend\"},{\"id\":\"159e3a9d-b272-46d3-af50-9c5fce1f50f6\",\"type\":\"GlyphRenderer\"}],\"title\":{\"id\":\"f4294d1d-75a7-4dca-afbc-a2f91d9cb53c\",\"type\":\"Title\"},\"toolbar\":{\"id\":\"db8a18fa-de47-4f27-bb07-50b3a9f14023\",\"type\":\"Toolbar\"},\"x_range\":{\"id\":\"14515ffa-a5d7-4350-9368-764083dd9d45\",\"type\":\"DataRange1d\"},\"x_scale\":{\"id\":\"79d7a26c-ee80-4983-9170-8a2a17c82edc\",\"type\":\"LinearScale\"},\"y_range\":{\"id\":\"ce70cb3a-b1eb-427f-94e5-8a1e8476216e\",\"type\":\"DataRange1d\"},\"y_scale\":{\"id\":\"2ac6dd5c-5bc6-42b4-a1a1-198f42948a27\",\"type\":\"LinearScale\"}},\"id\":\"54460be1-a6b1-41f7-a6b2-46d97c74c50d\",\"subtype\":\"Figure\",\"type\":\"Plot\"},{\"attributes\":{\"source\":{\"id\":\"bda7806f-0756-45fb-abe0-48de61e198e8\",\"type\":\"ColumnDataSource\"}},\"id\":\"077f2eb8-29f2-44d7-a644-0ed92838bd77\",\"type\":\"CDSView\"},{\"attributes\":{},\"id\":\"ab1b06e5-c0f3-45f4-a3ea-01dad1b195a2\",\"type\":\"ResetTool\"},{\"attributes\":{\"formatter\":{\"id\":\"fccd1565-c813-4cf6-b7b5-ec98f2d76fac\",\"type\":\"BasicTickFormatter\"},\"plot\":{\"id\":\"54460be1-a6b1-41f7-a6b2-46d97c74c50d\",\"subtype\":\"Figure\",\"type\":\"Plot\"},\"ticker\":{\"id\":\"f2b25f82-00d9-4d20-9d40-56a65be85b7a\",\"type\":\"BasicTicker\"},\"visible\":false},\"id\":\"3358e391-2d51-4da4-a559-5fb9a622ca5f\",\"type\":\"LinearAxis\"},{\"attributes\":{},\"id\":\"66007451-b7da-431a-b5f3-3431e280ed56\",\"type\":\"SaveTool\"},{\"attributes\":{\"data_source\":{\"id\":\"bda7806f-0756-45fb-abe0-48de61e198e8\",\"type\":\"ColumnDataSource\"},\"glyph\":{\"id\":\"6f116f02-9782-4615-9f8b-324dcd92a146\",\"type\":\"AnnularWedge\"},\"hover_glyph\":null,\"muted_glyph\":null,\"nonselection_glyph\":{\"id\":\"bfb213d6-48df-4e85-a1f8-442668786abf\",\"type\":\"AnnularWedge\"},\"selection_glyph\":null,\"view\":{\"id\":\"077f2eb8-29f2-44d7-a644-0ed92838bd77\",\"type\":\"CDSView\"}},\"id\":\"159e3a9d-b272-46d3-af50-9c5fce1f50f6\",\"type\":\"GlyphRenderer\"},{\"attributes\":{\"end_angle\":{\"expr\":{\"id\":\"01a61f09-40ae-4c30-b881-b9a28fdc2775\",\"type\":\"CumSum\"},\"units\":\"rad\"},\"fill_color\":{\"field\":\"color\"},\"inner_radius\":{\"units\":\"data\",\"value\":0.1},\"line_color\":{\"value\":\"white\"},\"outer_radius\":{\"units\":\"data\",\"value\":0.4},\"start_angle\":{\"expr\":{\"id\":\"27dce96d-dbc4-4ef2-841b-a5e17abc3955\",\"type\":\"CumSum\"},\"units\":\"rad\"},\"x\":{\"value\":0},\"y\":{\"value\":1}},\"id\":\"6f116f02-9782-4615-9f8b-324dcd92a146\",\"type\":\"AnnularWedge\"},{\"attributes\":{\"field\":\"angle\"},\"id\":\"01a61f09-40ae-4c30-b881-b9a28fdc2775\",\"type\":\"CumSum\"},{\"attributes\":{},\"id\":\"17a21ac0-71f3-4189-94be-c2bb0536c8ea\",\"type\":\"Selection\"},{\"attributes\":{},\"id\":\"a0992bd2-dfe2-4b0c-bb39-5a30809129b5\",\"type\":\"HelpTool\"},{\"attributes\":{\"overlay\":{\"id\":\"6cb24d22-a8a0-4301-825d-6aa20b359098\",\"type\":\"BoxAnnotation\"}},\"id\":\"5bd88c9f-4d2a-4ec7-87f1-54fc7ad00deb\",\"type\":\"BoxZoomTool\"},{\"attributes\":{},\"id\":\"f2b25f82-00d9-4d20-9d40-56a65be85b7a\",\"type\":\"BasicTicker\"},{\"attributes\":{\"field\":\"angle\",\"include_zero\":true},\"id\":\"27dce96d-dbc4-4ef2-841b-a5e17abc3955\",\"type\":\"CumSum\"},{\"attributes\":{\"callback\":null,\"renderers\":\"auto\",\"tooltips\":[[\"\",\"@category_L1: @mean_price_L1\"]]},\"id\":\"80b82b1a-df65-404a-994e-f209d0afe334\",\"type\":\"HoverTool\"},{\"attributes\":{\"callback\":null},\"id\":\"ce70cb3a-b1eb-427f-94e5-8a1e8476216e\",\"type\":\"DataRange1d\"},{\"attributes\":{\"callback\":null},\"id\":\"14515ffa-a5d7-4350-9368-764083dd9d45\",\"type\":\"DataRange1d\"},{\"attributes\":{},\"id\":\"9490667d-f54e-4a90-a02c-89303f7aa531\",\"type\":\"UnionRenderers\"},{\"attributes\":{\"bottom_units\":\"screen\",\"fill_alpha\":{\"value\":0.5},\"fill_color\":{\"value\":\"lightgrey\"},\"left_units\":\"screen\",\"level\":\"overlay\",\"line_alpha\":{\"value\":1.0},\"line_color\":{\"value\":\"black\"},\"line_dash\":[4,4],\"line_width\":{\"value\":2},\"plot\":null,\"render_mode\":\"css\",\"right_units\":\"screen\",\"top_units\":\"screen\"},\"id\":\"6cb24d22-a8a0-4301-825d-6aa20b359098\",\"type\":\"BoxAnnotation\"},{\"attributes\":{},\"id\":\"2ac6dd5c-5bc6-42b4-a1a1-198f42948a27\",\"type\":\"LinearScale\"},{\"attributes\":{\"label\":{\"field\":\"category_L1\"},\"renderers\":[{\"id\":\"159e3a9d-b272-46d3-af50-9c5fce1f50f6\",\"type\":\"GlyphRenderer\"}]},\"id\":\"7d9d415e-512d-4e76-95f5-7b836a10b446\",\"type\":\"LegendItem\"},{\"attributes\":{},\"id\":\"79d7a26c-ee80-4983-9170-8a2a17c82edc\",\"type\":\"LinearScale\"},{\"attributes\":{},\"id\":\"9434cdf5-b4ef-4cbe-919b-19de7301242a\",\"type\":\"PanTool\"},{\"attributes\":{\"dimension\":1,\"plot\":{\"id\":\"54460be1-a6b1-41f7-a6b2-46d97c74c50d\",\"subtype\":\"Figure\",\"type\":\"Plot\"},\"ticker\":{\"id\":\"f2b25f82-00d9-4d20-9d40-56a65be85b7a\",\"type\":\"BasicTicker\"}},\"id\":\"55c2ca93-d45c-4f1e-8218-9e107551762a\",\"type\":\"Grid\"}],\"root_ids\":[\"54460be1-a6b1-41f7-a6b2-46d97c74c50d\"]},\"title\":\"Bokeh Application\",\"version\":\"0.13.0\"}};\n",
       "  var render_items = [{\"docid\":\"42a3eaec-dc8f-4df0-ad2b-04a7683f2ecd\",\"roots\":{\"54460be1-a6b1-41f7-a6b2-46d97c74c50d\":\"240d60c8-476c-453e-affc-72a83786e404\"}}];\n",
       "  root.Bokeh.embed.embed_items_notebook(docs_json, render_items);\n",
       "\n",
       "  }\n",
       "  if (root.Bokeh !== undefined) {\n",
       "    embed_document(root);\n",
       "  } else {\n",
       "    var attempts = 0;\n",
       "    var timer = setInterval(function(root) {\n",
       "      if (root.Bokeh !== undefined) {\n",
       "        embed_document(root);\n",
       "        clearInterval(timer);\n",
       "      }\n",
       "      attempts++;\n",
       "      if (attempts > 100) {\n",
       "        console.log(\"Bokeh: ERROR: Unable to run BokehJS code because BokehJS library is missing\")\n",
       "        clearInterval(timer);\n",
       "      }\n",
       "    }, 10, root)\n",
       "  }\n",
       "})(window);"
      ],
      "application/vnd.bokehjs_exec.v0+json": ""
     },
     "metadata": {
      "application/vnd.bokehjs_exec.v0+json": {
       "id": "54460be1-a6b1-41f7-a6b2-46d97c74c50d"
      }
     },
     "output_type": "display_data"
    }
   ],
   "source": [
    "visualize_categories_L1(mean_L1)"
   ]
  },
  {
   "cell_type": "code",
   "execution_count": 76,
   "metadata": {},
   "outputs": [
    {
     "data": {
      "text/html": [
       "\n",
       "\n",
       "\n",
       "\n",
       "\n",
       "\n",
       "  <div class=\"bk-root\" id=\"f8389b0d-bb99-48b9-8941-d301a6a4683a\"></div>\n"
      ]
     },
     "metadata": {},
     "output_type": "display_data"
    },
    {
     "data": {
      "application/javascript": [
       "(function(root) {\n",
       "  function embed_document(root) {\n",
       "    \n",
       "  var docs_json = {\"b0862ae4-c1d9-487e-9229-5028c5546564\":{\"roots\":{\"references\":[{\"attributes\":{},\"id\":\"0c6c2799-5c07-4787-97bf-475a2fe6dd10\",\"type\":\"PanTool\"},{\"attributes\":{\"overlay\":{\"id\":\"255093fa-5d7e-4a5a-85f4-a7aa1ddfa632\",\"type\":\"BoxAnnotation\"}},\"id\":\"da41432a-292b-40f2-bebc-c7dbea685cc5\",\"type\":\"BoxZoomTool\"},{\"attributes\":{},\"id\":\"0b6bbdb8-135c-4162-826e-16f47b9ba0c0\",\"type\":\"LinearScale\"},{\"attributes\":{\"items\":[{\"id\":\"d7ae6707-4734-4a40-8400-07100460ffc8\",\"type\":\"LegendItem\"}],\"plot\":{\"id\":\"03a4845f-9029-433d-a9e7-f9cd921b2a0c\",\"subtype\":\"Figure\",\"type\":\"Plot\"}},\"id\":\"0b6d442f-fa4e-4770-86c8-7ffa3d8508b4\",\"type\":\"Legend\"},{\"attributes\":{\"callback\":null,\"renderers\":\"auto\",\"tooltips\":[[\"\",\"@category_L2: @price\"]]},\"id\":\"a99533d2-0820-4507-a309-c441ec1eca5e\",\"type\":\"HoverTool\"},{\"attributes\":{\"label\":{\"field\":\"category_L2\"},\"renderers\":[{\"id\":\"786f6958-a81b-4b02-8543-42dbff6c2ae1\",\"type\":\"GlyphRenderer\"}]},\"id\":\"d7ae6707-4734-4a40-8400-07100460ffc8\",\"type\":\"LegendItem\"},{\"attributes\":{\"callback\":null},\"id\":\"e8872f02-d54f-4f0a-a7eb-bec7c8d215a4\",\"type\":\"DataRange1d\"},{\"attributes\":{\"end_angle\":{\"expr\":{\"id\":\"d3cc2e49-651d-46d4-a722-9f2402816e95\",\"type\":\"CumSum\"},\"units\":\"rad\"},\"fill_alpha\":{\"value\":0.1},\"fill_color\":{\"value\":\"#1f77b4\"},\"inner_radius\":{\"units\":\"data\",\"value\":0.2},\"line_alpha\":{\"value\":0.1},\"line_color\":{\"value\":\"#1f77b4\"},\"outer_radius\":{\"units\":\"data\",\"value\":0.4},\"start_angle\":{\"expr\":{\"id\":\"8bac074b-7252-46e2-b22c-cdacd57a94cf\",\"type\":\"CumSum\"},\"units\":\"rad\"},\"x\":{\"value\":0},\"y\":{\"value\":1}},\"id\":\"cf2e6d4b-d1d6-4f06-8eb4-7c60ea166039\",\"type\":\"AnnularWedge\"},{\"attributes\":{},\"id\":\"d3346986-9f95-45f5-9d4a-3dc80f66820c\",\"type\":\"WheelZoomTool\"},{\"attributes\":{},\"id\":\"b331c3b9-138e-487a-9b3a-60635fd0cd61\",\"type\":\"BasicTickFormatter\"},{\"attributes\":{\"formatter\":{\"id\":\"7c29da88-1a0e-4f0e-84db-10a3cee46a45\",\"type\":\"BasicTickFormatter\"},\"plot\":{\"id\":\"03a4845f-9029-433d-a9e7-f9cd921b2a0c\",\"subtype\":\"Figure\",\"type\":\"Plot\"},\"ticker\":{\"id\":\"33ab4825-91fa-4ae0-af0d-0ebf0c3d63d1\",\"type\":\"BasicTicker\"},\"visible\":false},\"id\":\"23cb4c96-9312-4026-b212-26767bc39321\",\"type\":\"LinearAxis\"},{\"attributes\":{\"plot\":{\"id\":\"03a4845f-9029-433d-a9e7-f9cd921b2a0c\",\"subtype\":\"Figure\",\"type\":\"Plot\"},\"ticker\":{\"id\":\"33ab4825-91fa-4ae0-af0d-0ebf0c3d63d1\",\"type\":\"BasicTicker\"}},\"id\":\"ed4b52b6-695a-430e-9435-7f51a9f3075b\",\"type\":\"Grid\"},{\"attributes\":{},\"id\":\"b857cb88-6383-4ebe-afbf-490e88351f84\",\"type\":\"Selection\"},{\"attributes\":{\"active_drag\":\"auto\",\"active_inspect\":\"auto\",\"active_multi\":null,\"active_scroll\":\"auto\",\"active_tap\":\"auto\",\"tools\":[{\"id\":\"0c6c2799-5c07-4787-97bf-475a2fe6dd10\",\"type\":\"PanTool\"},{\"id\":\"d3346986-9f95-45f5-9d4a-3dc80f66820c\",\"type\":\"WheelZoomTool\"},{\"id\":\"da41432a-292b-40f2-bebc-c7dbea685cc5\",\"type\":\"BoxZoomTool\"},{\"id\":\"7119f675-e458-4815-97be-9ba0b76a685e\",\"type\":\"SaveTool\"},{\"id\":\"15c9feb8-b2e8-4bee-a7ad-a9583e2342c0\",\"type\":\"ResetTool\"},{\"id\":\"4dda5098-2f5d-4528-8871-d768ecc2260c\",\"type\":\"HelpTool\"},{\"id\":\"a99533d2-0820-4507-a309-c441ec1eca5e\",\"type\":\"HoverTool\"}]},\"id\":\"e8a9968f-ce6b-47e6-8f56-31de5a0f952a\",\"type\":\"Toolbar\"},{\"attributes\":{},\"id\":\"7119f675-e458-4815-97be-9ba0b76a685e\",\"type\":\"SaveTool\"},{\"attributes\":{},\"id\":\"f8ad85ef-9d34-4cc1-b786-6011a1479d1c\",\"type\":\"BasicTicker\"},{\"attributes\":{\"field\":\"angle\"},\"id\":\"d3cc2e49-651d-46d4-a722-9f2402816e95\",\"type\":\"CumSum\"},{\"attributes\":{\"dimension\":1,\"plot\":{\"id\":\"03a4845f-9029-433d-a9e7-f9cd921b2a0c\",\"subtype\":\"Figure\",\"type\":\"Plot\"},\"ticker\":{\"id\":\"f8ad85ef-9d34-4cc1-b786-6011a1479d1c\",\"type\":\"BasicTicker\"}},\"id\":\"c5abc376-2312-4f4a-87fb-9d41aa8a3e8f\",\"type\":\"Grid\"},{\"attributes\":{\"source\":{\"id\":\"035607f0-7f96-49cf-b483-82976f43e205\",\"type\":\"ColumnDataSource\"}},\"id\":\"12854e87-398c-427c-ab2a-a5c09793954f\",\"type\":\"CDSView\"},{\"attributes\":{\"field\":\"angle\",\"include_zero\":true},\"id\":\"8bac074b-7252-46e2-b22c-cdacd57a94cf\",\"type\":\"CumSum\"},{\"attributes\":{\"callback\":null},\"id\":\"24afccf1-550c-4139-91d7-c887e760b024\",\"type\":\"DataRange1d\"},{\"attributes\":{\"end_angle\":{\"expr\":{\"id\":\"d3cc2e49-651d-46d4-a722-9f2402816e95\",\"type\":\"CumSum\"},\"units\":\"rad\"},\"fill_color\":{\"field\":\"color\"},\"inner_radius\":{\"units\":\"data\",\"value\":0.2},\"line_color\":{\"value\":\"white\"},\"outer_radius\":{\"units\":\"data\",\"value\":0.4},\"start_angle\":{\"expr\":{\"id\":\"8bac074b-7252-46e2-b22c-cdacd57a94cf\",\"type\":\"CumSum\"},\"units\":\"rad\"},\"x\":{\"value\":0},\"y\":{\"value\":1}},\"id\":\"73e92d8d-4e64-4a91-94da-44d9115cab2c\",\"type\":\"AnnularWedge\"},{\"attributes\":{},\"id\":\"15c9feb8-b2e8-4bee-a7ad-a9583e2342c0\",\"type\":\"ResetTool\"},{\"attributes\":{\"bottom_units\":\"screen\",\"fill_alpha\":{\"value\":0.5},\"fill_color\":{\"value\":\"lightgrey\"},\"left_units\":\"screen\",\"level\":\"overlay\",\"line_alpha\":{\"value\":1.0},\"line_color\":{\"value\":\"black\"},\"line_dash\":[4,4],\"line_width\":{\"value\":2},\"plot\":null,\"render_mode\":\"css\",\"right_units\":\"screen\",\"top_units\":\"screen\"},\"id\":\"255093fa-5d7e-4a5a-85f4-a7aa1ddfa632\",\"type\":\"BoxAnnotation\"},{\"attributes\":{},\"id\":\"4041ff0f-1797-4329-8c58-5e095161b05a\",\"type\":\"UnionRenderers\"},{\"attributes\":{\"formatter\":{\"id\":\"b331c3b9-138e-487a-9b3a-60635fd0cd61\",\"type\":\"BasicTickFormatter\"},\"plot\":{\"id\":\"03a4845f-9029-433d-a9e7-f9cd921b2a0c\",\"subtype\":\"Figure\",\"type\":\"Plot\"},\"ticker\":{\"id\":\"f8ad85ef-9d34-4cc1-b786-6011a1479d1c\",\"type\":\"BasicTicker\"},\"visible\":false},\"id\":\"243daf84-f8ab-45b0-95a4-c85bf8c89edb\",\"type\":\"LinearAxis\"},{\"attributes\":{\"data_source\":{\"id\":\"035607f0-7f96-49cf-b483-82976f43e205\",\"type\":\"ColumnDataSource\"},\"glyph\":{\"id\":\"73e92d8d-4e64-4a91-94da-44d9115cab2c\",\"type\":\"AnnularWedge\"},\"hover_glyph\":null,\"muted_glyph\":null,\"nonselection_glyph\":{\"id\":\"cf2e6d4b-d1d6-4f06-8eb4-7c60ea166039\",\"type\":\"AnnularWedge\"},\"selection_glyph\":null,\"view\":{\"id\":\"12854e87-398c-427c-ab2a-a5c09793954f\",\"type\":\"CDSView\"}},\"id\":\"786f6958-a81b-4b02-8543-42dbff6c2ae1\",\"type\":\"GlyphRenderer\"},{\"attributes\":{},\"id\":\"7c29da88-1a0e-4f0e-84db-10a3cee46a45\",\"type\":\"BasicTickFormatter\"},{\"attributes\":{},\"id\":\"d67b5c46-44bc-49ef-9c44-f7c98f583cf0\",\"type\":\"LinearScale\"},{\"attributes\":{\"callback\":null,\"data\":{\"angle\":{\"__ndarray__\":\"jm1VeLIv9D+ZxCuYtm7lP7XTL1eiDuE/8blrQwne+D/dWgOJ7IXQP4S0uO/SGuU/PYhAbUf96D9Kl8iZ+RviPw==\",\"dtype\":\"float64\",\"shape\":[8]},\"category_L1\":[\"Electronics\",\"Electronics\",\"Electronics\",\"Electronics\",\"Electronics\",\"Electronics\",\"Electronics\",\"Electronics\"],\"category_L2\":[\"Cameras & Photography\",\"Car Audio, Video & GPS\",\"Cell Phones & Accessories\",\"Computers & Tablets\",\"Media\",\"Other\",\"TV, Audio & Surveillance\",\"Video Games & Consoles\"],\"color\":[\"#3182bd\",\"#6baed6\",\"#9ecae1\",\"#c6dbef\",\"#e6550d\",\"#fd8d3c\",\"#fdae6b\",\"#fdd0a2\"],\"index\":[7,8,9,10,11,12,13,14],\"mean_price_L1\":{\"__ndarray__\":\"AOkmFEOWQUAA6SYUQ5ZBQADpJhRDlkFAAOkmFEOWQUAA6SYUQ5ZBQADpJhRDlkFAAOkmFEOWQUAA6SYUQ5ZBQA==\",\"dtype\":\"float64\",\"shape\":[8]},\"price\":{\"__ndarray__\":\"nPK5BwHWUUAE/oA/4O9CQCSMblZsJD5Ana0F9dD4VUCezsaP1jItQNUZihPBpUJAdgHE3WsURkCpcA4xMQBAQA==\",\"dtype\":\"float64\",\"shape\":[8]}},\"selected\":{\"id\":\"b857cb88-6383-4ebe-afbf-490e88351f84\",\"type\":\"Selection\"},\"selection_policy\":{\"id\":\"4041ff0f-1797-4329-8c58-5e095161b05a\",\"type\":\"UnionRenderers\"}},\"id\":\"035607f0-7f96-49cf-b483-82976f43e205\",\"type\":\"ColumnDataSource\"},{\"attributes\":{},\"id\":\"4dda5098-2f5d-4528-8871-d768ecc2260c\",\"type\":\"HelpTool\"},{\"attributes\":{},\"id\":\"33ab4825-91fa-4ae0-af0d-0ebf0c3d63d1\",\"type\":\"BasicTicker\"},{\"attributes\":{\"plot\":null,\"text\":\"Mean prices for L2 Categories of category Electronics\"},\"id\":\"a620628c-829f-41db-acbc-1721ec12d9aa\",\"type\":\"Title\"},{\"attributes\":{\"below\":[{\"id\":\"23cb4c96-9312-4026-b212-26767bc39321\",\"type\":\"LinearAxis\"}],\"left\":[{\"id\":\"243daf84-f8ab-45b0-95a4-c85bf8c89edb\",\"type\":\"LinearAxis\"}],\"plot_height\":450,\"renderers\":[{\"id\":\"23cb4c96-9312-4026-b212-26767bc39321\",\"type\":\"LinearAxis\"},{\"id\":\"ed4b52b6-695a-430e-9435-7f51a9f3075b\",\"type\":\"Grid\"},{\"id\":\"243daf84-f8ab-45b0-95a4-c85bf8c89edb\",\"type\":\"LinearAxis\"},{\"id\":\"c5abc376-2312-4f4a-87fb-9d41aa8a3e8f\",\"type\":\"Grid\"},{\"id\":\"255093fa-5d7e-4a5a-85f4-a7aa1ddfa632\",\"type\":\"BoxAnnotation\"},{\"id\":\"0b6d442f-fa4e-4770-86c8-7ffa3d8508b4\",\"type\":\"Legend\"},{\"id\":\"786f6958-a81b-4b02-8543-42dbff6c2ae1\",\"type\":\"GlyphRenderer\"}],\"title\":{\"id\":\"a620628c-829f-41db-acbc-1721ec12d9aa\",\"type\":\"Title\"},\"toolbar\":{\"id\":\"e8a9968f-ce6b-47e6-8f56-31de5a0f952a\",\"type\":\"Toolbar\"},\"x_range\":{\"id\":\"24afccf1-550c-4139-91d7-c887e760b024\",\"type\":\"DataRange1d\"},\"x_scale\":{\"id\":\"d67b5c46-44bc-49ef-9c44-f7c98f583cf0\",\"type\":\"LinearScale\"},\"y_range\":{\"id\":\"e8872f02-d54f-4f0a-a7eb-bec7c8d215a4\",\"type\":\"DataRange1d\"},\"y_scale\":{\"id\":\"0b6bbdb8-135c-4162-826e-16f47b9ba0c0\",\"type\":\"LinearScale\"}},\"id\":\"03a4845f-9029-433d-a9e7-f9cd921b2a0c\",\"subtype\":\"Figure\",\"type\":\"Plot\"}],\"root_ids\":[\"03a4845f-9029-433d-a9e7-f9cd921b2a0c\"]},\"title\":\"Bokeh Application\",\"version\":\"0.13.0\"}};\n",
       "  var render_items = [{\"docid\":\"b0862ae4-c1d9-487e-9229-5028c5546564\",\"roots\":{\"03a4845f-9029-433d-a9e7-f9cd921b2a0c\":\"f8389b0d-bb99-48b9-8941-d301a6a4683a\"}}];\n",
       "  root.Bokeh.embed.embed_items_notebook(docs_json, render_items);\n",
       "\n",
       "  }\n",
       "  if (root.Bokeh !== undefined) {\n",
       "    embed_document(root);\n",
       "  } else {\n",
       "    var attempts = 0;\n",
       "    var timer = setInterval(function(root) {\n",
       "      if (root.Bokeh !== undefined) {\n",
       "        embed_document(root);\n",
       "        clearInterval(timer);\n",
       "      }\n",
       "      attempts++;\n",
       "      if (attempts > 100) {\n",
       "        console.log(\"Bokeh: ERROR: Unable to run BokehJS code because BokehJS library is missing\")\n",
       "        clearInterval(timer);\n",
       "      }\n",
       "    }, 10, root)\n",
       "  }\n",
       "})(window);"
      ],
      "application/vnd.bokehjs_exec.v0+json": ""
     },
     "metadata": {
      "application/vnd.bokehjs_exec.v0+json": {
       "id": "03a4845f-9029-433d-a9e7-f9cd921b2a0c"
      }
     },
     "output_type": "display_data"
    }
   ],
   "source": [
    "visualize_subcategories_mean(result,\"Electronics\")"
   ]
  },
  {
   "cell_type": "code",
   "execution_count": 77,
   "metadata": {},
   "outputs": [
    {
     "data": {
      "text/plain": [
       "874"
      ]
     },
     "execution_count": 77,
     "metadata": {},
     "output_type": "execute_result"
    }
   ],
   "source": [
    "# Are there any free product\n",
    "free_products = train[train.price==0]\n",
    "free_products.shape[0]"
   ]
  },
  {
   "cell_type": "code",
   "execution_count": 72,
   "metadata": {},
   "outputs": [
    {
     "data": {
      "text/plain": [
       "303"
      ]
     },
     "execution_count": 72,
     "metadata": {},
     "output_type": "execute_result"
    }
   ],
   "source": [
    "best_free_products = free_products[free_products.item_condition_id==1]\n",
    "best_free_products.shape[0]"
   ]
  },
  {
   "cell_type": "code",
   "execution_count": 73,
   "metadata": {},
   "outputs": [
    {
     "data": {
      "text/plain": [
       "125"
      ]
     },
     "execution_count": 73,
     "metadata": {},
     "output_type": "execute_result"
    }
   ],
   "source": [
    "best_free_products_shipping = best_free_products[best_free_products.shipping==1]\n",
    "best_free_products_shipping.shape[0]"
   ]
  },
  {
   "cell_type": "code",
   "execution_count": 74,
   "metadata": {},
   "outputs": [
    {
     "data": {
      "text/html": [
       "<div>\n",
       "<style>\n",
       "    .dataframe thead tr:only-child th {\n",
       "        text-align: right;\n",
       "    }\n",
       "\n",
       "    .dataframe thead th {\n",
       "        text-align: left;\n",
       "    }\n",
       "\n",
       "    .dataframe tbody tr th {\n",
       "        vertical-align: top;\n",
       "    }\n",
       "</style>\n",
       "<table border=\"1\" class=\"dataframe\">\n",
       "  <thead>\n",
       "    <tr style=\"text-align: right;\">\n",
       "      <th></th>\n",
       "      <th>train_id</th>\n",
       "      <th>name</th>\n",
       "      <th>item_condition_id</th>\n",
       "      <th>category_name</th>\n",
       "      <th>brand_name</th>\n",
       "      <th>price</th>\n",
       "      <th>shipping</th>\n",
       "      <th>item_description</th>\n",
       "      <th>category_L1</th>\n",
       "      <th>category_L2</th>\n",
       "      <th>category_L3</th>\n",
       "    </tr>\n",
       "  </thead>\n",
       "  <tbody>\n",
       "    <tr>\n",
       "      <th>7116</th>\n",
       "      <td>7116</td>\n",
       "      <td>Nike Dri-Fit High Power Speed Tights</td>\n",
       "      <td>1</td>\n",
       "      <td>Women/Athletic Apparel/Pants, Tights, Leggings</td>\n",
       "      <td>Nike</td>\n",
       "      <td>0.0</td>\n",
       "      <td>1</td>\n",
       "      <td>Bought at Nike store in New York, Brand New, Never Worn!</td>\n",
       "      <td>Women</td>\n",
       "      <td>Athletic Apparel</td>\n",
       "      <td>Pants, Tights, Leggings</td>\n",
       "    </tr>\n",
       "    <tr>\n",
       "      <th>28091</th>\n",
       "      <td>28091</td>\n",
       "      <td>Jordan Cris Shoes Size 2</td>\n",
       "      <td>1</td>\n",
       "      <td>Kids/Boys 0-24 Mos/Shoes</td>\n",
       "      <td>Nike</td>\n",
       "      <td>0.0</td>\n",
       "      <td>1</td>\n",
       "      <td>Bought from another seller and too small</td>\n",
       "      <td>Kids</td>\n",
       "      <td>Boys 0-24 Mos</td>\n",
       "      <td>Shoes</td>\n",
       "    </tr>\n",
       "    <tr>\n",
       "      <th>1172410</th>\n",
       "      <td>1172410</td>\n",
       "      <td>BRAND NEW - Men's Nike Tank</td>\n",
       "      <td>1</td>\n",
       "      <td>Men/Athletic Apparel/Shirts &amp; Tops</td>\n",
       "      <td>Nike</td>\n",
       "      <td>0.0</td>\n",
       "      <td>1</td>\n",
       "      <td>Tags still attached- Men's Red Nike cut off tank. FREE SHIPPING</td>\n",
       "      <td>Men</td>\n",
       "      <td>Athletic Apparel</td>\n",
       "      <td>Shirts &amp; Tops</td>\n",
       "    </tr>\n",
       "  </tbody>\n",
       "</table>\n",
       "</div>"
      ],
      "text/plain": [
       "         train_id                                  name item_condition_id  \\\n",
       "7116         7116  Nike Dri-Fit High Power Speed Tights                 1   \n",
       "28091       28091              Jordan Cris Shoes Size 2                 1   \n",
       "1172410   1172410           BRAND NEW - Men's Nike Tank                 1   \n",
       "\n",
       "                                          category_name brand_name  price  \\\n",
       "7116     Women/Athletic Apparel/Pants, Tights, Leggings       Nike    0.0   \n",
       "28091                          Kids/Boys 0-24 Mos/Shoes       Nike    0.0   \n",
       "1172410              Men/Athletic Apparel/Shirts & Tops       Nike    0.0   \n",
       "\n",
       "         shipping  \\\n",
       "7116            1   \n",
       "28091           1   \n",
       "1172410         1   \n",
       "\n",
       "                                                        item_description  \\\n",
       "7116            Bought at Nike store in New York, Brand New, Never Worn!   \n",
       "28091                           Bought from another seller and too small   \n",
       "1172410  Tags still attached- Men's Red Nike cut off tank. FREE SHIPPING   \n",
       "\n",
       "        category_L1       category_L2              category_L3  \n",
       "7116          Women  Athletic Apparel  Pants, Tights, Leggings  \n",
       "28091          Kids     Boys 0-24 Mos                    Shoes  \n",
       "1172410         Men  Athletic Apparel            Shirts & Tops  "
      ]
     },
     "execution_count": 74,
     "metadata": {},
     "output_type": "execute_result"
    }
   ],
   "source": [
    "best_free_products_shipping[best_free_products_shipping.brand_name=='Nike']"
   ]
  },
  {
   "cell_type": "code",
   "execution_count": null,
   "metadata": {
    "collapsed": true
   },
   "outputs": [],
   "source": []
  }
 ],
 "metadata": {
  "kernelspec": {
   "display_name": "Python 3",
   "language": "python",
   "name": "python3"
  },
  "language_info": {
   "codemirror_mode": {
    "name": "ipython",
    "version": 3
   },
   "file_extension": ".py",
   "mimetype": "text/x-python",
   "name": "python",
   "nbconvert_exporter": "python",
   "pygments_lexer": "ipython3",
   "version": "3.5.2"
  },
  "widgets": {
   "state": {},
   "version": "1.1.2"
  }
 },
 "nbformat": 4,
 "nbformat_minor": 2
}
